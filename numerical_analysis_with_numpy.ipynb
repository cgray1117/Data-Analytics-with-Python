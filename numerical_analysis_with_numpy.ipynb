{
 "cells": [
  {
   "cell_type": "code",
   "execution_count": 73,
   "metadata": {},
   "outputs": [
    {
     "data": {
      "text/plain": [
       "'Numeric Analysis with Numpy'"
      ]
     },
     "execution_count": 73,
     "metadata": {},
     "output_type": "execute_result"
    }
   ],
   "source": [
    "\"\"\"Numeric Analysis with Numpy\"\"\""
   ]
  },
  {
   "cell_type": "code",
   "execution_count": 74,
   "metadata": {},
   "outputs": [],
   "source": [
    " #!/usr/bin/env python"
   ]
  },
  {
   "cell_type": "markdown",
   "metadata": {},
   "source": [
    "# Lesson 2"
   ]
  },
  {
   "cell_type": "markdown",
   "metadata": {},
   "source": [
    "## Question 1"
   ]
  },
  {
   "cell_type": "code",
   "execution_count": 75,
   "metadata": {},
   "outputs": [],
   "source": [
    "import numpy as np"
   ]
  },
  {
   "cell_type": "markdown",
   "metadata": {},
   "source": [
    "1. Use the randn function to create an array with a dimension of 5X5 and use a for loop to calculate the sum of all elements in the diagonal of the array. (25 points)"
   ]
  },
  {
   "cell_type": "markdown",
   "metadata": {},
   "source": [
    "To begin, I used the randn function to simulate data from the normal distribution."
   ]
  },
  {
   "cell_type": "code",
   "execution_count": 76,
   "metadata": {},
   "outputs": [],
   "source": [
    "np.random.seed(17)\n",
    "x = np.random.randn(5, 5)\n"
   ]
  },
  {
   "cell_type": "code",
   "execution_count": 77,
   "metadata": {},
   "outputs": [],
   "source": [
    "def diag_sum(arr):\n",
    "    \"\"\"Calculate the sum of all elements in the diagonal of an array.\"\"\"\n",
    "    result = 0\n",
    "    for i in range(5):\n",
    "        result += arr[i, i]\n",
    "    return \"The sum of elements in the diagonal of the array is: \", result"
   ]
  },
  {
   "cell_type": "markdown",
   "metadata": {},
   "source": [
    "I applied the `diag_sum()` function on the simulated data, which returned a sum of -3.553."
   ]
  },
  {
   "cell_type": "code",
   "execution_count": 78,
   "metadata": {},
   "outputs": [
    {
     "data": {
      "text/plain": [
       "('The sum of elements in the diagonal of the array is: ', -3.5528347220435976)"
      ]
     },
     "execution_count": 78,
     "metadata": {},
     "output_type": "execute_result"
    }
   ],
   "source": [
    "diag_sum(x)"
   ]
  },
  {
   "cell_type": "markdown",
   "metadata": {},
   "source": [
    "2. Choose any three functions to apply to this array. (25 points)"
   ]
  },
  {
   "cell_type": "code",
   "execution_count": 79,
   "metadata": {},
   "outputs": [
    {
     "name": "stdout",
     "output_type": "stream",
     "text": [
      "-1.854628078806505\n"
     ]
    }
   ],
   "source": [
    "print(x.min())"
   ]
  },
  {
   "cell_type": "markdown",
   "metadata": {},
   "source": [
    "The first function I applied to the array is `min()` to find the smallest value in the data. This returned a value of 1.855."
   ]
  },
  {
   "cell_type": "code",
   "execution_count": 80,
   "metadata": {},
   "outputs": [
    {
     "name": "stdout",
     "output_type": "stream",
     "text": [
      "[ 2.76265890e-01 -5.12370477e-01 -3.19668510e-01 -3.66119953e-01\n",
      " -3.79736126e-01 -7.16424958e-01  8.00234428e-02 -2.89765957e-02\n",
      " -4.30809668e-03  1.88601215e-03  4.09501707e-03  4.71873014e-03\n",
      " -8.58248461e-03  1.18480634e-03  6.39605399e-04 -1.13548014e-03\n",
      " -1.49301619e-03  7.06865598e-04 -7.72059742e-04  1.93036122e-04\n",
      " -1.89618283e-04 -1.95547475e-04 -9.60790791e-05  4.29133944e-05\n",
      " -3.46036482e-05]\n"
     ]
    }
   ],
   "source": [
    "print(x.cumprod())"
   ]
  },
  {
   "cell_type": "markdown",
   "metadata": {},
   "source": [
    "The next function I applied was `cumprod()`. This function calculated the cumulative product of the values. The resulting array can be seen above."
   ]
  },
  {
   "cell_type": "code",
   "execution_count": 81,
   "metadata": {},
   "outputs": [
    {
     "name": "stdout",
     "output_type": "stream",
     "text": [
      "0.05078031173984357\n"
     ]
    }
   ],
   "source": [
    "print(x.mean())"
   ]
  },
  {
   "cell_type": "markdown",
   "metadata": {},
   "source": [
    "The final function I applied to the array was `mean()`. The mean of all values in the data was 0.051."
   ]
  },
  {
   "cell_type": "markdown",
   "metadata": {},
   "source": [
    "## Question 2"
   ]
  },
  {
   "cell_type": "markdown",
   "metadata": {},
   "source": [
    "1. Use x = np.random.randint(0, 1000, size = (10, 10)) to generate 10x10 array and use a for loop to find out how many even numbers are in it. (25 points)"
   ]
  },
  {
   "cell_type": "markdown",
   "metadata": {},
   "source": [
    "For this simulated data, I used `randint` to generate 100 values between 1 and 1000."
   ]
  },
  {
   "cell_type": "code",
   "execution_count": 82,
   "metadata": {},
   "outputs": [],
   "source": [
    "np.random.seed(17)\n",
    "y = np.random.randint(0, 1000, size = (10, 10))"
   ]
  },
  {
   "cell_type": "code",
   "execution_count": 83,
   "metadata": {},
   "outputs": [],
   "source": [
    "def count_even_nums(arr):\n",
    "    \"\"\"Return the count of even numbers in an array.\"\"\"\n",
    "    even_nums = 0\n",
    "    for i in arr:\n",
    "        for j in i:\n",
    "            if j%2==0:\n",
    "                even_nums += 1\n",
    "    return \"There are\", even_nums, \"even numbers in the array.\"\n"
   ]
  },
  {
   "cell_type": "markdown",
   "metadata": {},
   "source": [
    "I applied the `count_even_nums()` function on the simulated data, which returned a total of 42 even numbers."
   ]
  },
  {
   "cell_type": "code",
   "execution_count": 84,
   "metadata": {},
   "outputs": [
    {
     "data": {
      "text/plain": [
       "('There are', 42, 'even numbers in the array.')"
      ]
     },
     "execution_count": 84,
     "metadata": {},
     "output_type": "execute_result"
    }
   ],
   "source": [
    "count_even_nums(y)"
   ]
  },
  {
   "cell_type": "markdown",
   "metadata": {},
   "source": [
    "2. Randomly generate an 8x9 array from a normal distribution with mean = 1, sigma = 0.5. Calculate the mean of elements whose indexes have a relation of (i+j)%5 == 0  (i is row index and j is column index)."
   ]
  },
  {
   "cell_type": "markdown",
   "metadata": {},
   "source": [
    "I used the `normal` function to simulate values from the N(1, 0.5) distribution."
   ]
  },
  {
   "cell_type": "code",
   "execution_count": 85,
   "metadata": {},
   "outputs": [],
   "source": [
    "z = np.random.normal(loc=1, scale=0.5, size=(8, 9))"
   ]
  },
  {
   "cell_type": "code",
   "execution_count": 86,
   "metadata": {},
   "outputs": [],
   "source": [
    "def five_divisible_ind(z):\n",
    "    \"\"\"Calculate the mean of elements in an array whose indexes' sum are divisible by five.\"\"\"\n",
    "    result_arr = np.array([z[i, j] for i in range(8) for j in range(9) if (i+j)%5==0])\n",
    "    return \"For all elements in the array whose indexes sums is divisible by 5, their mean is: \", result_arr.mean()"
   ]
  },
  {
   "cell_type": "markdown",
   "metadata": {},
   "source": [
    "I applied the `five_divisible_ind()` function on the simulated data, which returned a mean of 0.94."
   ]
  },
  {
   "cell_type": "code",
   "execution_count": 87,
   "metadata": {},
   "outputs": [
    {
     "data": {
      "text/plain": [
       "('For all elements in the array whose indexes sums is divisible by 5, their mean is: ',\n",
       " 0.9400481073729212)"
      ]
     },
     "execution_count": 87,
     "metadata": {},
     "output_type": "execute_result"
    }
   ],
   "source": [
    "five_divisible_ind(z)"
   ]
  }
 ],
 "metadata": {
  "kernelspec": {
   "display_name": "base",
   "language": "python",
   "name": "python3"
  },
  "language_info": {
   "codemirror_mode": {
    "name": "ipython",
    "version": 3
   },
   "file_extension": ".py",
   "mimetype": "text/x-python",
   "name": "python",
   "nbconvert_exporter": "python",
   "pygments_lexer": "ipython3",
   "version": "3.11.4"
  }
 },
 "nbformat": 4,
 "nbformat_minor": 2
}
