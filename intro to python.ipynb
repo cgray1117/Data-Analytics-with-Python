{
  "nbformat": 4,
  "nbformat_minor": 0,
  "metadata": {
    "colab": {
      "provenance": []
    },
    "kernelspec": {
      "name": "python3",
      "display_name": "Python 3"
    },
    "language_info": {
      "name": "python"
    }
  },
  "cells": [
    {
      "cell_type": "markdown",
      "source": [
        "## Lesson 1 Assignment"
      ],
      "metadata": {
        "id": "W0bryZ0G74o_"
      }
    },
    {
      "cell_type": "markdown",
      "source": [
        "## Question 1"
      ],
      "metadata": {
        "id": "dcNwlYdG70g7"
      }
    },
    {
      "cell_type": "code",
      "execution_count": 8,
      "metadata": {
        "id": "0tp7ne507LXn"
      },
      "outputs": [],
      "source": [
        "import numpy as np"
      ]
    },
    {
      "cell_type": "code",
      "source": [
        "L1 = []\n",
        "np.random.seed(56)"
      ],
      "metadata": {
        "id": "-nolRxDR7PZp"
      },
      "execution_count": 9,
      "outputs": []
    },
    {
      "cell_type": "code",
      "source": [
        "for i in np.random.randint(0, 100, 10):\n",
        "  L1.extend([i] * np.random.randint(0, 100, 1)[0])\n",
        "np.random.shuffle(L1)"
      ],
      "metadata": {
        "id": "uXWV3w8d7Sz0"
      },
      "execution_count": 10,
      "outputs": []
    },
    {
      "cell_type": "markdown",
      "source": [
        "1. What are the unique values? (5 points)\n",
        "\n"
      ],
      "metadata": {
        "id": "hzdM2x3y773_"
      }
    },
    {
      "cell_type": "code",
      "source": [
        "print(set(L1))"
      ],
      "metadata": {
        "colab": {
          "base_uri": "https://localhost:8080/"
        },
        "id": "0I6bxqcH8HyY",
        "outputId": "ededfde2-f72d-430f-d9d3-9b067e476f19"
      },
      "execution_count": 12,
      "outputs": [
        {
          "output_type": "stream",
          "name": "stdout",
          "text": [
            "{64, 34, 14, 15, 55, 22, 87, 85, 57, 90}\n"
          ]
        }
      ]
    },
    {
      "cell_type": "markdown",
      "source": [
        "2. How many unique values? (5 points)"
      ],
      "metadata": {
        "id": "9PnUKV1g9DDE"
      }
    },
    {
      "cell_type": "code",
      "source": [
        "print(len(set(L1)))"
      ],
      "metadata": {
        "colab": {
          "base_uri": "https://localhost:8080/"
        },
        "id": "O_k6JrJs7tAX",
        "outputId": "d8c683cb-304b-4d16-cf26-7ce59daef3fe"
      },
      "execution_count": 13,
      "outputs": [
        {
          "output_type": "stream",
          "name": "stdout",
          "text": [
            "10\n"
          ]
        }
      ]
    },
    {
      "cell_type": "markdown",
      "source": [
        "3. Create a dictionary with the unique items in L1 as dictionary keys and their count as the dictionary values. (20 points)"
      ],
      "metadata": {
        "id": "AUCEX5eG9SDM"
      }
    },
    {
      "cell_type": "code",
      "source": [
        "count_dict = {item: L1.count(item) for item in set(L1)}\n",
        "print(count_dict)"
      ],
      "metadata": {
        "colab": {
          "base_uri": "https://localhost:8080/"
        },
        "id": "j7Xv6XJl9VDW",
        "outputId": "2aee1609-a156-4832-b87f-c2a491009b16"
      },
      "execution_count": 15,
      "outputs": [
        {
          "output_type": "stream",
          "name": "stdout",
          "text": [
            "{64: 66, 34: 43, 14: 11, 15: 12, 55: 31, 22: 33, 87: 80, 85: 24, 57: 89, 90: 10}\n"
          ]
        }
      ]
    },
    {
      "cell_type": "markdown",
      "source": [
        "4. Which value appears most frequently? The manual comparison is not acceptable. (10 points)"
      ],
      "metadata": {
        "id": "N3A6K87n-CA7"
      }
    },
    {
      "cell_type": "code",
      "source": [
        "most_freq = [k for k, v in count_dict.items() if v == max(count_dict.values())]\n",
        "print(most_freq[0])"
      ],
      "metadata": {
        "colab": {
          "base_uri": "https://localhost:8080/"
        },
        "id": "n6r4kgfS-GQx",
        "outputId": "0d0f1604-a70f-4b73-8a3f-24313f34d796"
      },
      "execution_count": 23,
      "outputs": [
        {
          "output_type": "stream",
          "name": "stdout",
          "text": [
            "57\n"
          ]
        }
      ]
    },
    {
      "cell_type": "markdown",
      "source": [
        "## Question 2"
      ],
      "metadata": {
        "id": "luLaYW5qBIqB"
      }
    },
    {
      "cell_type": "code",
      "source": [
        "L2 = [879, 394, 235, 580, 628, 81, 206, 238, 927, 853, 622, 603, 110, 143, 824, 324, 343, 506, 634, 325, 258, 900, 960, 286, 449, 890, 921, 170, 888, 851]"
      ],
      "metadata": {
        "id": "ipWaYIgLBLWc"
      },
      "execution_count": 25,
      "outputs": []
    },
    {
      "cell_type": "markdown",
      "source": [
        "1. Use a while loop to calculate the sum of the even numbers in L2. (10 points)"
      ],
      "metadata": {
        "id": "Tl2QFTTPBNJe"
      }
    },
    {
      "cell_type": "code",
      "source": [
        "i = 0\n",
        "sum = 0\n",
        "while i < len(L2):\n",
        "  if L2[i]%2 == 0:\n",
        "    sum += L2[i]\n",
        "  i += 1\n",
        "print(sum)"
      ],
      "metadata": {
        "colab": {
          "base_uri": "https://localhost:8080/"
        },
        "id": "N-kESJ7OBRv7",
        "outputId": "70fb7f15-ae76-4e35-b011-472b444c8c76"
      },
      "execution_count": 27,
      "outputs": [
        {
          "output_type": "stream",
          "name": "stdout",
          "text": [
            "9418\n"
          ]
        }
      ]
    },
    {
      "cell_type": "markdown",
      "source": [
        "2. Write a function to calculate the mean of a list. Use this function to calculate the mean of L2 (10 points)"
      ],
      "metadata": {
        "id": "h_RTAt89B1m7"
      }
    },
    {
      "cell_type": "code",
      "source": [
        "def calc_mean(list):\n",
        "  sum = 0\n",
        "  for i in list:\n",
        "    sum += i\n",
        "  return sum/len(list)"
      ],
      "metadata": {
        "id": "DBEzSL-tB4uV"
      },
      "execution_count": 28,
      "outputs": []
    },
    {
      "cell_type": "code",
      "source": [
        "calc_mean(L2)"
      ],
      "metadata": {
        "colab": {
          "base_uri": "https://localhost:8080/"
        },
        "id": "A8rzY5WYCOMH",
        "outputId": "634d00ff-d2cf-4830-a5f3-976667ee7e40"
      },
      "execution_count": 29,
      "outputs": [
        {
          "output_type": "execute_result",
          "data": {
            "text/plain": [
              "534.2666666666667"
            ]
          },
          "metadata": {},
          "execution_count": 29
        }
      ]
    },
    {
      "cell_type": "markdown",
      "source": [
        "3. Calculate the sum for elements in L2 which is larger than 500. (10 points)"
      ],
      "metadata": {
        "id": "nYvt6-pmCUF-"
      }
    },
    {
      "cell_type": "code",
      "source": [
        "sum_500 = 0\n",
        "for i in L2:\n",
        "  if i > 500:\n",
        "    sum_500 += i\n",
        "print(sum_500)"
      ],
      "metadata": {
        "colab": {
          "base_uri": "https://localhost:8080/"
        },
        "id": "6toya2daCWxk",
        "outputId": "19a611fa-d1d8-487f-cb2b-566a1aaf35dd"
      },
      "execution_count": 31,
      "outputs": [
        {
          "output_type": "stream",
          "name": "stdout",
          "text": [
            "12466\n"
          ]
        }
      ]
    },
    {
      "cell_type": "markdown",
      "source": [
        "## Question 3"
      ],
      "metadata": {
        "id": "ekPH7b_vD8IJ"
      }
    },
    {
      "cell_type": "markdown",
      "source": [
        " 1. Implement the function pow(x, n), which calculates x raised to the power n (xn). Please don't use x**n. (20pts)"
      ],
      "metadata": {
        "id": "GGYKMgC6EAJy"
      }
    },
    {
      "cell_type": "code",
      "source": [
        "def pow(x, n):\n",
        "  result = x\n",
        "  if n > 0:\n",
        "    while n > 1:\n",
        "      result *= x\n",
        "      n -= 1\n",
        "    return result\n",
        "  elif n < 0:\n",
        "    while n < -1:\n",
        "      result *= x\n",
        "      n += 1\n",
        "    return 1/result\n",
        "  return 1"
      ],
      "metadata": {
        "id": "usBDTtFcD0lG"
      },
      "execution_count": 34,
      "outputs": []
    },
    {
      "cell_type": "markdown",
      "source": [
        "2. Calculate pow(2, 10) and pow(3, -3). (10 pts)"
      ],
      "metadata": {
        "id": "leuwek-ZEtC0"
      }
    },
    {
      "cell_type": "code",
      "source": [
        "pow(2, 10)"
      ],
      "metadata": {
        "colab": {
          "base_uri": "https://localhost:8080/"
        },
        "id": "lR8XiwmpEsBK",
        "outputId": "624211b1-2f5b-4e87-be68-d1c47fbd6738"
      },
      "execution_count": 37,
      "outputs": [
        {
          "output_type": "execute_result",
          "data": {
            "text/plain": [
              "1024"
            ]
          },
          "metadata": {},
          "execution_count": 37
        }
      ]
    },
    {
      "cell_type": "code",
      "source": [
        "pow(3, -3)"
      ],
      "metadata": {
        "colab": {
          "base_uri": "https://localhost:8080/"
        },
        "id": "Z5Db_F9IFyz4",
        "outputId": "00b14888-8bf4-4950-87b1-19bfb289f243"
      },
      "execution_count": 38,
      "outputs": [
        {
          "output_type": "execute_result",
          "data": {
            "text/plain": [
              "0.037037037037037035"
            ]
          },
          "metadata": {},
          "execution_count": 38
        }
      ]
    }
  ]
}