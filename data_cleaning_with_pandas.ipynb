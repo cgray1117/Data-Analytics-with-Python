{
 "cells": [
  {
   "cell_type": "code",
   "execution_count": 1090,
   "metadata": {},
   "outputs": [],
   "source": [
    " #!/usr/bin/env python"
   ]
  },
  {
   "cell_type": "markdown",
   "metadata": {},
   "source": [
    "# Lesson 4 Assignment"
   ]
  },
  {
   "cell_type": "code",
   "execution_count": 1091,
   "metadata": {},
   "outputs": [],
   "source": [
    "import pandas as pd"
   ]
  },
  {
   "cell_type": "markdown",
   "metadata": {},
   "source": [
    "## Question 1"
   ]
  },
  {
   "cell_type": "markdown",
   "metadata": {},
   "source": [
    "1. Explore the datasets. (10 points)"
   ]
  },
  {
   "cell_type": "code",
   "execution_count": 1092,
   "metadata": {},
   "outputs": [],
   "source": [
    "data = pd.read_csv('Assignment4_data.csv')"
   ]
  },
  {
   "cell_type": "code",
   "execution_count": 1093,
   "metadata": {},
   "outputs": [
    {
     "data": {
      "text/html": [
       "<div>\n",
       "<style scoped>\n",
       "    .dataframe tbody tr th:only-of-type {\n",
       "        vertical-align: middle;\n",
       "    }\n",
       "\n",
       "    .dataframe tbody tr th {\n",
       "        vertical-align: top;\n",
       "    }\n",
       "\n",
       "    .dataframe thead th {\n",
       "        text-align: right;\n",
       "    }\n",
       "</style>\n",
       "<table border=\"1\" class=\"dataframe\">\n",
       "  <thead>\n",
       "    <tr style=\"text-align: right;\">\n",
       "      <th></th>\n",
       "      <th>one</th>\n",
       "      <th>two</th>\n",
       "      <th>three</th>\n",
       "      <th>four</th>\n",
       "      <th>five</th>\n",
       "      <th>variable</th>\n",
       "    </tr>\n",
       "  </thead>\n",
       "  <tbody>\n",
       "    <tr>\n",
       "      <th>0</th>\n",
       "      <td>-92.0</td>\n",
       "      <td>-76.0</td>\n",
       "      <td>-33.0</td>\n",
       "      <td>3.0</td>\n",
       "      <td>-13.0</td>\n",
       "      <td>B2</td>\n",
       "    </tr>\n",
       "    <tr>\n",
       "      <th>1</th>\n",
       "      <td>-21.0</td>\n",
       "      <td>76.0</td>\n",
       "      <td>38.0</td>\n",
       "      <td>-6.0</td>\n",
       "      <td>80.0</td>\n",
       "      <td>B1</td>\n",
       "    </tr>\n",
       "    <tr>\n",
       "      <th>2</th>\n",
       "      <td>-2.0</td>\n",
       "      <td>-47.0</td>\n",
       "      <td>-34.0</td>\n",
       "      <td>-86.0</td>\n",
       "      <td>-66.0</td>\n",
       "      <td>A1</td>\n",
       "    </tr>\n",
       "    <tr>\n",
       "      <th>3</th>\n",
       "      <td>-76.0</td>\n",
       "      <td>43.0</td>\n",
       "      <td>7.0</td>\n",
       "      <td>-40.0</td>\n",
       "      <td>-42.0</td>\n",
       "      <td>A1</td>\n",
       "    </tr>\n",
       "    <tr>\n",
       "      <th>4</th>\n",
       "      <td>44.0</td>\n",
       "      <td>37.0</td>\n",
       "      <td>-7.0</td>\n",
       "      <td>-14.0</td>\n",
       "      <td>30.0</td>\n",
       "      <td>A1</td>\n",
       "    </tr>\n",
       "    <tr>\n",
       "      <th>...</th>\n",
       "      <td>...</td>\n",
       "      <td>...</td>\n",
       "      <td>...</td>\n",
       "      <td>...</td>\n",
       "      <td>...</td>\n",
       "      <td>...</td>\n",
       "    </tr>\n",
       "    <tr>\n",
       "      <th>195</th>\n",
       "      <td>63.0</td>\n",
       "      <td>3.0</td>\n",
       "      <td>-30.0</td>\n",
       "      <td>-24.0</td>\n",
       "      <td>-59.0</td>\n",
       "      <td>A1</td>\n",
       "    </tr>\n",
       "    <tr>\n",
       "      <th>196</th>\n",
       "      <td>97.0</td>\n",
       "      <td>-48.0</td>\n",
       "      <td>-61.0</td>\n",
       "      <td>-25.0</td>\n",
       "      <td>-21.0</td>\n",
       "      <td>B1</td>\n",
       "    </tr>\n",
       "    <tr>\n",
       "      <th>197</th>\n",
       "      <td>-93.0</td>\n",
       "      <td>-75.0</td>\n",
       "      <td>-18.0</td>\n",
       "      <td>-67.0</td>\n",
       "      <td>-58.0</td>\n",
       "      <td>B1</td>\n",
       "    </tr>\n",
       "    <tr>\n",
       "      <th>198</th>\n",
       "      <td>54.0</td>\n",
       "      <td>-66.0</td>\n",
       "      <td>-80.0</td>\n",
       "      <td>92.0</td>\n",
       "      <td>62.0</td>\n",
       "      <td>A1</td>\n",
       "    </tr>\n",
       "    <tr>\n",
       "      <th>199</th>\n",
       "      <td>82.0</td>\n",
       "      <td>53.0</td>\n",
       "      <td>-77.0</td>\n",
       "      <td>79.0</td>\n",
       "      <td>97.0</td>\n",
       "      <td>B2</td>\n",
       "    </tr>\n",
       "  </tbody>\n",
       "</table>\n",
       "<p>200 rows × 6 columns</p>\n",
       "</div>"
      ],
      "text/plain": [
       "      one   two  three  four  five variable\n",
       "0   -92.0 -76.0  -33.0   3.0 -13.0       B2\n",
       "1   -21.0  76.0   38.0  -6.0  80.0       B1\n",
       "2    -2.0 -47.0  -34.0 -86.0 -66.0       A1\n",
       "3   -76.0  43.0    7.0 -40.0 -42.0       A1\n",
       "4    44.0  37.0   -7.0 -14.0  30.0       A1\n",
       "..    ...   ...    ...   ...   ...      ...\n",
       "195  63.0   3.0  -30.0 -24.0 -59.0       A1\n",
       "196  97.0 -48.0  -61.0 -25.0 -21.0       B1\n",
       "197 -93.0 -75.0  -18.0 -67.0 -58.0       B1\n",
       "198  54.0 -66.0  -80.0  92.0  62.0       A1\n",
       "199  82.0  53.0  -77.0  79.0  97.0       B2\n",
       "\n",
       "[200 rows x 6 columns]"
      ]
     },
     "execution_count": 1093,
     "metadata": {},
     "output_type": "execute_result"
    }
   ],
   "source": [
    "data"
   ]
  },
  {
   "cell_type": "code",
   "execution_count": 1094,
   "metadata": {},
   "outputs": [
    {
     "data": {
      "text/html": [
       "<div>\n",
       "<style scoped>\n",
       "    .dataframe tbody tr th:only-of-type {\n",
       "        vertical-align: middle;\n",
       "    }\n",
       "\n",
       "    .dataframe tbody tr th {\n",
       "        vertical-align: top;\n",
       "    }\n",
       "\n",
       "    .dataframe thead th {\n",
       "        text-align: right;\n",
       "    }\n",
       "</style>\n",
       "<table border=\"1\" class=\"dataframe\">\n",
       "  <thead>\n",
       "    <tr style=\"text-align: right;\">\n",
       "      <th></th>\n",
       "      <th>one</th>\n",
       "      <th>two</th>\n",
       "      <th>three</th>\n",
       "      <th>four</th>\n",
       "      <th>five</th>\n",
       "    </tr>\n",
       "  </thead>\n",
       "  <tbody>\n",
       "    <tr>\n",
       "      <th>count</th>\n",
       "      <td>195.000000</td>\n",
       "      <td>197.000000</td>\n",
       "      <td>199.000000</td>\n",
       "      <td>194.000000</td>\n",
       "      <td>196.000000</td>\n",
       "    </tr>\n",
       "    <tr>\n",
       "      <th>mean</th>\n",
       "      <td>-2.656410</td>\n",
       "      <td>2.208122</td>\n",
       "      <td>2.095477</td>\n",
       "      <td>-2.829897</td>\n",
       "      <td>-2.612245</td>\n",
       "    </tr>\n",
       "    <tr>\n",
       "      <th>std</th>\n",
       "      <td>67.489135</td>\n",
       "      <td>53.116759</td>\n",
       "      <td>101.864120</td>\n",
       "      <td>87.098996</td>\n",
       "      <td>84.158719</td>\n",
       "    </tr>\n",
       "    <tr>\n",
       "      <th>min</th>\n",
       "      <td>-363.000000</td>\n",
       "      <td>-100.000000</td>\n",
       "      <td>-100.000000</td>\n",
       "      <td>-576.000000</td>\n",
       "      <td>-821.000000</td>\n",
       "    </tr>\n",
       "    <tr>\n",
       "      <th>25%</th>\n",
       "      <td>-54.500000</td>\n",
       "      <td>-44.000000</td>\n",
       "      <td>-60.000000</td>\n",
       "      <td>-52.500000</td>\n",
       "      <td>-42.250000</td>\n",
       "    </tr>\n",
       "    <tr>\n",
       "      <th>50%</th>\n",
       "      <td>0.000000</td>\n",
       "      <td>-1.000000</td>\n",
       "      <td>-9.000000</td>\n",
       "      <td>-8.000000</td>\n",
       "      <td>-1.000000</td>\n",
       "    </tr>\n",
       "    <tr>\n",
       "      <th>75%</th>\n",
       "      <td>52.000000</td>\n",
       "      <td>45.000000</td>\n",
       "      <td>45.000000</td>\n",
       "      <td>44.000000</td>\n",
       "      <td>54.250000</td>\n",
       "    </tr>\n",
       "    <tr>\n",
       "      <th>max</th>\n",
       "      <td>97.000000</td>\n",
       "      <td>97.000000</td>\n",
       "      <td>832.000000</td>\n",
       "      <td>728.000000</td>\n",
       "      <td>99.000000</td>\n",
       "    </tr>\n",
       "  </tbody>\n",
       "</table>\n",
       "</div>"
      ],
      "text/plain": [
       "              one         two       three        four        five\n",
       "count  195.000000  197.000000  199.000000  194.000000  196.000000\n",
       "mean    -2.656410    2.208122    2.095477   -2.829897   -2.612245\n",
       "std     67.489135   53.116759  101.864120   87.098996   84.158719\n",
       "min   -363.000000 -100.000000 -100.000000 -576.000000 -821.000000\n",
       "25%    -54.500000  -44.000000  -60.000000  -52.500000  -42.250000\n",
       "50%      0.000000   -1.000000   -9.000000   -8.000000   -1.000000\n",
       "75%     52.000000   45.000000   45.000000   44.000000   54.250000\n",
       "max     97.000000   97.000000  832.000000  728.000000   99.000000"
      ]
     },
     "execution_count": 1094,
     "metadata": {},
     "output_type": "execute_result"
    }
   ],
   "source": [
    "data.describe()"
   ]
  },
  {
   "cell_type": "code",
   "execution_count": 1095,
   "metadata": {},
   "outputs": [
    {
     "name": "stderr",
     "output_type": "stream",
     "text": [
      "/var/folders/lw/3zvwvsp54zsg427dstxg7gq00000gn/T/ipykernel_30614/2627137660.py:1: FutureWarning: The default value of numeric_only in DataFrame.corr is deprecated. In a future version, it will default to False. Select only valid columns or specify the value of numeric_only to silence this warning.\n",
      "  data.corr()\n"
     ]
    },
    {
     "data": {
      "text/html": [
       "<div>\n",
       "<style scoped>\n",
       "    .dataframe tbody tr th:only-of-type {\n",
       "        vertical-align: middle;\n",
       "    }\n",
       "\n",
       "    .dataframe tbody tr th {\n",
       "        vertical-align: top;\n",
       "    }\n",
       "\n",
       "    .dataframe thead th {\n",
       "        text-align: right;\n",
       "    }\n",
       "</style>\n",
       "<table border=\"1\" class=\"dataframe\">\n",
       "  <thead>\n",
       "    <tr style=\"text-align: right;\">\n",
       "      <th></th>\n",
       "      <th>one</th>\n",
       "      <th>two</th>\n",
       "      <th>three</th>\n",
       "      <th>four</th>\n",
       "      <th>five</th>\n",
       "    </tr>\n",
       "  </thead>\n",
       "  <tbody>\n",
       "    <tr>\n",
       "      <th>one</th>\n",
       "      <td>1.000000</td>\n",
       "      <td>0.026397</td>\n",
       "      <td>0.013446</td>\n",
       "      <td>-0.026705</td>\n",
       "      <td>-0.070970</td>\n",
       "    </tr>\n",
       "    <tr>\n",
       "      <th>two</th>\n",
       "      <td>0.026397</td>\n",
       "      <td>1.000000</td>\n",
       "      <td>0.009702</td>\n",
       "      <td>0.003254</td>\n",
       "      <td>0.174418</td>\n",
       "    </tr>\n",
       "    <tr>\n",
       "      <th>three</th>\n",
       "      <td>0.013446</td>\n",
       "      <td>0.009702</td>\n",
       "      <td>1.000000</td>\n",
       "      <td>0.072565</td>\n",
       "      <td>-0.014384</td>\n",
       "    </tr>\n",
       "    <tr>\n",
       "      <th>four</th>\n",
       "      <td>-0.026705</td>\n",
       "      <td>0.003254</td>\n",
       "      <td>0.072565</td>\n",
       "      <td>1.000000</td>\n",
       "      <td>-0.046798</td>\n",
       "    </tr>\n",
       "    <tr>\n",
       "      <th>five</th>\n",
       "      <td>-0.070970</td>\n",
       "      <td>0.174418</td>\n",
       "      <td>-0.014384</td>\n",
       "      <td>-0.046798</td>\n",
       "      <td>1.000000</td>\n",
       "    </tr>\n",
       "  </tbody>\n",
       "</table>\n",
       "</div>"
      ],
      "text/plain": [
       "            one       two     three      four      five\n",
       "one    1.000000  0.026397  0.013446 -0.026705 -0.070970\n",
       "two    0.026397  1.000000  0.009702  0.003254  0.174418\n",
       "three  0.013446  0.009702  1.000000  0.072565 -0.014384\n",
       "four  -0.026705  0.003254  0.072565  1.000000 -0.046798\n",
       "five  -0.070970  0.174418 -0.014384 -0.046798  1.000000"
      ]
     },
     "execution_count": 1095,
     "metadata": {},
     "output_type": "execute_result"
    }
   ],
   "source": [
    "data.corr()"
   ]
  },
  {
   "cell_type": "code",
   "execution_count": 1096,
   "metadata": {},
   "outputs": [
    {
     "name": "stderr",
     "output_type": "stream",
     "text": [
      "/var/folders/lw/3zvwvsp54zsg427dstxg7gq00000gn/T/ipykernel_30614/4020818503.py:1: FutureWarning: The default value of numeric_only in DataFrame.cov is deprecated. In a future version, it will default to False. Select only valid columns or specify the value of numeric_only to silence this warning.\n",
      "  data.cov()\n"
     ]
    },
    {
     "data": {
      "text/html": [
       "<div>\n",
       "<style scoped>\n",
       "    .dataframe tbody tr th:only-of-type {\n",
       "        vertical-align: middle;\n",
       "    }\n",
       "\n",
       "    .dataframe tbody tr th {\n",
       "        vertical-align: top;\n",
       "    }\n",
       "\n",
       "    .dataframe thead th {\n",
       "        text-align: right;\n",
       "    }\n",
       "</style>\n",
       "<table border=\"1\" class=\"dataframe\">\n",
       "  <thead>\n",
       "    <tr style=\"text-align: right;\">\n",
       "      <th></th>\n",
       "      <th>one</th>\n",
       "      <th>two</th>\n",
       "      <th>three</th>\n",
       "      <th>four</th>\n",
       "      <th>five</th>\n",
       "    </tr>\n",
       "  </thead>\n",
       "  <tbody>\n",
       "    <tr>\n",
       "      <th>one</th>\n",
       "      <td>4554.783399</td>\n",
       "      <td>95.107821</td>\n",
       "      <td>93.086961</td>\n",
       "      <td>-158.365417</td>\n",
       "      <td>-405.657840</td>\n",
       "    </tr>\n",
       "    <tr>\n",
       "      <th>two</th>\n",
       "      <td>95.107821</td>\n",
       "      <td>2821.390138</td>\n",
       "      <td>52.918001</td>\n",
       "      <td>15.158942</td>\n",
       "      <td>787.776473</td>\n",
       "    </tr>\n",
       "    <tr>\n",
       "      <th>three</th>\n",
       "      <td>93.086961</td>\n",
       "      <td>52.918001</td>\n",
       "      <td>10376.298919</td>\n",
       "      <td>651.406439</td>\n",
       "      <td>-124.510838</td>\n",
       "    </tr>\n",
       "    <tr>\n",
       "      <th>four</th>\n",
       "      <td>-158.365417</td>\n",
       "      <td>15.158942</td>\n",
       "      <td>651.406439</td>\n",
       "      <td>7586.235164</td>\n",
       "      <td>-277.775439</td>\n",
       "    </tr>\n",
       "    <tr>\n",
       "      <th>five</th>\n",
       "      <td>-405.657840</td>\n",
       "      <td>787.776473</td>\n",
       "      <td>-124.510838</td>\n",
       "      <td>-277.775439</td>\n",
       "      <td>7082.689901</td>\n",
       "    </tr>\n",
       "  </tbody>\n",
       "</table>\n",
       "</div>"
      ],
      "text/plain": [
       "               one          two         three         four         five\n",
       "one    4554.783399    95.107821     93.086961  -158.365417  -405.657840\n",
       "two      95.107821  2821.390138     52.918001    15.158942   787.776473\n",
       "three    93.086961    52.918001  10376.298919   651.406439  -124.510838\n",
       "four   -158.365417    15.158942    651.406439  7586.235164  -277.775439\n",
       "five   -405.657840   787.776473   -124.510838  -277.775439  7082.689901"
      ]
     },
     "execution_count": 1096,
     "metadata": {},
     "output_type": "execute_result"
    }
   ],
   "source": [
    "data.cov()"
   ]
  },
  {
   "cell_type": "markdown",
   "metadata": {},
   "source": [
    "The count of each column tells me there are some missing values in the data. Examining the quartiles shows the wide range and high variance of the values in the data. Each of the columns seem to have very little relation to one another. Although the relationship is weak, columns `two` and `five` have the strongest relationship amongst all other columns."
   ]
  },
  {
   "cell_type": "markdown",
   "metadata": {},
   "source": [
    "2. Find and handle missing values in the data. (It is your choice how you handle the missing data.) ( 20 points)"
   ]
  },
  {
   "cell_type": "code",
   "execution_count": 1097,
   "metadata": {},
   "outputs": [
    {
     "data": {
      "text/plain": [
       "one         5\n",
       "two         3\n",
       "three       1\n",
       "four        6\n",
       "five        4\n",
       "variable    0\n",
       "dtype: int64"
      ]
     },
     "execution_count": 1097,
     "metadata": {},
     "output_type": "execute_result"
    }
   ],
   "source": [
    "data.isnull().sum(axis=0)"
   ]
  },
  {
   "cell_type": "markdown",
   "metadata": {},
   "source": [
    "To identify any missing values, I counted the number of missing values in each column. There were a total of 19 missing values in the entire dataset."
   ]
  },
  {
   "cell_type": "code",
   "execution_count": 1098,
   "metadata": {},
   "outputs": [
    {
     "data": {
      "text/html": [
       "<div>\n",
       "<style scoped>\n",
       "    .dataframe tbody tr th:only-of-type {\n",
       "        vertical-align: middle;\n",
       "    }\n",
       "\n",
       "    .dataframe tbody tr th {\n",
       "        vertical-align: top;\n",
       "    }\n",
       "\n",
       "    .dataframe thead th {\n",
       "        text-align: right;\n",
       "    }\n",
       "</style>\n",
       "<table border=\"1\" class=\"dataframe\">\n",
       "  <thead>\n",
       "    <tr style=\"text-align: right;\">\n",
       "      <th></th>\n",
       "      <th>one</th>\n",
       "      <th>two</th>\n",
       "      <th>three</th>\n",
       "      <th>four</th>\n",
       "      <th>five</th>\n",
       "      <th>variable</th>\n",
       "    </tr>\n",
       "  </thead>\n",
       "  <tbody>\n",
       "    <tr>\n",
       "      <th>0</th>\n",
       "      <td>-92.0</td>\n",
       "      <td>-76.0</td>\n",
       "      <td>-33.0</td>\n",
       "      <td>3.0</td>\n",
       "      <td>-13.0</td>\n",
       "      <td>B2</td>\n",
       "    </tr>\n",
       "    <tr>\n",
       "      <th>1</th>\n",
       "      <td>-21.0</td>\n",
       "      <td>76.0</td>\n",
       "      <td>38.0</td>\n",
       "      <td>-6.0</td>\n",
       "      <td>80.0</td>\n",
       "      <td>B1</td>\n",
       "    </tr>\n",
       "    <tr>\n",
       "      <th>2</th>\n",
       "      <td>-2.0</td>\n",
       "      <td>-47.0</td>\n",
       "      <td>-34.0</td>\n",
       "      <td>-86.0</td>\n",
       "      <td>-66.0</td>\n",
       "      <td>A1</td>\n",
       "    </tr>\n",
       "    <tr>\n",
       "      <th>3</th>\n",
       "      <td>-76.0</td>\n",
       "      <td>43.0</td>\n",
       "      <td>7.0</td>\n",
       "      <td>-40.0</td>\n",
       "      <td>-42.0</td>\n",
       "      <td>A1</td>\n",
       "    </tr>\n",
       "    <tr>\n",
       "      <th>4</th>\n",
       "      <td>44.0</td>\n",
       "      <td>37.0</td>\n",
       "      <td>-7.0</td>\n",
       "      <td>-14.0</td>\n",
       "      <td>30.0</td>\n",
       "      <td>A1</td>\n",
       "    </tr>\n",
       "    <tr>\n",
       "      <th>...</th>\n",
       "      <td>...</td>\n",
       "      <td>...</td>\n",
       "      <td>...</td>\n",
       "      <td>...</td>\n",
       "      <td>...</td>\n",
       "      <td>...</td>\n",
       "    </tr>\n",
       "    <tr>\n",
       "      <th>195</th>\n",
       "      <td>63.0</td>\n",
       "      <td>3.0</td>\n",
       "      <td>-30.0</td>\n",
       "      <td>-24.0</td>\n",
       "      <td>-59.0</td>\n",
       "      <td>A1</td>\n",
       "    </tr>\n",
       "    <tr>\n",
       "      <th>196</th>\n",
       "      <td>97.0</td>\n",
       "      <td>-48.0</td>\n",
       "      <td>-61.0</td>\n",
       "      <td>-25.0</td>\n",
       "      <td>-21.0</td>\n",
       "      <td>B1</td>\n",
       "    </tr>\n",
       "    <tr>\n",
       "      <th>197</th>\n",
       "      <td>-93.0</td>\n",
       "      <td>-75.0</td>\n",
       "      <td>-18.0</td>\n",
       "      <td>-67.0</td>\n",
       "      <td>-58.0</td>\n",
       "      <td>B1</td>\n",
       "    </tr>\n",
       "    <tr>\n",
       "      <th>198</th>\n",
       "      <td>54.0</td>\n",
       "      <td>-66.0</td>\n",
       "      <td>-80.0</td>\n",
       "      <td>92.0</td>\n",
       "      <td>62.0</td>\n",
       "      <td>A1</td>\n",
       "    </tr>\n",
       "    <tr>\n",
       "      <th>199</th>\n",
       "      <td>82.0</td>\n",
       "      <td>53.0</td>\n",
       "      <td>-77.0</td>\n",
       "      <td>79.0</td>\n",
       "      <td>97.0</td>\n",
       "      <td>B2</td>\n",
       "    </tr>\n",
       "  </tbody>\n",
       "</table>\n",
       "<p>200 rows × 6 columns</p>\n",
       "</div>"
      ],
      "text/plain": [
       "      one   two  three  four  five variable\n",
       "0   -92.0 -76.0  -33.0   3.0 -13.0       B2\n",
       "1   -21.0  76.0   38.0  -6.0  80.0       B1\n",
       "2    -2.0 -47.0  -34.0 -86.0 -66.0       A1\n",
       "3   -76.0  43.0    7.0 -40.0 -42.0       A1\n",
       "4    44.0  37.0   -7.0 -14.0  30.0       A1\n",
       "..    ...   ...    ...   ...   ...      ...\n",
       "195  63.0   3.0  -30.0 -24.0 -59.0       A1\n",
       "196  97.0 -48.0  -61.0 -25.0 -21.0       B1\n",
       "197 -93.0 -75.0  -18.0 -67.0 -58.0       B1\n",
       "198  54.0 -66.0  -80.0  92.0  62.0       A1\n",
       "199  82.0  53.0  -77.0  79.0  97.0       B2\n",
       "\n",
       "[200 rows x 6 columns]"
      ]
     },
     "execution_count": 1098,
     "metadata": {},
     "output_type": "execute_result"
    }
   ],
   "source": [
    "data.dropna(how='all')\n"
   ]
  },
  {
   "cell_type": "markdown",
   "metadata": {},
   "source": [
    "First, I decided that any row that had data missing in all columns should be dropped. There didnt appear to be any such row so I used another approach. Given the large variance of each column, I didnt feel it was appropriate to replace all missing values with its column's mean or zero. Instead, I chose to use fill any missing values with the value at the same column but previous row. "
   ]
  },
  {
   "cell_type": "code",
   "execution_count": 1099,
   "metadata": {},
   "outputs": [],
   "source": [
    "data = data.fillna(method='ffill')"
   ]
  },
  {
   "cell_type": "code",
   "execution_count": 1100,
   "metadata": {},
   "outputs": [
    {
     "data": {
      "text/plain": [
       "one         0\n",
       "two         0\n",
       "three       0\n",
       "four        0\n",
       "five        0\n",
       "variable    0\n",
       "dtype: int64"
      ]
     },
     "execution_count": 1100,
     "metadata": {},
     "output_type": "execute_result"
    }
   ],
   "source": [
    "data.isnull().sum(axis=0)"
   ]
  },
  {
   "cell_type": "markdown",
   "metadata": {},
   "source": [
    "Now, there are no more missing values!"
   ]
  },
  {
   "cell_type": "markdown",
   "metadata": {},
   "source": [
    "3. Explore the variable column and convert the \"variable” column to dummy variables and join the dummies to the data. (20 points)"
   ]
  },
  {
   "cell_type": "code",
   "execution_count": 1101,
   "metadata": {},
   "outputs": [
    {
     "data": {
      "text/plain": [
       "A1    59\n",
       "B2    50\n",
       "A2    46\n",
       "B1    45\n",
       "Name: variable, dtype: int64"
      ]
     },
     "execution_count": 1101,
     "metadata": {},
     "output_type": "execute_result"
    }
   ],
   "source": [
    "data.variable.value_counts()"
   ]
  },
  {
   "cell_type": "markdown",
   "metadata": {},
   "source": [
    "We see there are four unique values in the `variable` column and there is a fairly even distribution of rows with each category."
   ]
  },
  {
   "cell_type": "code",
   "execution_count": 1102,
   "metadata": {},
   "outputs": [],
   "source": [
    "dummies = pd.get_dummies(data.variable)"
   ]
  },
  {
   "cell_type": "code",
   "execution_count": 1103,
   "metadata": {},
   "outputs": [
    {
     "data": {
      "text/html": [
       "<div>\n",
       "<style scoped>\n",
       "    .dataframe tbody tr th:only-of-type {\n",
       "        vertical-align: middle;\n",
       "    }\n",
       "\n",
       "    .dataframe tbody tr th {\n",
       "        vertical-align: top;\n",
       "    }\n",
       "\n",
       "    .dataframe thead th {\n",
       "        text-align: right;\n",
       "    }\n",
       "</style>\n",
       "<table border=\"1\" class=\"dataframe\">\n",
       "  <thead>\n",
       "    <tr style=\"text-align: right;\">\n",
       "      <th></th>\n",
       "      <th>one</th>\n",
       "      <th>two</th>\n",
       "      <th>three</th>\n",
       "      <th>four</th>\n",
       "      <th>five</th>\n",
       "      <th>variable</th>\n",
       "      <th>A1</th>\n",
       "      <th>A2</th>\n",
       "      <th>B1</th>\n",
       "      <th>B2</th>\n",
       "    </tr>\n",
       "  </thead>\n",
       "  <tbody>\n",
       "    <tr>\n",
       "      <th>0</th>\n",
       "      <td>-92.0</td>\n",
       "      <td>-76.0</td>\n",
       "      <td>-33.0</td>\n",
       "      <td>3.0</td>\n",
       "      <td>-13.0</td>\n",
       "      <td>B2</td>\n",
       "      <td>0</td>\n",
       "      <td>0</td>\n",
       "      <td>0</td>\n",
       "      <td>1</td>\n",
       "    </tr>\n",
       "    <tr>\n",
       "      <th>1</th>\n",
       "      <td>-21.0</td>\n",
       "      <td>76.0</td>\n",
       "      <td>38.0</td>\n",
       "      <td>-6.0</td>\n",
       "      <td>80.0</td>\n",
       "      <td>B1</td>\n",
       "      <td>0</td>\n",
       "      <td>0</td>\n",
       "      <td>1</td>\n",
       "      <td>0</td>\n",
       "    </tr>\n",
       "    <tr>\n",
       "      <th>2</th>\n",
       "      <td>-2.0</td>\n",
       "      <td>-47.0</td>\n",
       "      <td>-34.0</td>\n",
       "      <td>-86.0</td>\n",
       "      <td>-66.0</td>\n",
       "      <td>A1</td>\n",
       "      <td>1</td>\n",
       "      <td>0</td>\n",
       "      <td>0</td>\n",
       "      <td>0</td>\n",
       "    </tr>\n",
       "    <tr>\n",
       "      <th>3</th>\n",
       "      <td>-76.0</td>\n",
       "      <td>43.0</td>\n",
       "      <td>7.0</td>\n",
       "      <td>-40.0</td>\n",
       "      <td>-42.0</td>\n",
       "      <td>A1</td>\n",
       "      <td>1</td>\n",
       "      <td>0</td>\n",
       "      <td>0</td>\n",
       "      <td>0</td>\n",
       "    </tr>\n",
       "    <tr>\n",
       "      <th>4</th>\n",
       "      <td>44.0</td>\n",
       "      <td>37.0</td>\n",
       "      <td>-7.0</td>\n",
       "      <td>-14.0</td>\n",
       "      <td>30.0</td>\n",
       "      <td>A1</td>\n",
       "      <td>1</td>\n",
       "      <td>0</td>\n",
       "      <td>0</td>\n",
       "      <td>0</td>\n",
       "    </tr>\n",
       "    <tr>\n",
       "      <th>...</th>\n",
       "      <td>...</td>\n",
       "      <td>...</td>\n",
       "      <td>...</td>\n",
       "      <td>...</td>\n",
       "      <td>...</td>\n",
       "      <td>...</td>\n",
       "      <td>...</td>\n",
       "      <td>...</td>\n",
       "      <td>...</td>\n",
       "      <td>...</td>\n",
       "    </tr>\n",
       "    <tr>\n",
       "      <th>195</th>\n",
       "      <td>63.0</td>\n",
       "      <td>3.0</td>\n",
       "      <td>-30.0</td>\n",
       "      <td>-24.0</td>\n",
       "      <td>-59.0</td>\n",
       "      <td>A1</td>\n",
       "      <td>1</td>\n",
       "      <td>0</td>\n",
       "      <td>0</td>\n",
       "      <td>0</td>\n",
       "    </tr>\n",
       "    <tr>\n",
       "      <th>196</th>\n",
       "      <td>97.0</td>\n",
       "      <td>-48.0</td>\n",
       "      <td>-61.0</td>\n",
       "      <td>-25.0</td>\n",
       "      <td>-21.0</td>\n",
       "      <td>B1</td>\n",
       "      <td>0</td>\n",
       "      <td>0</td>\n",
       "      <td>1</td>\n",
       "      <td>0</td>\n",
       "    </tr>\n",
       "    <tr>\n",
       "      <th>197</th>\n",
       "      <td>-93.0</td>\n",
       "      <td>-75.0</td>\n",
       "      <td>-18.0</td>\n",
       "      <td>-67.0</td>\n",
       "      <td>-58.0</td>\n",
       "      <td>B1</td>\n",
       "      <td>0</td>\n",
       "      <td>0</td>\n",
       "      <td>1</td>\n",
       "      <td>0</td>\n",
       "    </tr>\n",
       "    <tr>\n",
       "      <th>198</th>\n",
       "      <td>54.0</td>\n",
       "      <td>-66.0</td>\n",
       "      <td>-80.0</td>\n",
       "      <td>92.0</td>\n",
       "      <td>62.0</td>\n",
       "      <td>A1</td>\n",
       "      <td>1</td>\n",
       "      <td>0</td>\n",
       "      <td>0</td>\n",
       "      <td>0</td>\n",
       "    </tr>\n",
       "    <tr>\n",
       "      <th>199</th>\n",
       "      <td>82.0</td>\n",
       "      <td>53.0</td>\n",
       "      <td>-77.0</td>\n",
       "      <td>79.0</td>\n",
       "      <td>97.0</td>\n",
       "      <td>B2</td>\n",
       "      <td>0</td>\n",
       "      <td>0</td>\n",
       "      <td>0</td>\n",
       "      <td>1</td>\n",
       "    </tr>\n",
       "  </tbody>\n",
       "</table>\n",
       "<p>200 rows × 10 columns</p>\n",
       "</div>"
      ],
      "text/plain": [
       "      one   two  three  four  five variable  A1  A2  B1  B2\n",
       "0   -92.0 -76.0  -33.0   3.0 -13.0       B2   0   0   0   1\n",
       "1   -21.0  76.0   38.0  -6.0  80.0       B1   0   0   1   0\n",
       "2    -2.0 -47.0  -34.0 -86.0 -66.0       A1   1   0   0   0\n",
       "3   -76.0  43.0    7.0 -40.0 -42.0       A1   1   0   0   0\n",
       "4    44.0  37.0   -7.0 -14.0  30.0       A1   1   0   0   0\n",
       "..    ...   ...    ...   ...   ...      ...  ..  ..  ..  ..\n",
       "195  63.0   3.0  -30.0 -24.0 -59.0       A1   1   0   0   0\n",
       "196  97.0 -48.0  -61.0 -25.0 -21.0       B1   0   0   1   0\n",
       "197 -93.0 -75.0  -18.0 -67.0 -58.0       B1   0   0   1   0\n",
       "198  54.0 -66.0  -80.0  92.0  62.0       A1   1   0   0   0\n",
       "199  82.0  53.0  -77.0  79.0  97.0       B2   0   0   0   1\n",
       "\n",
       "[200 rows x 10 columns]"
      ]
     },
     "execution_count": 1103,
     "metadata": {},
     "output_type": "execute_result"
    }
   ],
   "source": [
    "dummy_data = data.join(dummies)\n",
    "dummy_data"
   ]
  },
  {
   "cell_type": "markdown",
   "metadata": {},
   "source": [
    "4. Convert the \"one” column into 3 bins. (20 points)"
   ]
  },
  {
   "cell_type": "code",
   "execution_count": 1104,
   "metadata": {},
   "outputs": [],
   "source": [
    "dummy_data.one = pd.cut(data.one, 3)"
   ]
  },
  {
   "cell_type": "code",
   "execution_count": 1105,
   "metadata": {},
   "outputs": [
    {
     "data": {
      "text/html": [
       "<div>\n",
       "<style scoped>\n",
       "    .dataframe tbody tr th:only-of-type {\n",
       "        vertical-align: middle;\n",
       "    }\n",
       "\n",
       "    .dataframe tbody tr th {\n",
       "        vertical-align: top;\n",
       "    }\n",
       "\n",
       "    .dataframe thead th {\n",
       "        text-align: right;\n",
       "    }\n",
       "</style>\n",
       "<table border=\"1\" class=\"dataframe\">\n",
       "  <thead>\n",
       "    <tr style=\"text-align: right;\">\n",
       "      <th></th>\n",
       "      <th>one</th>\n",
       "      <th>two</th>\n",
       "      <th>three</th>\n",
       "      <th>four</th>\n",
       "      <th>five</th>\n",
       "      <th>variable</th>\n",
       "      <th>A1</th>\n",
       "      <th>A2</th>\n",
       "      <th>B1</th>\n",
       "      <th>B2</th>\n",
       "    </tr>\n",
       "  </thead>\n",
       "  <tbody>\n",
       "    <tr>\n",
       "      <th>0</th>\n",
       "      <td>(-209.667, -56.333]</td>\n",
       "      <td>-76.0</td>\n",
       "      <td>-33.0</td>\n",
       "      <td>3.0</td>\n",
       "      <td>-13.0</td>\n",
       "      <td>B2</td>\n",
       "      <td>0</td>\n",
       "      <td>0</td>\n",
       "      <td>0</td>\n",
       "      <td>1</td>\n",
       "    </tr>\n",
       "    <tr>\n",
       "      <th>1</th>\n",
       "      <td>(-56.333, 97.0]</td>\n",
       "      <td>76.0</td>\n",
       "      <td>38.0</td>\n",
       "      <td>-6.0</td>\n",
       "      <td>80.0</td>\n",
       "      <td>B1</td>\n",
       "      <td>0</td>\n",
       "      <td>0</td>\n",
       "      <td>1</td>\n",
       "      <td>0</td>\n",
       "    </tr>\n",
       "    <tr>\n",
       "      <th>2</th>\n",
       "      <td>(-56.333, 97.0]</td>\n",
       "      <td>-47.0</td>\n",
       "      <td>-34.0</td>\n",
       "      <td>-86.0</td>\n",
       "      <td>-66.0</td>\n",
       "      <td>A1</td>\n",
       "      <td>1</td>\n",
       "      <td>0</td>\n",
       "      <td>0</td>\n",
       "      <td>0</td>\n",
       "    </tr>\n",
       "    <tr>\n",
       "      <th>3</th>\n",
       "      <td>(-209.667, -56.333]</td>\n",
       "      <td>43.0</td>\n",
       "      <td>7.0</td>\n",
       "      <td>-40.0</td>\n",
       "      <td>-42.0</td>\n",
       "      <td>A1</td>\n",
       "      <td>1</td>\n",
       "      <td>0</td>\n",
       "      <td>0</td>\n",
       "      <td>0</td>\n",
       "    </tr>\n",
       "    <tr>\n",
       "      <th>4</th>\n",
       "      <td>(-56.333, 97.0]</td>\n",
       "      <td>37.0</td>\n",
       "      <td>-7.0</td>\n",
       "      <td>-14.0</td>\n",
       "      <td>30.0</td>\n",
       "      <td>A1</td>\n",
       "      <td>1</td>\n",
       "      <td>0</td>\n",
       "      <td>0</td>\n",
       "      <td>0</td>\n",
       "    </tr>\n",
       "    <tr>\n",
       "      <th>...</th>\n",
       "      <td>...</td>\n",
       "      <td>...</td>\n",
       "      <td>...</td>\n",
       "      <td>...</td>\n",
       "      <td>...</td>\n",
       "      <td>...</td>\n",
       "      <td>...</td>\n",
       "      <td>...</td>\n",
       "      <td>...</td>\n",
       "      <td>...</td>\n",
       "    </tr>\n",
       "    <tr>\n",
       "      <th>195</th>\n",
       "      <td>(-56.333, 97.0]</td>\n",
       "      <td>3.0</td>\n",
       "      <td>-30.0</td>\n",
       "      <td>-24.0</td>\n",
       "      <td>-59.0</td>\n",
       "      <td>A1</td>\n",
       "      <td>1</td>\n",
       "      <td>0</td>\n",
       "      <td>0</td>\n",
       "      <td>0</td>\n",
       "    </tr>\n",
       "    <tr>\n",
       "      <th>196</th>\n",
       "      <td>(-56.333, 97.0]</td>\n",
       "      <td>-48.0</td>\n",
       "      <td>-61.0</td>\n",
       "      <td>-25.0</td>\n",
       "      <td>-21.0</td>\n",
       "      <td>B1</td>\n",
       "      <td>0</td>\n",
       "      <td>0</td>\n",
       "      <td>1</td>\n",
       "      <td>0</td>\n",
       "    </tr>\n",
       "    <tr>\n",
       "      <th>197</th>\n",
       "      <td>(-209.667, -56.333]</td>\n",
       "      <td>-75.0</td>\n",
       "      <td>-18.0</td>\n",
       "      <td>-67.0</td>\n",
       "      <td>-58.0</td>\n",
       "      <td>B1</td>\n",
       "      <td>0</td>\n",
       "      <td>0</td>\n",
       "      <td>1</td>\n",
       "      <td>0</td>\n",
       "    </tr>\n",
       "    <tr>\n",
       "      <th>198</th>\n",
       "      <td>(-56.333, 97.0]</td>\n",
       "      <td>-66.0</td>\n",
       "      <td>-80.0</td>\n",
       "      <td>92.0</td>\n",
       "      <td>62.0</td>\n",
       "      <td>A1</td>\n",
       "      <td>1</td>\n",
       "      <td>0</td>\n",
       "      <td>0</td>\n",
       "      <td>0</td>\n",
       "    </tr>\n",
       "    <tr>\n",
       "      <th>199</th>\n",
       "      <td>(-56.333, 97.0]</td>\n",
       "      <td>53.0</td>\n",
       "      <td>-77.0</td>\n",
       "      <td>79.0</td>\n",
       "      <td>97.0</td>\n",
       "      <td>B2</td>\n",
       "      <td>0</td>\n",
       "      <td>0</td>\n",
       "      <td>0</td>\n",
       "      <td>1</td>\n",
       "    </tr>\n",
       "  </tbody>\n",
       "</table>\n",
       "<p>200 rows × 10 columns</p>\n",
       "</div>"
      ],
      "text/plain": [
       "                     one   two  three  four  five variable  A1  A2  B1  B2\n",
       "0    (-209.667, -56.333] -76.0  -33.0   3.0 -13.0       B2   0   0   0   1\n",
       "1        (-56.333, 97.0]  76.0   38.0  -6.0  80.0       B1   0   0   1   0\n",
       "2        (-56.333, 97.0] -47.0  -34.0 -86.0 -66.0       A1   1   0   0   0\n",
       "3    (-209.667, -56.333]  43.0    7.0 -40.0 -42.0       A1   1   0   0   0\n",
       "4        (-56.333, 97.0]  37.0   -7.0 -14.0  30.0       A1   1   0   0   0\n",
       "..                   ...   ...    ...   ...   ...      ...  ..  ..  ..  ..\n",
       "195      (-56.333, 97.0]   3.0  -30.0 -24.0 -59.0       A1   1   0   0   0\n",
       "196      (-56.333, 97.0] -48.0  -61.0 -25.0 -21.0       B1   0   0   1   0\n",
       "197  (-209.667, -56.333] -75.0  -18.0 -67.0 -58.0       B1   0   0   1   0\n",
       "198      (-56.333, 97.0] -66.0  -80.0  92.0  62.0       A1   1   0   0   0\n",
       "199      (-56.333, 97.0]  53.0  -77.0  79.0  97.0       B2   0   0   0   1\n",
       "\n",
       "[200 rows x 10 columns]"
      ]
     },
     "execution_count": 1105,
     "metadata": {},
     "output_type": "execute_result"
    }
   ],
   "source": [
    "dummy_data"
   ]
  },
  {
   "cell_type": "markdown",
   "metadata": {},
   "source": [
    "## Question 2"
   ]
  },
  {
   "cell_type": "markdown",
   "metadata": {},
   "source": [
    "**Use the following speech by the Rev. Dr. Martin Luther King, Jr.:**"
   ]
  },
  {
   "cell_type": "code",
   "execution_count": 1106,
   "metadata": {},
   "outputs": [],
   "source": [
    "s = \"I am happy to join with you today in what will go down in history as the greatest demonstration for freedom in the history of our nation. Five score years ago, a great American, in whose symbolic shadow we stand today, signed the Emancipation Proclamation. This momentous decree came as a great beacon light of hope to millions of Negro slaves who had been seared in the flames of withering injustice. It came as a joyous daybreak to end the long night of their captivity. But one hundred years later, the Negro still is not free. One hundred years later, the life of the Negro is still sadly crippled by the manacles of segregation and the chains of discrimination. One hundred years later, the Negro lives on a lonely island of poverty in the midst of a vast ocean of material prosperity. One hundred years later, the Negro is still languishing in the corners of American society and finds himself an exile in his own land. So we have come here today to dramatize a shameful condition.\""
   ]
  },
  {
   "cell_type": "markdown",
   "metadata": {},
   "source": [
    "1. Find out how many unique words in s. (10 points)"
   ]
  },
  {
   "cell_type": "code",
   "execution_count": 1107,
   "metadata": {},
   "outputs": [],
   "source": [
    "s = s.replace('.', '')\n",
    "s = s.replace(',', '')\n",
    "s = s.lower()"
   ]
  },
  {
   "cell_type": "code",
   "execution_count": 1108,
   "metadata": {},
   "outputs": [
    {
     "data": {
      "text/plain": [
       "'i am happy to join with you today in what will go down in history as the greatest demonstration for freedom in the history of our nation five score years ago a great american in whose symbolic shadow we stand today signed the emancipation proclamation this momentous decree came as a great beacon light of hope to millions of negro slaves who had been seared in the flames of withering injustice it came as a joyous daybreak to end the long night of their captivity but one hundred years later the negro still is not free one hundred years later the life of the negro is still sadly crippled by the manacles of segregation and the chains of discrimination one hundred years later the negro lives on a lonely island of poverty in the midst of a vast ocean of material prosperity one hundred years later the negro is still languishing in the corners of american society and finds himself an exile in his own land so we have come here today to dramatize a shameful condition'"
      ]
     },
     "execution_count": 1108,
     "metadata": {},
     "output_type": "execute_result"
    }
   ],
   "source": [
    "s"
   ]
  },
  {
   "cell_type": "code",
   "execution_count": 1109,
   "metadata": {},
   "outputs": [],
   "source": [
    "def unique_words(text):\n",
    "    \"\"\"Returns number of unique words in a string\"\"\"\n",
    "    words = text.split(' ')\n",
    "    return len(set(words))"
   ]
  },
  {
   "cell_type": "code",
   "execution_count": 1110,
   "metadata": {},
   "outputs": [
    {
     "data": {
      "text/plain": [
       "107"
      ]
     },
     "execution_count": 1110,
     "metadata": {},
     "output_type": "execute_result"
    }
   ],
   "source": [
    "unique_words(s)"
   ]
  },
  {
   "cell_type": "markdown",
   "metadata": {},
   "source": [
    "To find the number of unique words in the paragraph, I defined a function `unique_words()` that uses the `split()` method to convert the string to a list, used `set()` to get the set of distinct values in the list, then returned the set of unique word's length. Using the function on the raw string caused some words to be duplicated because of punctuation and case sensitivity. As a result, I removed any punctuation and made all characters lowercase using the `replace()` and `lower()` methods, respectively. My `unique_words()` returned all unique words and the sum of words which is 107."
   ]
  },
  {
   "cell_type": "markdown",
   "metadata": {},
   "source": [
    "2. Which word appears the most? (10 points)"
   ]
  },
  {
   "cell_type": "code",
   "execution_count": 1111,
   "metadata": {},
   "outputs": [],
   "source": [
    "def most_freq(text):\n",
    "    \"\"\" Returns the most frequent word in a string\"\"\"\n",
    "    unique = list(set(text.split(' ')))\n",
    "    counts = {i:text.count(i) for i in unique}\n",
    "    return (max(counts, key=counts.get), max(counts.values()))"
   ]
  },
  {
   "cell_type": "code",
   "execution_count": 1112,
   "metadata": {},
   "outputs": [
    {
     "data": {
      "text/plain": [
       "('a', 70)"
      ]
     },
     "execution_count": 1112,
     "metadata": {},
     "output_type": "execute_result"
    }
   ],
   "source": [
    "most_freq(s)"
   ]
  },
  {
   "cell_type": "markdown",
   "metadata": {},
   "source": [
    "To find the most frequent word in the paragraph, I defined a function `most_freq()` that gets all unique words using the same method as the `unique_words()` function. Then, I used dictionary comprehension to get the count of each unique word. Finally, I used the built-in `max()` to return the most frequent word and its count. The function returned the word 'a' which appeared 70 times."
   ]
  },
  {
   "cell_type": "markdown",
   "metadata": {},
   "source": [
    "3. How many words start with ‘t’. (10 points)."
   ]
  },
  {
   "cell_type": "code",
   "execution_count": 1113,
   "metadata": {},
   "outputs": [],
   "source": [
    "def start_with_t(str):\n",
    "    \"\"\"Returns the count of words that start with t in a string\"\"\"\n",
    "    unique_t_count = 0\n",
    "    para_t_count = 0\n",
    "    unique = list(set(str.split(' ')))\n",
    "    words = str.split(' ')\n",
    "    for i in unique:\n",
    "        if i.startswith('t'):\n",
    "            unique_t_count += 1\n",
    "    for j in words:\n",
    "        if j.startswith('t'):\n",
    "            para_t_count += 1\n",
    "    return (unique_t_count, para_t_count)"
   ]
  },
  {
   "cell_type": "code",
   "execution_count": 1114,
   "metadata": {},
   "outputs": [
    {
     "data": {
      "text/plain": [
       "(5, 23)"
      ]
     },
     "execution_count": 1114,
     "metadata": {},
     "output_type": "execute_result"
    }
   ],
   "source": [
    "start_with_t(s)"
   ]
  },
  {
   "cell_type": "markdown",
   "metadata": {},
   "source": [
    "My final function `start_with_t()` take a string as input and returns the amount of unique words that starts with 't' and how many total words that appear in the string start with 't'. This function utilizes the built-in string method `startswith()`. My function return the tuple `(5, 23)`, meaning there are 5 unique words that start with 't', and those five words appeared 23 times total within the sentence."
   ]
  }
 ],
 "metadata": {
  "kernelspec": {
   "display_name": "base",
   "language": "python",
   "name": "python3"
  },
  "language_info": {
   "codemirror_mode": {
    "name": "ipython",
    "version": 3
   },
   "file_extension": ".py",
   "mimetype": "text/x-python",
   "name": "python",
   "nbconvert_exporter": "python",
   "pygments_lexer": "ipython3",
   "version": "3.11.4"
  }
 },
 "nbformat": 4,
 "nbformat_minor": 2
}
