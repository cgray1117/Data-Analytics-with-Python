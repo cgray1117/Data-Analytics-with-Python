{
 "cells": [
  {
   "cell_type": "code",
   "execution_count": 539,
   "metadata": {},
   "outputs": [],
   "source": [
    " #!/usr/bin/env python"
   ]
  },
  {
   "cell_type": "code",
   "execution_count": 540,
   "metadata": {},
   "outputs": [
    {
     "data": {
      "text/plain": [
       "'Data Wrangling with Pandas'"
      ]
     },
     "execution_count": 540,
     "metadata": {},
     "output_type": "execute_result"
    }
   ],
   "source": [
    "\"\"\"Data Wrangling with Pandas\"\"\""
   ]
  },
  {
   "cell_type": "markdown",
   "metadata": {},
   "source": [
    "# Lesson 5 Assignment"
   ]
  },
  {
   "cell_type": "code",
   "execution_count": 541,
   "metadata": {},
   "outputs": [],
   "source": [
    "import pandas as pd\n",
    "import matplotlib.pyplot as plt "
   ]
  },
  {
   "cell_type": "code",
   "execution_count": 542,
   "metadata": {},
   "outputs": [],
   "source": [
    "pd.options.display.max_rows = 5000"
   ]
  },
  {
   "cell_type": "markdown",
   "metadata": {},
   "source": [
    "To be able to view the data in its entirety, I set the maximum rows to display to 5000."
   ]
  },
  {
   "cell_type": "markdown",
   "metadata": {},
   "source": [
    "1. Upload Registration.csv and Course_info.xlsx into Pandas. (5 points)"
   ]
  },
  {
   "cell_type": "code",
   "execution_count": 543,
   "metadata": {},
   "outputs": [],
   "source": [
    "reg_data = pd.read_csv('Registration.csv')\n",
    "course_data = pd.read_excel('Course_info.xlsx')"
   ]
  },
  {
   "cell_type": "markdown",
   "metadata": {},
   "source": [
    "2. Explore and clean Registration data. (30 points)"
   ]
  },
  {
   "cell_type": "code",
   "execution_count": null,
   "metadata": {},
   "outputs": [],
   "source": [
    "reg_data"
   ]
  },
  {
   "cell_type": "code",
   "execution_count": 545,
   "metadata": {},
   "outputs": [
    {
     "data": {
      "text/html": [
       "<div>\n",
       "<style scoped>\n",
       "    .dataframe tbody tr th:only-of-type {\n",
       "        vertical-align: middle;\n",
       "    }\n",
       "\n",
       "    .dataframe tbody tr th {\n",
       "        vertical-align: top;\n",
       "    }\n",
       "\n",
       "    .dataframe thead th {\n",
       "        text-align: right;\n",
       "    }\n",
       "</style>\n",
       "<table border=\"1\" class=\"dataframe\">\n",
       "  <thead>\n",
       "    <tr style=\"text-align: right;\">\n",
       "      <th></th>\n",
       "      <th>Student name</th>\n",
       "      <th>semester new</th>\n",
       "      <th>coursename</th>\n",
       "    </tr>\n",
       "  </thead>\n",
       "  <tbody>\n",
       "    <tr>\n",
       "      <th>count</th>\n",
       "      <td>4900</td>\n",
       "      <td>4900</td>\n",
       "      <td>4899</td>\n",
       "    </tr>\n",
       "    <tr>\n",
       "      <th>unique</th>\n",
       "      <td>448</td>\n",
       "      <td>16</td>\n",
       "      <td>168</td>\n",
       "    </tr>\n",
       "    <tr>\n",
       "      <th>top</th>\n",
       "      <td>Ed McMahon</td>\n",
       "      <td>Spring 2002</td>\n",
       "      <td>COMPUT LINEAR ALGEBRA</td>\n",
       "    </tr>\n",
       "    <tr>\n",
       "      <th>freq</th>\n",
       "      <td>52</td>\n",
       "      <td>486</td>\n",
       "      <td>411</td>\n",
       "    </tr>\n",
       "  </tbody>\n",
       "</table>\n",
       "</div>"
      ],
      "text/plain": [
       "       Student name semester new             coursename\n",
       "count          4900         4900                   4899\n",
       "unique          448           16                    168\n",
       "top      Ed McMahon  Spring 2002  COMPUT LINEAR ALGEBRA\n",
       "freq             52          486                    411"
      ]
     },
     "execution_count": 545,
     "metadata": {},
     "output_type": "execute_result"
    }
   ],
   "source": [
    "reg_data.describe()"
   ]
  },
  {
   "cell_type": "markdown",
   "metadata": {},
   "source": [
    "The `describe()` function tells me a little bit about the data. Firstly, there appears to be 4900 rows in each column except `coursename`. I will investigate more into this null value later. Next, there are 448 unique students, 16 different semesters, and 168 unique course names. Finally, the more frequent occurences for each column are Ed McMahon with 52 enrollments, the Spring 2002 semester with 486 enrollments, and COMPUTE LINEAR ALGEBRA with 411 enrollments."
   ]
  },
  {
   "cell_type": "code",
   "execution_count": 546,
   "metadata": {},
   "outputs": [],
   "source": [
    "reg_data.rename(columns={\"Student name\": \"student_name\", \"semester new\": \"semester\", \"coursename\": \"course_name\"}, inplace=True)"
   ]
  },
  {
   "cell_type": "markdown",
   "metadata": {},
   "source": [
    "To make my exploration easier, I will begin by renaming each column using lower case and underscores."
   ]
  },
  {
   "cell_type": "markdown",
   "metadata": {},
   "source": [
    "Next, I would like to visualize the enrollments of each semester. I use the `value_counts()` function to create a dictionary to be used for plotting."
   ]
  },
  {
   "cell_type": "code",
   "execution_count": 547,
   "metadata": {},
   "outputs": [],
   "source": [
    "semester_counts = dict(reg_data.semester.value_counts())\n"
   ]
  },
  {
   "cell_type": "code",
   "execution_count": 548,
   "metadata": {},
   "outputs": [
    {
     "data": {
      "image/png": "[encoded data removed]",
      "text/plain": [
       "<Figure size 640x480 with 1 Axes>"
      ]
     },
     "metadata": {},
     "output_type": "display_data"
    }
   ],
   "source": [
    "fig, ax = plt.subplots()\n",
    "ax = plt.bar(list(semester_counts.keys()), list(semester_counts.values()))\n",
    "plt.title('Student Enrollment by Semester')\n",
    "plt.xlabel('Semester')\n",
    "plt.ylabel('Student Enrollment')\n",
    "plt.xticks(rotation=75)\n",
    "plt.show()"
   ]
  },
  {
   "cell_type": "markdown",
   "metadata": {},
   "source": [
    "The bar chart further supports the fact that Spring 2002 is the most enrolled semester. It also shows that Summer 2003 is the least enrolled semester. Of all enrollment counts, the median appears to be between Summer 2004 and Summer 2002, which have nearly equivalent enrollment. I also observed that Spring semesters seem fairly popular with 80% of all spring semesters having enrollment greater than the median. Contrastingly, summer semester seem to be least popular with 60% of summer semesters having enrollment below the median and the remaining 40% having enrollment very close to the median."
   ]
  },
  {
   "cell_type": "code",
   "execution_count": 549,
   "metadata": {},
   "outputs": [
    {
     "data": {
      "text/plain": [
       "student_name    0\n",
       "semester        0\n",
       "course_name     1\n",
       "dtype: int64"
      ]
     },
     "execution_count": 549,
     "metadata": {},
     "output_type": "execute_result"
    }
   ],
   "source": [
    "reg_data.isnull().sum(axis=0)"
   ]
  },
  {
   "cell_type": "markdown",
   "metadata": {},
   "source": [
    "While investigating null values, I confirm that a null value appears in the column renamed to `course_name`."
   ]
  },
  {
   "cell_type": "code",
   "execution_count": 550,
   "metadata": {},
   "outputs": [
    {
     "data": {
      "text/html": [
       "<div>\n",
       "<style scoped>\n",
       "    .dataframe tbody tr th:only-of-type {\n",
       "        vertical-align: middle;\n",
       "    }\n",
       "\n",
       "    .dataframe tbody tr th {\n",
       "        vertical-align: top;\n",
       "    }\n",
       "\n",
       "    .dataframe thead th {\n",
       "        text-align: right;\n",
       "    }\n",
       "</style>\n",
       "<table border=\"1\" class=\"dataframe\">\n",
       "  <thead>\n",
       "    <tr style=\"text-align: right;\">\n",
       "      <th></th>\n",
       "      <th>student_name</th>\n",
       "      <th>semester</th>\n",
       "      <th>course_name</th>\n",
       "    </tr>\n",
       "  </thead>\n",
       "  <tbody>\n",
       "    <tr>\n",
       "      <th>1650</th>\n",
       "      <td>John Jakes</td>\n",
       "      <td>Summer 2003</td>\n",
       "      <td>NaN</td>\n",
       "    </tr>\n",
       "  </tbody>\n",
       "</table>\n",
       "</div>"
      ],
      "text/plain": [
       "     student_name     semester course_name\n",
       "1650   John Jakes  Summer 2003         NaN"
      ]
     },
     "execution_count": 550,
     "metadata": {},
     "output_type": "execute_result"
    }
   ],
   "source": [
    "reg_data[reg_data.isnull().any(axis=1)]"
   ]
  },
  {
   "cell_type": "code",
   "execution_count": 551,
   "metadata": {},
   "outputs": [
    {
     "data": {
      "text/html": [
       "<div>\n",
       "<style scoped>\n",
       "    .dataframe tbody tr th:only-of-type {\n",
       "        vertical-align: middle;\n",
       "    }\n",
       "\n",
       "    .dataframe tbody tr th {\n",
       "        vertical-align: top;\n",
       "    }\n",
       "\n",
       "    .dataframe thead th {\n",
       "        text-align: right;\n",
       "    }\n",
       "</style>\n",
       "<table border=\"1\" class=\"dataframe\">\n",
       "  <thead>\n",
       "    <tr style=\"text-align: right;\">\n",
       "      <th></th>\n",
       "      <th>student_name</th>\n",
       "      <th>semester</th>\n",
       "      <th>course_name</th>\n",
       "    </tr>\n",
       "  </thead>\n",
       "  <tbody>\n",
       "    <tr>\n",
       "      <th>1648</th>\n",
       "      <td>John Jakes</td>\n",
       "      <td>Summer 2001</td>\n",
       "      <td>FRANCE AND ITS OTHERS: Anthropology and French...</td>\n",
       "    </tr>\n",
       "    <tr>\n",
       "      <th>1649</th>\n",
       "      <td>John Jakes</td>\n",
       "      <td>Spring 2004</td>\n",
       "      <td>AMERICAN FOREIGN POLICY</td>\n",
       "    </tr>\n",
       "    <tr>\n",
       "      <th>1650</th>\n",
       "      <td>John Jakes</td>\n",
       "      <td>Summer 2003</td>\n",
       "      <td>NaN</td>\n",
       "    </tr>\n",
       "    <tr>\n",
       "      <th>1651</th>\n",
       "      <td>John Jakes</td>\n",
       "      <td>Spring 2001</td>\n",
       "      <td>COMPUT LINEAR ALGEBRA</td>\n",
       "    </tr>\n",
       "    <tr>\n",
       "      <th>1652</th>\n",
       "      <td>John Jakes</td>\n",
       "      <td>Spring 2001</td>\n",
       "      <td>Environmental Case Studies</td>\n",
       "    </tr>\n",
       "    <tr>\n",
       "      <th>1653</th>\n",
       "      <td>John Jakes</td>\n",
       "      <td>Spring 2004</td>\n",
       "      <td>ANALYTICAL MECHANICS</td>\n",
       "    </tr>\n",
       "    <tr>\n",
       "      <th>1654</th>\n",
       "      <td>John Jakes</td>\n",
       "      <td>Spring 2005</td>\n",
       "      <td>FR LIT OF THE 19TH C: STUDIES IN THE 19TH C.</td>\n",
       "    </tr>\n",
       "    <tr>\n",
       "      <th>1655</th>\n",
       "      <td>John Jakes</td>\n",
       "      <td>Summer 2000</td>\n",
       "      <td>ANTHROPOLOGY AND CINEMA</td>\n",
       "    </tr>\n",
       "    <tr>\n",
       "      <th>1656</th>\n",
       "      <td>John Jakes</td>\n",
       "      <td>Summer 2000</td>\n",
       "      <td>COMP POL. WELFARE STATE</td>\n",
       "    </tr>\n",
       "    <tr>\n",
       "      <th>1657</th>\n",
       "      <td>John Jakes</td>\n",
       "      <td>Summer 2001</td>\n",
       "      <td>ARCHAEOL GREC-ROM RELIG</td>\n",
       "    </tr>\n",
       "    <tr>\n",
       "      <th>1658</th>\n",
       "      <td>John Jakes</td>\n",
       "      <td>Summer 2002</td>\n",
       "      <td>APPLIED MUSIC</td>\n",
       "    </tr>\n",
       "    <tr>\n",
       "      <th>1659</th>\n",
       "      <td>John Jakes</td>\n",
       "      <td>Summer 2004</td>\n",
       "      <td>AMERICA IN THE 1960S</td>\n",
       "    </tr>\n",
       "    <tr>\n",
       "      <th>1660</th>\n",
       "      <td>John Jakes</td>\n",
       "      <td>Spring 2002</td>\n",
       "      <td>A WORLD AT WAR</td>\n",
       "    </tr>\n",
       "  </tbody>\n",
       "</table>\n",
       "</div>"
      ],
      "text/plain": [
       "     student_name     semester  \\\n",
       "1648   John Jakes  Summer 2001   \n",
       "1649   John Jakes  Spring 2004   \n",
       "1650   John Jakes  Summer 2003   \n",
       "1651   John Jakes  Spring 2001   \n",
       "1652   John Jakes  Spring 2001   \n",
       "1653   John Jakes  Spring 2004   \n",
       "1654   John Jakes  Spring 2005   \n",
       "1655   John Jakes  Summer 2000   \n",
       "1656   John Jakes  Summer 2000   \n",
       "1657   John Jakes  Summer 2001   \n",
       "1658   John Jakes  Summer 2002   \n",
       "1659   John Jakes  Summer 2004   \n",
       "1660   John Jakes  Spring 2002   \n",
       "\n",
       "                                            course_name  \n",
       "1648  FRANCE AND ITS OTHERS: Anthropology and French...  \n",
       "1649                            AMERICAN FOREIGN POLICY  \n",
       "1650                                                NaN  \n",
       "1651                              COMPUT LINEAR ALGEBRA  \n",
       "1652                         Environmental Case Studies  \n",
       "1653                               ANALYTICAL MECHANICS  \n",
       "1654       FR LIT OF THE 19TH C: STUDIES IN THE 19TH C.  \n",
       "1655                            ANTHROPOLOGY AND CINEMA  \n",
       "1656                            COMP POL. WELFARE STATE  \n",
       "1657                            ARCHAEOL GREC-ROM RELIG  \n",
       "1658                                      APPLIED MUSIC  \n",
       "1659                               AMERICA IN THE 1960S  \n",
       "1660                                     A WORLD AT WAR  "
      ]
     },
     "execution_count": 551,
     "metadata": {},
     "output_type": "execute_result"
    }
   ],
   "source": [
    "reg_data[reg_data.student_name == 'John Jakes']"
   ]
  },
  {
   "cell_type": "code",
   "execution_count": 552,
   "metadata": {},
   "outputs": [],
   "source": [
    "reg_data.drop(index=1650, inplace=True)"
   ]
  },
  {
   "cell_type": "markdown",
   "metadata": {},
   "source": [
    "Because row 1650 is the only occurence of John Jake's enrollment in the Summer 2003 semester, I will remove the row entirely."
   ]
  },
  {
   "cell_type": "code",
   "execution_count": 553,
   "metadata": {},
   "outputs": [],
   "source": [
    "reg_data.course_name = reg_data.course_name.str.lower()"
   ]
  },
  {
   "cell_type": "markdown",
   "metadata": {},
   "source": [
    "There are lots of inconsistencies in the `course_name` column. I begin to address this by making the entire column lower case using the `str.lower()` method."
   ]
  },
  {
   "cell_type": "code",
   "execution_count": 554,
   "metadata": {},
   "outputs": [
    {
     "name": "stdout",
     "output_type": "stream",
     "text": [
      "['1000 yrs musical listeng: 1000 yrs musical listeng', '19th-cent british lit', '19th-cent novel', '1st yr classical chin ii', '20th century russian literature: fiction and reality', '20th-cent poetry', 'a world at war', 'abnormal psychology', 'accel intermd portuguese', 'accel intermediate span', 'accelerated hindi', 'accelerated intermd grmn', 'aesthetics', 'afghanistan & islamism: afghanistan & islamism', 'african lang. & culture', 'african-american lit', 'african-american lit: african-amer lit:change', 'afro amer hist 1876-pres', 'amer post-1800: bf sem: modern american cities', 'amer revolution', 'america in the 1960s', 'american foreign policy', 'american healt policy', 'american health policy', 'american musical theatre', 'american poetry', 'american society', 'american south 1861-pres', 'anal meth econ, law med', 'analytical mechanics', 'analyzing the pol world', 'ancient rome', 'animal behavior', 'animal cognition', 'anth & the modern world: afghanistan, iran, pakistan', 'anth of global labor: anthropology of global labor', 'anthropology & cinema', 'anthropology and cinema', 'applied music', 'archaeol grec-rom relig', 'archaeol of private life', 'archaeology of the inca', 'art & religion', 'art - ancient to 1945', 'art - from ancient to 1945', 'art ancient to 1945', 'art and business of film', 'art and religion', 'art, from ancient to 1945', 'art: ancient to 1945', 'asian amer comm fld wrk', 'augustan cultrl revol', 'becoming human', 'beg rdg/wrtg chinese ii', 'behavioral econ & psych', 'behavioral pharmacology', 'being human: being human: biology, culture & human diversity', 'bible in translation: proverbs, ecclesiastes, and job', 'biochemistry research', 'biological chemistry ii', 'britain since 1945', 'british poetry 1660-1914', 'business german - micro perspective', 'business german a micro perspective', 'business german, a micro perspective', 'business german: a micro perspective', 'cel and bio and biochemistry', 'cel bio biochemistry', 'cell and bio and biochemistry', 'cell biol & biochem', 'cell biology & biochem', 'cell biology and biochem', 'cell biology and biochemistry', 'cell. biol. & biochem.', 'cell. biol. and biochem.', 'cognitive psychology', 'comm & the presidency', 'comm and  the presidency', 'comm, childhood, & play', 'communication behavior', 'communications internship', 'communications internshp', 'community based research on health disparities', 'community math teach pro', 'comp pol. welfare state', 'comparative politics', 'comput linear algebra', 'computer linear algebra', 'contemp art - 1945 to present', 'contemp art - 1945 to today', 'contemp art - since 1945', 'contemp art:1945 to present', 'contemporary african art', 'contemporary african-art', 'contemporary pol.thought', 'contemporary socio theor', 'contmp pol,policy,journ', 'conversation & writing', 'conversation and composi', 'creat.non-fiction writ', 'creat.non-fiction writ: peer tutoring', 'creative writing: creat. write: fict/poet', 'creative writing: creat./poetry & non-fict', 'creative writing: writing personal essay', 'crime and detection: dark deeds', 'curr issues global healt', \"dante's divine comedy\", \"devil's pact lit/film\", 'digital media & the city', 'digital photography', 'dna, diet, and disease: the biology of food', 'documentary writing', 'dramaturgy', 'drugs, brain and mind', 'drugs, brain, and mind', 'early cinema', 'early mesopotam hist - soc', 'early mesopotam hist/soc', 'early mesopotamian hist - soc', 'econometric forecasting', 'econometrics', \"edgar allam poe's scien\", 'electromag ii', 'elem biblical hebrew ii', 'elem classical greek ii', 'elem modern hebrew i', 'elem modern hebrew ii', 'elem persian ii', 'elementary arabic ii', 'elementary french i', 'elementary french ii', 'elementary german 1', 'elementary german i', 'energy,oil&global warmin', 'environmental case studies', 'environmental geology', 'environmental studies research seminar for juniors', 'environmental studies research seminar junior level', 'environmental systems ii', 'epic traditions of india', 'eur pre-1800, bf sem, utopia', 'eur pre-1800: bf sem: utopia', 'euro art & civ > 1400: renaissance to contemp', \"euro int'l rel since ww one\", \"euro int'l rel since ww1\", \"euro int'l rel since wwi\", 'euro intell hist 18 c.', 'europe in a wider world', 'evidenced based crime & justice policy', 'evidenced based crime and justice policy', 'experimental writing sem', 'experimental writing sem: the ecology of poetry', 'eye, mind and image', 'feminist theory: feminism, activism, and the body', 'fiction writing workshop', 'food/feast arch of table', 'forensic anthropology', 'formal logic i', 'formal sem and cog sci', 'fr for professions i', 'fr for professions ii', 'fr lit of the 19th c: studies in the 19th c.', 'france & the europ.union', 'france and its others: anthropology and french modernism', 'freedom of expression', 'french phonetics', 'french thought since 1945', 'freshwater ecology']\n"
     ]
    }
   ],
   "source": [
    "course_names = list(reg_data.course_name.unique())\n",
    "course_names.sort()\n",
    "print(course_names)"
   ]
  },
  {
   "cell_type": "markdown",
   "metadata": {},
   "source": [
    "I continued by using the `unique()` method to get all unique course names, then sorting them as a list to easily identify different variations of the same course name. From here, I made a dictionary named `clean_course_names` where each key was a course name and its values are a list of all the variations that appeared for that name."
   ]
  },
  {
   "cell_type": "code",
   "execution_count": 555,
   "metadata": {},
   "outputs": [],
   "source": [
    "course_names_dict = {'cell biology and biochemistry': ['cel and bio and biochemistry', 'cel bio biochemistry', 'cell and bio and biochemistry', 'cell biol & biochem', 'cell biology & biochem', 'cell biology and biochem', 'cell biology and biochemistry', 'cell. biol. & biochem.', 'cell. biol. and biochem.'], \n",
    "                      'business german: a micro perspective': ['business german - micro perspective', 'business german a micro perspective', 'business german, a micro perspective', 'business german: a micro perspective'], \n",
    "                      'american health policy': ['american healt policy'],\n",
    "                      'anthropology and cinema': ['anthropology & cinema'], \n",
    "                      'art: ancient to 1945': ['art - ancient to 1945', 'art - from ancient to 1945', 'art ancient to 1945', 'art, from ancient to 1945'], \n",
    "                      'communications internship': ['communications internshp'], \n",
    "                      'computer linear algebra': ['comput linear algebra'], \n",
    "                      'contemporary art: 1945 to present': ['contemp art - 1945 to present', 'contemp art - 1945 to today', 'contemp art - since 1945', 'contemp art:1945 to present'], \n",
    "                      'contemporary african art': ['contemporary african-art'], \n",
    "                      'drugs, brain, and mind': ['drugs, brain and mind'], \n",
    "                      'early mesopotamian history/society': ['early mesopotam hist - soc', 'early mesopotam hist/soc', 'early mesopotamian hist - soc', 'early mesopotam history/society'], \n",
    "                      'evidenced based crime and justice policy': ['evidenced based crime & justice policy'], \n",
    "                      '19th century british literature': ['19th-cent british lit', '19th-century british literature'], \n",
    "                      'art and religion': ['art & religion'], \n",
    "                      'comm and the presidency': ['comm & the presidency', 'comm and  the presidency'], \n",
    "                      'american south 1861-present': ['american south 1861-present'], \n",
    "                      'experimental writing sem: the ecology of poetry': ['experimental writing sem'], \n",
    "                      'environmental studies research seminar junior level': ['environmental studies research seminar for juniors'], \n",
    "                      'contemporary socio theory': ['contemporary socio theor'], \n",
    "                      'augustan cultural revolution': ['augustan cultral revolution', 'augustan cultrl revol'], \n",
    "                      'french thought since 1945': ['french thought till 1945']\n",
    "                      }"
   ]
  },
  {
   "cell_type": "code",
   "execution_count": 556,
   "metadata": {},
   "outputs": [],
   "source": [
    "def clean_course_names(c_dict, data):\n",
    "    \"\"\"Returns dataframe with cleaned course names as directed by input dictionary.\"\"\"\n",
    "    for c_name in c_dict:\n",
    "        data['course_name'] = data['course_name'].replace(c_dict[c_name], c_name)\n",
    "    return data\n"
   ]
  },
  {
   "cell_type": "code",
   "execution_count": 557,
   "metadata": {},
   "outputs": [],
   "source": [
    "reg_data = clean_course_names(course_names_dict, reg_data)"
   ]
  },
  {
   "cell_type": "code",
   "execution_count": 558,
   "metadata": {},
   "outputs": [
    {
     "name": "stdout",
     "output_type": "stream",
     "text": [
      "137\n",
      "['1000 yrs musical listeng: 1000 yrs musical listeng', '19th century british literature', '19th-cent novel', '1st yr classical chin ii', '20th century russian literature: fiction and reality', '20th-cent poetry', 'a world at war', 'abnormal psychology', 'accel intermd portuguese', 'accel intermediate span', 'accelerated hindi', 'accelerated intermd grmn', 'aesthetics', 'afghanistan & islamism: afghanistan & islamism', 'african lang. & culture', 'african-american lit', 'african-american lit: african-amer lit:change', 'afro amer hist 1876-pres', 'amer post-1800: bf sem: modern american cities', 'amer revolution', 'america in the 1960s', 'american foreign policy', 'american health policy', 'american musical theatre', 'american poetry', 'american society', 'american south 1861-pres', 'anal meth econ, law med', 'analytical mechanics', 'analyzing the pol world', 'ancient rome', 'animal behavior', 'animal cognition', 'anth & the modern world: afghanistan, iran, pakistan', 'anth of global labor: anthropology of global labor', 'anthropology and cinema', 'applied music', 'archaeol grec-rom relig', 'archaeol of private life', 'archaeology of the inca', 'art and business of film', 'art and religion', 'art: ancient to 1945', 'asian amer comm fld wrk', 'augustan cultural revolution', 'becoming human', 'beg rdg/wrtg chinese ii', 'behavioral econ & psych', 'behavioral pharmacology', 'being human: being human: biology, culture & human diversity', 'bible in translation: proverbs, ecclesiastes, and job', 'biochemistry research', 'biological chemistry ii', 'britain since 1945', 'british poetry 1660-1914', 'business german: a micro perspective', 'cell biology and biochemistry', 'cognitive psychology', 'comm and the presidency', 'comm, childhood, & play', 'communication behavior', 'communications internship', 'community based research on health disparities', 'community math teach pro', 'comp pol. welfare state', 'comparative politics', 'computer linear algebra', 'contemporary african art', 'contemporary art: 1945 to present', 'contemporary pol.thought', 'contemporary socio theory', 'contmp pol,policy,journ', 'conversation & writing', 'conversation and composi', 'creat.non-fiction writ', 'creat.non-fiction writ: peer tutoring', 'creative writing: creat. write: fict/poet', 'creative writing: creat./poetry & non-fict', 'creative writing: writing personal essay', 'crime and detection: dark deeds', 'curr issues global healt', \"dante's divine comedy\", \"devil's pact lit/film\", 'digital media & the city', 'digital photography', 'dna, diet, and disease: the biology of food', 'documentary writing', 'dramaturgy', 'drugs, brain, and mind', 'early cinema', 'early mesopotamian history/society', 'econometric forecasting', 'econometrics', \"edgar allam poe's scien\", 'electromag ii', 'elem biblical hebrew ii', 'elem classical greek ii', 'elem modern hebrew i', 'elem modern hebrew ii', 'elem persian ii', 'elementary arabic ii', 'elementary french i', 'elementary french ii', 'elementary german 1', 'elementary german i', 'energy,oil&global warmin', 'environmental case studies', 'environmental geology', 'environmental studies research seminar junior level', 'environmental systems ii', 'epic traditions of india', 'eur pre-1800, bf sem, utopia', 'eur pre-1800: bf sem: utopia', 'euro art & civ > 1400: renaissance to contemp', \"euro int'l rel since ww one\", \"euro int'l rel since ww1\", \"euro int'l rel since wwi\", 'euro intell hist 18 c.', 'europe in a wider world', 'evidenced based crime and justice policy', 'experimental writing sem: the ecology of poetry', 'eye, mind and image', 'feminist theory: feminism, activism, and the body', 'fiction writing workshop', 'food/feast arch of table', 'forensic anthropology', 'formal logic i', 'formal sem and cog sci', 'fr for professions i', 'fr for professions ii', 'fr lit of the 19th c: studies in the 19th c.', 'france & the europ.union', 'france and its others: anthropology and french modernism', 'freedom of expression', 'french phonetics', 'french thought since 1945', 'freshwater ecology']\n"
     ]
    }
   ],
   "source": [
    "course_names = list(reg_data.course_name.unique())\n",
    "course_names.sort()\n",
    "print(len(course_names))\n",
    "print(course_names)"
   ]
  },
  {
   "cell_type": "markdown",
   "metadata": {},
   "source": [
    "After cleaning the course names, there are only 138 uniqe course names versus 168 before cleaning."
   ]
  },
  {
   "cell_type": "markdown",
   "metadata": {},
   "source": [
    "3. Explore and clean Course info data. (10 points)"
   ]
  },
  {
   "cell_type": "code",
   "execution_count": null,
   "metadata": {},
   "outputs": [],
   "source": [
    "course_data"
   ]
  },
  {
   "cell_type": "code",
   "execution_count": 560,
   "metadata": {},
   "outputs": [
    {
     "data": {
      "text/html": [
       "<div>\n",
       "<style scoped>\n",
       "    .dataframe tbody tr th:only-of-type {\n",
       "        vertical-align: middle;\n",
       "    }\n",
       "\n",
       "    .dataframe tbody tr th {\n",
       "        vertical-align: top;\n",
       "    }\n",
       "\n",
       "    .dataframe thead th {\n",
       "        text-align: right;\n",
       "    }\n",
       "</style>\n",
       "<table border=\"1\" class=\"dataframe\">\n",
       "  <thead>\n",
       "    <tr style=\"text-align: right;\">\n",
       "      <th></th>\n",
       "      <th>Course number</th>\n",
       "      <th>Course Name</th>\n",
       "      <th>Course Type</th>\n",
       "    </tr>\n",
       "  </thead>\n",
       "  <tbody>\n",
       "    <tr>\n",
       "      <th>count</th>\n",
       "      <td>42</td>\n",
       "      <td>41</td>\n",
       "      <td>42</td>\n",
       "    </tr>\n",
       "    <tr>\n",
       "      <th>unique</th>\n",
       "      <td>42</td>\n",
       "      <td>40</td>\n",
       "      <td>3</td>\n",
       "    </tr>\n",
       "    <tr>\n",
       "      <th>top</th>\n",
       "      <td>ARTS400</td>\n",
       "      <td>FRANCE &amp; THE EUROP.UNION</td>\n",
       "      <td>E</td>\n",
       "    </tr>\n",
       "    <tr>\n",
       "      <th>freq</th>\n",
       "      <td>1</td>\n",
       "      <td>2</td>\n",
       "      <td>33</td>\n",
       "    </tr>\n",
       "  </tbody>\n",
       "</table>\n",
       "</div>"
      ],
      "text/plain": [
       "       Course number              Course Name  Course Type\n",
       "count             42                        41          42\n",
       "unique            42                        40           3\n",
       "top          ARTS400  FRANCE & THE EUROP.UNION           E\n",
       "freq               1                         2          33"
      ]
     },
     "execution_count": 560,
     "metadata": {},
     "output_type": "execute_result"
    }
   ],
   "source": [
    "course_data.describe()"
   ]
  },
  {
   "cell_type": "markdown",
   "metadata": {},
   "source": [
    "The `describe()` function tells me a little bit about the data. Firstly, there appears to be 42 rows in each column except `Course Name`. I will investigate more into this null value later. Next, there are 42 unique course numbers and 3 different course types. There appears to be a duplicate course name 'FRANCE & THE EUROP.UNION' that appears twice. Finally, the more frequent course type is course type E with 33 course under this categorization."
   ]
  },
  {
   "cell_type": "code",
   "execution_count": 561,
   "metadata": {},
   "outputs": [
    {
     "data": {
      "text/plain": [
       "Index(['Course number', 'Course Name ', 'Course Type'], dtype='object')"
      ]
     },
     "execution_count": 561,
     "metadata": {},
     "output_type": "execute_result"
    }
   ],
   "source": [
    "course_data.columns"
   ]
  },
  {
   "cell_type": "markdown",
   "metadata": {},
   "source": [
    "Similar to the registration data, I renamed each column using lower case and underscores to simplify exploration."
   ]
  },
  {
   "cell_type": "code",
   "execution_count": 562,
   "metadata": {},
   "outputs": [],
   "source": [
    "course_data.rename(columns={\"Course number\": \"course_nbr\", \"Course Name \": \"course_name\", \"Course Type\": \"course_type\"}, inplace=True)"
   ]
  },
  {
   "cell_type": "code",
   "execution_count": 563,
   "metadata": {},
   "outputs": [],
   "source": [
    "course_data.course_name = course_data.course_name.str.lower()"
   ]
  },
  {
   "cell_type": "code",
   "execution_count": 564,
   "metadata": {},
   "outputs": [],
   "source": [
    "course_data.drop(index=36, inplace=True)"
   ]
  },
  {
   "cell_type": "markdown",
   "metadata": {},
   "source": [
    "I removed the duplicate course name."
   ]
  },
  {
   "cell_type": "code",
   "execution_count": 565,
   "metadata": {},
   "outputs": [
    {
     "data": {
      "text/plain": [
       "course_nbr     0\n",
       "course_name    1\n",
       "course_type    0\n",
       "dtype: int64"
      ]
     },
     "execution_count": 565,
     "metadata": {},
     "output_type": "execute_result"
    }
   ],
   "source": [
    "course_data.isnull().sum(axis=0)"
   ]
  },
  {
   "cell_type": "code",
   "execution_count": 566,
   "metadata": {},
   "outputs": [
    {
     "data": {
      "text/html": [
       "<div>\n",
       "<style scoped>\n",
       "    .dataframe tbody tr th:only-of-type {\n",
       "        vertical-align: middle;\n",
       "    }\n",
       "\n",
       "    .dataframe tbody tr th {\n",
       "        vertical-align: top;\n",
       "    }\n",
       "\n",
       "    .dataframe thead th {\n",
       "        text-align: right;\n",
       "    }\n",
       "</style>\n",
       "<table border=\"1\" class=\"dataframe\">\n",
       "  <thead>\n",
       "    <tr style=\"text-align: right;\">\n",
       "      <th></th>\n",
       "      <th>course_nbr</th>\n",
       "      <th>course_name</th>\n",
       "      <th>course_type</th>\n",
       "    </tr>\n",
       "  </thead>\n",
       "  <tbody>\n",
       "    <tr>\n",
       "      <th>31</th>\n",
       "      <td>ARTS567</td>\n",
       "      <td>NaN</td>\n",
       "      <td>E</td>\n",
       "    </tr>\n",
       "  </tbody>\n",
       "</table>\n",
       "</div>"
      ],
      "text/plain": [
       "   course_nbr course_name course_type\n",
       "31   ARTS567          NaN           E"
      ]
     },
     "execution_count": 566,
     "metadata": {},
     "output_type": "execute_result"
    }
   ],
   "source": [
    "course_data[course_data.isnull().any(axis=1)]"
   ]
  },
  {
   "cell_type": "code",
   "execution_count": 567,
   "metadata": {},
   "outputs": [],
   "source": [
    "course_data.drop(index=31, inplace=True)"
   ]
  },
  {
   "cell_type": "markdown",
   "metadata": {},
   "source": [
    "There is no way to know what the course name responding to course number ARTS567 is so I will remove this row."
   ]
  },
  {
   "cell_type": "code",
   "execution_count": 568,
   "metadata": {},
   "outputs": [],
   "source": [
    "course_type_counts = dict(course_data.course_type.value_counts())"
   ]
  },
  {
   "cell_type": "code",
   "execution_count": 569,
   "metadata": {},
   "outputs": [
    {
     "data": {
      "image/png": "[encoded data removed]",
      "text/plain": [
       "<Figure size 640x480 with 1 Axes>"
      ]
     },
     "metadata": {},
     "output_type": "display_data"
    }
   ],
   "source": [
    "fig, ax = plt.subplots()\n",
    "ax = plt.bar(list(course_type_counts.keys()), list(course_type_counts.values()))\n",
    "plt.title('Course Type Counts')\n",
    "plt.xlabel('Course Type')\n",
    "plt.ylabel('# of Courses')\n",
    "#plt.xticks(rotation=75)\n",
    "plt.show()"
   ]
  },
  {
   "cell_type": "markdown",
   "metadata": {},
   "source": [
    "There is a large variance in the distribution of course type counts. There are more than double the amount of course labeled as E type than there are in F and C type courses combined."
   ]
  },
  {
   "cell_type": "code",
   "execution_count": 570,
   "metadata": {},
   "outputs": [],
   "source": [
    "course_data = clean_course_names(course_names_dict, course_data)"
   ]
  },
  {
   "cell_type": "markdown",
   "metadata": {},
   "source": [
    "I applied the `clean_course_names` function to the course data to ensure matching of all courses present in both datasets."
   ]
  },
  {
   "cell_type": "markdown",
   "metadata": {},
   "source": [
    "4. Which course has the highest registration? (15 points)"
   ]
  },
  {
   "cell_type": "code",
   "execution_count": 572,
   "metadata": {},
   "outputs": [
    {
     "data": {
      "text/plain": [
       "computer linear algebra                                         438\n",
       "environmental case studies                                      402\n",
       "a world at war                                                  368\n",
       "behavioral pharmacology                                         354\n",
       "analytical mechanics                                            350\n",
       "contemporary african art                                        290\n",
       "american foreign policy                                         235\n",
       "experimental writing sem: the ecology of poetry                 220\n",
       "american health policy                                          182\n",
       "food/feast arch of table                                        151\n",
       "cell biology and biochemistry                                   109\n",
       "elementary french i                                             102\n",
       "elementary arabic ii                                             80\n",
       "being human: being human: biology, culture & human diversity     75\n",
       "communications internship                                        68\n",
       "art: ancient to 1945                                             67\n",
       "contemporary pol.thought                                         61\n",
       "19th century british literature                                  60\n",
       "freshwater ecology                                               55\n",
       "creative writing: creat. write: fict/poet                        50\n",
       "becoming human                                                   45\n",
       "20th century russian literature: fiction and reality             44\n",
       "britain since 1945                                               44\n",
       "afghanistan & islamism: afghanistan & islamism                   41\n",
       "creative writing: writing personal essay                         40\n",
       "american south 1861-pres                                         36\n",
       "business german: a micro perspective                             36\n",
       "accelerated intermd grmn                                         35\n",
       "beg rdg/wrtg chinese ii                                          33\n",
       "comparative politics                                             32\n",
       "curr issues global healt                                         28\n",
       "elementary french ii                                             28\n",
       "eye, mind and image                                              26\n",
       "biological chemistry ii                                          26\n",
       "american poetry                                                  25\n",
       "econometrics                                                     24\n",
       "british poetry 1660-1914                                         24\n",
       "environmental systems ii                                         24\n",
       "contemporary art: 1945 to present                                24\n",
       "france & the europ.union                                         23\n",
       "environmental studies research seminar junior level              21\n",
       "digital media & the city                                         21\n",
       "crime and detection: dark deeds                                  21\n",
       "anth of global labor: anthropology of global labor               20\n",
       "african-american lit: african-amer lit:change                    20\n",
       "eur pre-1800: bf sem: utopia                                     19\n",
       "behavioral econ & psych                                          19\n",
       "econometric forecasting                                          18\n",
       "europe in a wider world                                          17\n",
       "aesthetics                                                       16\n",
       "evidenced based crime and justice policy                         16\n",
       "devil's pact lit/film                                            16\n",
       "afro amer hist 1876-pres                                         14\n",
       "fiction writing workshop                                         14\n",
       "creat.non-fiction writ                                           14\n",
       "augustan cultural revolution                                     13\n",
       "edgar allam poe's scien                                          13\n",
       "formal logic i                                                   12\n",
       "early mesopotamian history/society                               11\n",
       "dna, diet, and disease: the biology of food                      11\n",
       "art and religion                                                 11\n",
       "abnormal psychology                                              11\n",
       "french thought since 1945                                        10\n",
       "analyzing the pol world                                          10\n",
       "bible in translation: proverbs, ecclesiastes, and job             8\n",
       "comm and the presidency                                           8\n",
       "feminist theory: feminism, activism, and the body                 7\n",
       "elem modern hebrew i                                              7\n",
       "fr for professions i                                              7\n",
       "19th-cent novel                                                   6\n",
       "elementary german i                                               6\n",
       "contmp pol,policy,journ                                           6\n",
       "drugs, brain, and mind                                            5\n",
       "eur pre-1800, bf sem, utopia                                      5\n",
       "community math teach pro                                          5\n",
       "epic traditions of india                                          5\n",
       "french phonetics                                                  5\n",
       "anal meth econ, law med                                           4\n",
       "elem persian ii                                                   4\n",
       "electromag ii                                                     4\n",
       "communication behavior                                            3\n",
       "dramaturgy                                                        3\n",
       "archaeol of private life                                          3\n",
       "euro intell hist 18 c.                                            3\n",
       "20th-cent poetry                                                  3\n",
       "formal sem and cog sci                                            3\n",
       "ancient rome                                                      2\n",
       "1st yr classical chin ii                                          2\n",
       "american musical theatre                                          2\n",
       "early cinema                                                      2\n",
       "environmental geology                                             2\n",
       "documentary writing                                               2\n",
       "conversation & writing                                            2\n",
       "digital photography                                               2\n",
       "amer post-1800: bf sem: modern american cities                    2\n",
       "anth & the modern world: afghanistan, iran, pakistan              2\n",
       "euro art & civ > 1400: renaissance to contemp                     2\n",
       "anthropology and cinema                                           2\n",
       "biochemistry research                                             2\n",
       "elementary german 1                                               2\n",
       "accelerated hindi                                                 2\n",
       "america in the 1960s                                              1\n",
       "african lang. & culture                                           1\n",
       "comm, childhood, & play                                           1\n",
       "animal cognition                                                  1\n",
       "elem modern hebrew ii                                             1\n",
       "euro int'l rel since ww1                                          1\n",
       "accel intermediate span                                           1\n",
       "accel intermd portuguese                                          1\n",
       "euro int'l rel since wwi                                          1\n",
       "community based research on health disparities                    1\n",
       "conversation and composi                                          1\n",
       "amer revolution                                                   1\n",
       "euro int'l rel since ww one                                       1\n",
       "1000 yrs musical listeng: 1000 yrs musical listeng                1\n",
       "cognitive psychology                                              1\n",
       "art and business of film                                          1\n",
       "energy,oil&global warmin                                          1\n",
       "dante's divine comedy                                             1\n",
       "american society                                                  1\n",
       "elem biblical hebrew ii                                           1\n",
       "freedom of expression                                             1\n",
       "archaeol grec-rom relig                                           1\n",
       "comp pol. welfare state                                           1\n",
       "fr lit of the 19th c: studies in the 19th c.                      1\n",
       "france and its others: anthropology and french modernism          1\n",
       "archaeology of the inca                                           1\n",
       "asian amer comm fld wrk                                           1\n",
       "fr for professions ii                                             1\n",
       "elem classical greek ii                                           1\n",
       "animal behavior                                                   1\n",
       "african-american lit                                              1\n",
       "forensic anthropology                                             1\n",
       "creative writing: creat./poetry & non-fict                        1\n",
       "contemporary socio theory                                         1\n",
       "applied music                                                     1\n",
       "creat.non-fiction writ: peer tutoring                             1\n",
       "Name: course_name, dtype: int64"
      ]
     },
     "execution_count": 572,
     "metadata": {},
     "output_type": "execute_result"
    }
   ],
   "source": [
    "reg_data.course_name.value_counts()"
   ]
  },
  {
   "cell_type": "markdown",
   "metadata": {},
   "source": [
    "Computer linear algebra is the highest registered course with 438 enrollments."
   ]
  },
  {
   "cell_type": "markdown",
   "metadata": {},
   "source": [
    "5. Inner join two datasets. (20 points)"
   ]
  },
  {
   "cell_type": "code",
   "execution_count": 573,
   "metadata": {},
   "outputs": [],
   "source": [
    "full_data = pd.merge(reg_data, course_data, on='course_name')"
   ]
  },
  {
   "cell_type": "markdown",
   "metadata": {},
   "source": [
    "To inner join both data sets, I used the `merge()` function from the pandas librarym which has a default join method of inner. I used the course name as the column to join both datasets."
   ]
  },
  {
   "cell_type": "markdown",
   "metadata": {},
   "source": [
    "6. Create a data frame with student names as the index, course numbers as columns, and if the student registered a course as values (0, 1). (20 points)"
   ]
  },
  {
   "cell_type": "code",
   "execution_count": 581,
   "metadata": {},
   "outputs": [],
   "source": [
    "dummies = pd.get_dummies(full_data.course_nbr)"
   ]
  },
  {
   "cell_type": "markdown",
   "metadata": {},
   "source": [
    "Firstly, I created the dummy data using only the `course_nbr` column. This step maintained the indices of the data so in the next step, I was able to join the dummy data with the student_name on the indices of both dataframes."
   ]
  },
  {
   "cell_type": "code",
   "execution_count": 587,
   "metadata": {},
   "outputs": [],
   "source": [
    "final_data = pd.merge(full_data.student_name, dummies, left_index=True, right_index=True)"
   ]
  },
  {
   "cell_type": "markdown",
   "metadata": {},
   "source": [
    "Next, I grouped the data by the student_name and applied the `max()` method to only have one row per student and still show all their enrollments."
   ]
  },
  {
   "cell_type": "code",
   "execution_count": null,
   "metadata": {},
   "outputs": [],
   "source": [
    "final_data = final_data.groupby(['student_name']).max()"
   ]
  },
  {
   "cell_type": "markdown",
   "metadata": {},
   "source": [
    "Finally, I set `student_name` as the index and dropped the column."
   ]
  },
  {
   "cell_type": "code",
   "execution_count": null,
   "metadata": {},
   "outputs": [],
   "source": [
    "final_data.set_index(final_data.student_name, inplace=True, drop=True)"
   ]
  },
  {
   "cell_type": "code",
   "execution_count": null,
   "metadata": {},
   "outputs": [],
   "source": [
    "final_data"
   ]
  }
 ],
 "metadata": {
  "kernelspec": {
   "display_name": "base",
   "language": "python",
   "name": "python3"
  },
  "language_info": {
   "codemirror_mode": {
    "name": "ipython",
    "version": 3
   },
   "file_extension": ".py",
   "mimetype": "text/x-python",
   "name": "python",
   "nbconvert_exporter": "python",
   "pygments_lexer": "ipython3",
   "version": "3.11.4"
  }
 },
 "nbformat": 4,
 "nbformat_minor": 2
}
