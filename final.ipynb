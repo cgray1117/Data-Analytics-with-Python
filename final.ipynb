{
  "cells": [
    {
      "cell_type": "code",
      "execution_count": 1,
      "metadata": {
        "id": "CXD5SzDehovo"
      },
      "outputs": [],
      "source": [
        "#!/usr/bin/env python"
      ]
    },
    {
      "cell_type": "code",
      "execution_count": 2,
      "metadata": {
        "colab": {
          "base_uri": "https://localhost:8080/",
          "height": 35
        },
        "id": "tecfHF5vhuvI",
        "outputId": "80b2c914-31c8-47e0-9841-b63ff7a972d3"
      },
      "outputs": [
        {
          "data": {
            "text/plain": [
              "'Final Exam'"
            ]
          },
          "execution_count": 2,
          "metadata": {},
          "output_type": "execute_result"
        }
      ],
      "source": [
        "\"\"\"Final Exam\"\"\""
      ]
    },
    {
      "cell_type": "code",
      "execution_count": 3,
      "metadata": {
        "id": "9nviq0GMiFMq"
      },
      "outputs": [],
      "source": [
        "import warnings\n",
        "import pandas as pd\n",
        "import numpy as np\n",
        "import matplotlib.pyplot as plt\n",
        "import nltk\n",
        "from sklearn.feature_extraction.text import CountVectorizer\n",
        "from sklearn.model_selection import train_test_split\n",
        "from sklearn.linear_model import LogisticRegression\n",
        "from sklearn.naive_bayes import GaussianNB\n",
        "from sklearn.tree import DecisionTreeClassifier\n",
        "from sklearn.neural_network import MLPClassifier\n",
        "from sklearn.preprocessing import MinMaxScaler\n",
        "from sklearn.metrics import accuracy_score, classification_report, cohen_kappa_score, confusion_matrix, roc_curve, roc_auc_score"
      ]
    },
    {
      "cell_type": "code",
      "execution_count": 4,
      "metadata": {
        "id": "_fbZJ_m1Z9pY"
      },
      "outputs": [],
      "source": [
        "warnings.filterwarnings('ignore')"
      ]
    },
    {
      "cell_type": "markdown",
      "metadata": {
        "id": "xx6hQOh1iexN"
      },
      "source": [
        "# Exam Problem"
      ]
    },
    {
      "cell_type": "markdown",
      "metadata": {
        "id": "hq6-jFlyigRY"
      },
      "source": [
        "A website sent advertisements by email to users who are interested in their product. Your task is to find a good model to predict if an advertisement will be clicked with given datasets."
      ]
    },
    {
      "cell_type": "code",
      "execution_count": 5,
      "metadata": {
        "id": "PT9FvYKaiGxZ"
      },
      "outputs": [],
      "source": [
        "user_data = pd.read_csv('user_features.csv')\n",
        "prod_data = pd.read_csv('product_features.csv')\n",
        "click_data = pd.read_csv('click_history.csv')"
      ]
    },
    {
      "cell_type": "markdown",
      "metadata": {
        "id": "ne3DerJAPDEy"
      },
      "source": [
        "Let's begin by reading in all of our data using `read_csv` from the `pandas` library."
      ]
    },
    {
      "cell_type": "markdown",
      "metadata": {
        "id": "ByXDVQNgim99"
      },
      "source": [
        "## Question 1: Data Understanding"
      ]
    },
    {
      "cell_type": "markdown",
      "metadata": {
        "id": "V9P1NCxpioCz"
      },
      "source": [
        "Explore the basic information of the datasets. (10 points)"
      ]
    },
    {
      "cell_type": "markdown",
      "metadata": {
        "id": "D1UBPdp4pMU2"
      },
      "source": [
        "### User Data"
      ]
    },
    {
      "cell_type": "markdown",
      "metadata": {
        "id": "p3P6K-B4PPlp"
      },
      "source": [
        "We'll explore all of our dataframes one by one, starting with the user data."
      ]
    },
    {
      "cell_type": "code",
      "execution_count": 6,
      "metadata": {
        "colab": {
          "base_uri": "https://localhost:8080/",
          "height": 206
        },
        "id": "2FiBZnLFjKIi",
        "outputId": "4ae810db-1019-4ef9-df26-1b47170c9008"
      },
      "outputs": [
        {
          "data": {
            "text/html": [
              "<div>\n",
              "<style scoped>\n",
              "    .dataframe tbody tr th:only-of-type {\n",
              "        vertical-align: middle;\n",
              "    }\n",
              "\n",
              "    .dataframe tbody tr th {\n",
              "        vertical-align: top;\n",
              "    }\n",
              "\n",
              "    .dataframe thead th {\n",
              "        text-align: right;\n",
              "    }\n",
              "</style>\n",
              "<table border=\"1\" class=\"dataframe\">\n",
              "  <thead>\n",
              "    <tr style=\"text-align: right;\">\n",
              "      <th></th>\n",
              "      <th>user_id</th>\n",
              "      <th>number_of_clicks_before</th>\n",
              "      <th>ordered_before</th>\n",
              "      <th>personal_interests</th>\n",
              "    </tr>\n",
              "  </thead>\n",
              "  <tbody>\n",
              "    <tr>\n",
              "      <th>0</th>\n",
              "      <td>104939</td>\n",
              "      <td>2</td>\n",
              "      <td>True</td>\n",
              "      <td>['body', 'makeup', 'nail', 'hand', 'foot', 'me...</td>\n",
              "    </tr>\n",
              "    <tr>\n",
              "      <th>1</th>\n",
              "      <td>101562</td>\n",
              "      <td>2</td>\n",
              "      <td>True</td>\n",
              "      <td>['men_skincare', 'men_fragrance', 'tools', 'sk...</td>\n",
              "    </tr>\n",
              "    <tr>\n",
              "      <th>2</th>\n",
              "      <td>102343</td>\n",
              "      <td>2</td>\n",
              "      <td>True</td>\n",
              "      <td>['tools', 'makeup', 'foot', 'nail']</td>\n",
              "    </tr>\n",
              "    <tr>\n",
              "      <th>3</th>\n",
              "      <td>106728</td>\n",
              "      <td>5</td>\n",
              "      <td>True</td>\n",
              "      <td>['hand', 'men_skincare']</td>\n",
              "    </tr>\n",
              "    <tr>\n",
              "      <th>4</th>\n",
              "      <td>107179</td>\n",
              "      <td>0</td>\n",
              "      <td>True</td>\n",
              "      <td>['makeup', 'body', 'skincare', 'foot', 'men_sk...</td>\n",
              "    </tr>\n",
              "  </tbody>\n",
              "</table>\n",
              "</div>"
            ],
            "text/plain": [
              "   user_id number_of_clicks_before  ordered_before  \\\n",
              "0   104939                       2            True   \n",
              "1   101562                       2            True   \n",
              "2   102343                       2            True   \n",
              "3   106728                       5            True   \n",
              "4   107179                       0            True   \n",
              "\n",
              "                                  personal_interests  \n",
              "0  ['body', 'makeup', 'nail', 'hand', 'foot', 'me...  \n",
              "1  ['men_skincare', 'men_fragrance', 'tools', 'sk...  \n",
              "2                ['tools', 'makeup', 'foot', 'nail']  \n",
              "3                           ['hand', 'men_skincare']  \n",
              "4  ['makeup', 'body', 'skincare', 'foot', 'men_sk...  "
            ]
          },
          "execution_count": 6,
          "metadata": {},
          "output_type": "execute_result"
        }
      ],
      "source": [
        "user_data.head()"
      ]
    },
    {
      "cell_type": "markdown",
      "metadata": {
        "id": "dTicOOtOPXD0"
      },
      "source": [
        "Calling the `head()` method gives us a preview of what the data looks like. We can observe  four columns of the data. `user_id` appears to be a column that uniquely identifies each user. `number_of_clicks_before` display the amount of times the users has clicked a product. `ordered_before` shows if the users has ever placed an order. If the user has placed at least one order, this field will be True, otherwise, is will be False. Finally, `personal_interests` shows the interest of each user. This column holds lists of one or more interests shown by the user."
      ]
    },
    {
      "cell_type": "code",
      "execution_count": 7,
      "metadata": {
        "colab": {
          "base_uri": "https://localhost:8080/"
        },
        "id": "UZL_GIhwjcWI",
        "outputId": "ca34ae47-017f-411d-90f0-6ee5d16a4051"
      },
      "outputs": [
        {
          "name": "stdout",
          "output_type": "stream",
          "text": [
            "(12000, 4)\n",
            "user_id                     int64\n",
            "number_of_clicks_before    object\n",
            "ordered_before               bool\n",
            "personal_interests         object\n",
            "dtype: object\n"
          ]
        }
      ],
      "source": [
        "print(user_data.shape)\n",
        "print(user_data.dtypes)"
      ]
    },
    {
      "cell_type": "markdown",
      "metadata": {
        "id": "-rMkytAQQbp_"
      },
      "source": [
        "Digging a bit deeper into the features of the user data, we can see there are 12,000 rows of data. As we observed from our preview of the data, the data types of our columns include objects, integers, and boolean value. Upon first glance, we could have assumed `number_of_clicks_before` would be an `int64` columns as well. The data type of that column being `object` suggests that we should explore that column more. We can use a histogram to explore the unique values of this column, as well as their frequencies."
      ]
    },
    {
      "cell_type": "code",
      "execution_count": 8,
      "metadata": {
        "colab": {
          "base_uri": "https://localhost:8080/",
          "height": 430
        },
        "id": "gssImkkZqe4e",
        "outputId": "ee76933b-d23b-4094-cdaf-305e41ef8bd0"
      },
      "outputs": [
        {
          "data": {
            "image/png": "[encoded data removed]",
            "text/plain": [
              "<Figure size 640x480 with 1 Axes>"
            ]
          },
          "metadata": {},
          "output_type": "display_data"
        }
      ],
      "source": [
        "user_data.number_of_clicks_before.hist(bins=20)\n",
        "plt.show()"
      ]
    },
    {
      "cell_type": "markdown",
      "metadata": {
        "id": "SBulT2eeRnF3"
      },
      "source": [
        "Taking a look at our histogram, we see there are 7 unique values in the `number_of_clicks_before` column. We can see one of those values are '6+', which caused the data type of the column to be `object` rather than `int64`. We can also notice a small pattern in the frequencies of each value. For example, we can see the values 0, 1, and 2 all have frequencies greater than 2000. However, values 3, 4, and 5 all have frequencies below 1200, with 3 being significantly less frequent than 4 and 5. Since all clicks greater than 6 are grouped into one value, we may want to group the remaining values into bins later on."
      ]
    },
    {
      "cell_type": "markdown",
      "metadata": {
        "id": "mqzOJz_vbaMS"
      },
      "source": [
        "Let's use the `personal_interest` column to see how popular each product category is. We must convert the string of personal interests in each row to a list. From there, we can create a dictionary to store the frequencies of each unique category that appears in the column."
      ]
    },
    {
      "cell_type": "code",
      "execution_count": 9,
      "metadata": {
        "id": "7QkmKvHDWZv0"
      },
      "outputs": [],
      "source": [
        "unique_interests = {}\n",
        "for row, x in enumerate(user_data.personal_interests):\n",
        "  if x == '[]':\n",
        "    pass\n",
        "    user_data.personal_interests.loc[row] = []\n",
        "  else:\n",
        "    string = x.replace('[', '')\n",
        "    string = string.replace(']', '');\n",
        "    string = string.replace(\"'\", '');\n",
        "    new_lst = string.split(', ')\n",
        "    user_data.personal_interests.loc[row] = new_lst\n",
        "    x = new_lst\n",
        "    for i in x:\n",
        "      if i not in unique_interests.keys():\n",
        "        unique_interests[i] = 1\n",
        "      else:\n",
        "        unique_interests[i] += 1"
      ]
    },
    {
      "cell_type": "code",
      "execution_count": 10,
      "metadata": {
        "colab": {
          "base_uri": "https://localhost:8080/"
        },
        "id": "6pAJF1pcZtdt",
        "outputId": "c1860979-a460-4250-cd55-65d8294f34a5"
      },
      "outputs": [
        {
          "name": "stdout",
          "output_type": "stream",
          "text": [
            "{'body': 5442, 'makeup': 5418, 'nail': 5420, 'hand': 5353, 'foot': 5415, 'men_fragrance': 5356, 'fragrance': 5410, 'hair': 5397, 'tools': 5367, 'men_skincare': 5432, 'skincare': 5312}\n"
          ]
        }
      ],
      "source": [
        "print(unique_interests)"
      ]
    },
    {
      "cell_type": "markdown",
      "metadata": {
        "id": "yfFp37D9bxy3"
      },
      "source": [
        "As we can see from our dictionary, the frequencies of each interests are fairly equal to each other. The top three interests appear to be body, nail, and men fragrance."
      ]
    },
    {
      "cell_type": "code",
      "execution_count": 11,
      "metadata": {
        "colab": {
          "base_uri": "https://localhost:8080/"
        },
        "id": "Lb0GJDufqZHU",
        "outputId": "116074da-a46d-4caf-bd94-70a899571138"
      },
      "outputs": [
        {
          "data": {
            "text/plain": [
              "True     8400\n",
              "False    3600\n",
              "Name: ordered_before, dtype: int64"
            ]
          },
          "execution_count": 11,
          "metadata": {},
          "output_type": "execute_result"
        }
      ],
      "source": [
        "user_data.ordered_before.value_counts()"
      ]
    },
    {
      "cell_type": "markdown",
      "metadata": {
        "id": "R8rr3RVmTTic"
      },
      "source": [
        "The value counts of `ordered_before` lets us that 70% of all users in our data have placed an order before. Later on, we will be converting this column to dummy variable to prepare it for our classification."
      ]
    },
    {
      "cell_type": "code",
      "execution_count": 12,
      "metadata": {
        "colab": {
          "base_uri": "https://localhost:8080/",
          "height": 53
        },
        "id": "5CldoccHkpIv",
        "outputId": "32f871db-03b5-4620-c07d-65c9a41a5ee1"
      },
      "outputs": [
        {
          "data": {
            "text/html": [
              "<div>\n",
              "<style scoped>\n",
              "    .dataframe tbody tr th:only-of-type {\n",
              "        vertical-align: middle;\n",
              "    }\n",
              "\n",
              "    .dataframe tbody tr th {\n",
              "        vertical-align: top;\n",
              "    }\n",
              "\n",
              "    .dataframe thead th {\n",
              "        text-align: right;\n",
              "    }\n",
              "</style>\n",
              "<table border=\"1\" class=\"dataframe\">\n",
              "  <thead>\n",
              "    <tr style=\"text-align: right;\">\n",
              "      <th></th>\n",
              "      <th>user_id</th>\n",
              "      <th>number_of_clicks_before</th>\n",
              "      <th>ordered_before</th>\n",
              "      <th>personal_interests</th>\n",
              "    </tr>\n",
              "  </thead>\n",
              "  <tbody>\n",
              "  </tbody>\n",
              "</table>\n",
              "</div>"
            ],
            "text/plain": [
              "Empty DataFrame\n",
              "Columns: [user_id, number_of_clicks_before, ordered_before, personal_interests]\n",
              "Index: []"
            ]
          },
          "execution_count": 12,
          "metadata": {},
          "output_type": "execute_result"
        }
      ],
      "source": [
        "user_data[user_data.drop('personal_interests', axis=1).duplicated()]"
      ]
    },
    {
      "cell_type": "code",
      "execution_count": 13,
      "metadata": {
        "colab": {
          "base_uri": "https://localhost:8080/"
        },
        "id": "fMfDjpthrt1a",
        "outputId": "f3da5a45-de13-4f81-81af-4f479d8c634b"
      },
      "outputs": [
        {
          "data": {
            "text/plain": [
              "dtype('O')"
            ]
          },
          "execution_count": 13,
          "metadata": {},
          "output_type": "execute_result"
        }
      ],
      "source": [
        "user_data.personal_interests.dtype"
      ]
    },
    {
      "cell_type": "markdown",
      "metadata": {
        "id": "cGjC8XNHTp7I"
      },
      "source": [
        "There are not any duplicates present in any of the columns of our data."
      ]
    },
    {
      "cell_type": "code",
      "execution_count": 14,
      "metadata": {
        "colab": {
          "base_uri": "https://localhost:8080/"
        },
        "id": "wSINFrvxVrSX",
        "outputId": "80074aa0-38f7-4165-8a77-73262cd92912"
      },
      "outputs": [
        {
          "data": {
            "text/plain": [
              "user_id                      0\n",
              "number_of_clicks_before    500\n",
              "ordered_before               0\n",
              "personal_interests           0\n",
              "dtype: int64"
            ]
          },
          "execution_count": 14,
          "metadata": {},
          "output_type": "execute_result"
        }
      ],
      "source": [
        "user_data.isnull().sum()"
      ]
    },
    {
      "cell_type": "markdown",
      "metadata": {
        "id": "NSJ4VpkWVuJX"
      },
      "source": [
        "There appears to be 500 null values present in our `number_of_clicks_before` column. In the output below, we can see the specific columns where these values appear."
      ]
    },
    {
      "cell_type": "code",
      "execution_count": 15,
      "metadata": {
        "colab": {
          "base_uri": "https://localhost:8080/",
          "height": 424
        },
        "id": "I7pkMszkVYGK",
        "outputId": "07b98328-2fa3-4a82-a67a-bc505e44b86a"
      },
      "outputs": [
        {
          "data": {
            "text/html": [
              "<div>\n",
              "<style scoped>\n",
              "    .dataframe tbody tr th:only-of-type {\n",
              "        vertical-align: middle;\n",
              "    }\n",
              "\n",
              "    .dataframe tbody tr th {\n",
              "        vertical-align: top;\n",
              "    }\n",
              "\n",
              "    .dataframe thead th {\n",
              "        text-align: right;\n",
              "    }\n",
              "</style>\n",
              "<table border=\"1\" class=\"dataframe\">\n",
              "  <thead>\n",
              "    <tr style=\"text-align: right;\">\n",
              "      <th></th>\n",
              "      <th>user_id</th>\n",
              "      <th>number_of_clicks_before</th>\n",
              "      <th>ordered_before</th>\n",
              "      <th>personal_interests</th>\n",
              "    </tr>\n",
              "  </thead>\n",
              "  <tbody>\n",
              "    <tr>\n",
              "      <th>14</th>\n",
              "      <td>104407</td>\n",
              "      <td>NaN</td>\n",
              "      <td>True</td>\n",
              "      <td>[hair, men_skincare]</td>\n",
              "    </tr>\n",
              "    <tr>\n",
              "      <th>19</th>\n",
              "      <td>110542</td>\n",
              "      <td>NaN</td>\n",
              "      <td>True</td>\n",
              "      <td>[tools, men_skincare, hair, makeup, foot, frag...</td>\n",
              "    </tr>\n",
              "    <tr>\n",
              "      <th>47</th>\n",
              "      <td>107355</td>\n",
              "      <td>NaN</td>\n",
              "      <td>True</td>\n",
              "      <td>[tools, skincare, men_fragrance, hand, fragran...</td>\n",
              "    </tr>\n",
              "    <tr>\n",
              "      <th>70</th>\n",
              "      <td>104763</td>\n",
              "      <td>NaN</td>\n",
              "      <td>True</td>\n",
              "      <td>[nail]</td>\n",
              "    </tr>\n",
              "    <tr>\n",
              "      <th>95</th>\n",
              "      <td>100642</td>\n",
              "      <td>NaN</td>\n",
              "      <td>True</td>\n",
              "      <td>[fragrance, men_fragrance, tools, body, nail, ...</td>\n",
              "    </tr>\n",
              "    <tr>\n",
              "      <th>...</th>\n",
              "      <td>...</td>\n",
              "      <td>...</td>\n",
              "      <td>...</td>\n",
              "      <td>...</td>\n",
              "    </tr>\n",
              "    <tr>\n",
              "      <th>11879</th>\n",
              "      <td>111250</td>\n",
              "      <td>NaN</td>\n",
              "      <td>False</td>\n",
              "      <td>[body, tools, skincare, men_skincare, hair, hand]</td>\n",
              "    </tr>\n",
              "    <tr>\n",
              "      <th>11950</th>\n",
              "      <td>106529</td>\n",
              "      <td>NaN</td>\n",
              "      <td>True</td>\n",
              "      <td>[foot, hair, body, nail]</td>\n",
              "    </tr>\n",
              "    <tr>\n",
              "      <th>11957</th>\n",
              "      <td>105968</td>\n",
              "      <td>NaN</td>\n",
              "      <td>True</td>\n",
              "      <td>[]</td>\n",
              "    </tr>\n",
              "    <tr>\n",
              "      <th>11979</th>\n",
              "      <td>102180</td>\n",
              "      <td>NaN</td>\n",
              "      <td>True</td>\n",
              "      <td>[nail, men_skincare, hand, foot]</td>\n",
              "    </tr>\n",
              "    <tr>\n",
              "      <th>11998</th>\n",
              "      <td>107769</td>\n",
              "      <td>NaN</td>\n",
              "      <td>True</td>\n",
              "      <td>[hand, men_skincare, tools, makeup, hair, frag...</td>\n",
              "    </tr>\n",
              "  </tbody>\n",
              "</table>\n",
              "<p>500 rows × 4 columns</p>\n",
              "</div>"
            ],
            "text/plain": [
              "       user_id number_of_clicks_before  ordered_before  \\\n",
              "14      104407                     NaN            True   \n",
              "19      110542                     NaN            True   \n",
              "47      107355                     NaN            True   \n",
              "70      104763                     NaN            True   \n",
              "95      100642                     NaN            True   \n",
              "...        ...                     ...             ...   \n",
              "11879   111250                     NaN           False   \n",
              "11950   106529                     NaN            True   \n",
              "11957   105968                     NaN            True   \n",
              "11979   102180                     NaN            True   \n",
              "11998   107769                     NaN            True   \n",
              "\n",
              "                                      personal_interests  \n",
              "14                                  [hair, men_skincare]  \n",
              "19     [tools, men_skincare, hair, makeup, foot, frag...  \n",
              "47     [tools, skincare, men_fragrance, hand, fragran...  \n",
              "70                                                [nail]  \n",
              "95     [fragrance, men_fragrance, tools, body, nail, ...  \n",
              "...                                                  ...  \n",
              "11879  [body, tools, skincare, men_skincare, hair, hand]  \n",
              "11950                           [foot, hair, body, nail]  \n",
              "11957                                                 []  \n",
              "11979                   [nail, men_skincare, hand, foot]  \n",
              "11998  [hand, men_skincare, tools, makeup, hair, frag...  \n",
              "\n",
              "[500 rows x 4 columns]"
            ]
          },
          "execution_count": 15,
          "metadata": {},
          "output_type": "execute_result"
        }
      ],
      "source": [
        "user_data[user_data.isnull().any(axis=1)]"
      ]
    },
    {
      "cell_type": "markdown",
      "metadata": {
        "id": "U308LpV8V_Z2"
      },
      "source": [
        "Later on, we will replace the null values in the `number_of_clicks_before` column with 0."
      ]
    },
    {
      "cell_type": "markdown",
      "metadata": {
        "id": "w4fkiQTAptqC"
      },
      "source": [
        "### Product Feature Data"
      ]
    },
    {
      "cell_type": "markdown",
      "metadata": {
        "id": "-POObovHdMx_"
      },
      "source": [
        "Next, let's explore our product feature data!"
      ]
    },
    {
      "cell_type": "code",
      "execution_count": 16,
      "metadata": {
        "colab": {
          "base_uri": "https://localhost:8080/",
          "height": 0
        },
        "id": "c-THFoJJjNW2",
        "outputId": "6958a289-f828-4754-bb41-20364bf49668"
      },
      "outputs": [
        {
          "data": {
            "text/html": [
              "<div>\n",
              "<style scoped>\n",
              "    .dataframe tbody tr th:only-of-type {\n",
              "        vertical-align: middle;\n",
              "    }\n",
              "\n",
              "    .dataframe tbody tr th {\n",
              "        vertical-align: top;\n",
              "    }\n",
              "\n",
              "    .dataframe thead th {\n",
              "        text-align: right;\n",
              "    }\n",
              "</style>\n",
              "<table border=\"1\" class=\"dataframe\">\n",
              "  <thead>\n",
              "    <tr style=\"text-align: right;\">\n",
              "      <th></th>\n",
              "      <th>product_id</th>\n",
              "      <th>category</th>\n",
              "      <th>on_sale</th>\n",
              "      <th>number_of_reviews</th>\n",
              "      <th>avg_review_score</th>\n",
              "    </tr>\n",
              "  </thead>\n",
              "  <tbody>\n",
              "    <tr>\n",
              "      <th>0</th>\n",
              "      <td>1134</td>\n",
              "      <td>tools</td>\n",
              "      <td>False</td>\n",
              "      <td>101</td>\n",
              "      <td>3.349452</td>\n",
              "    </tr>\n",
              "    <tr>\n",
              "      <th>1</th>\n",
              "      <td>1846</td>\n",
              "      <td>skincare</td>\n",
              "      <td>False</td>\n",
              "      <td>111</td>\n",
              "      <td>5.000000</td>\n",
              "    </tr>\n",
              "    <tr>\n",
              "      <th>2</th>\n",
              "      <td>1762</td>\n",
              "      <td>fragrance</td>\n",
              "      <td>False</td>\n",
              "      <td>220</td>\n",
              "      <td>4.882706</td>\n",
              "    </tr>\n",
              "    <tr>\n",
              "      <th>3</th>\n",
              "      <td>1254</td>\n",
              "      <td>hair</td>\n",
              "      <td>True</td>\n",
              "      <td>446</td>\n",
              "      <td>5.000000</td>\n",
              "    </tr>\n",
              "    <tr>\n",
              "      <th>4</th>\n",
              "      <td>1493</td>\n",
              "      <td>body</td>\n",
              "      <td>True</td>\n",
              "      <td>513</td>\n",
              "      <td>-1.000000</td>\n",
              "    </tr>\n",
              "  </tbody>\n",
              "</table>\n",
              "</div>"
            ],
            "text/plain": [
              "   product_id   category  on_sale  number_of_reviews  avg_review_score\n",
              "0        1134      tools    False                101          3.349452\n",
              "1        1846   skincare    False                111          5.000000\n",
              "2        1762  fragrance    False                220          4.882706\n",
              "3        1254       hair     True                446          5.000000\n",
              "4        1493       body     True                513         -1.000000"
            ]
          },
          "execution_count": 16,
          "metadata": {},
          "output_type": "execute_result"
        }
      ],
      "source": [
        "prod_data.head()"
      ]
    },
    {
      "cell_type": "markdown",
      "metadata": {
        "id": "ujG3LbbRdrrM"
      },
      "source": [
        "Looking at the preview of our product data, we see there are five columns of mixed data types. Similar to our user data, there is a unique id column named `product_id` to identify each unique product. The `category` column display the category of a specific product. It is worth noting that these categories are the same one present in the `personal_interest` column of our user data. The `on_sale` column indicates whether a product is on sale, True if it is and False otherwise. `number_of_reviews` and `avg_review_score` show how many reviews a product has and its average review score, respectively."
      ]
    },
    {
      "cell_type": "code",
      "execution_count": 17,
      "metadata": {
        "colab": {
          "base_uri": "https://localhost:8080/"
        },
        "id": "b3UjXPFCpQtM",
        "outputId": "bd554ee7-ba5a-4753-d39e-bb1d4ad465c2"
      },
      "outputs": [
        {
          "name": "stdout",
          "output_type": "stream",
          "text": [
            "(1000, 5)\n",
            "product_id             int64\n",
            "category              object\n",
            "on_sale                 bool\n",
            "number_of_reviews      int64\n",
            "avg_review_score     float64\n",
            "dtype: object\n"
          ]
        }
      ],
      "source": [
        "print(prod_data.shape)\n",
        "print(prod_data.dtypes)"
      ]
    },
    {
      "cell_type": "markdown",
      "metadata": {
        "id": "V34a_QGvfOXq"
      },
      "source": [
        "It appears that there are 1000 products in our data. The data types for each of our columns are what we would expect."
      ]
    },
    {
      "cell_type": "code",
      "execution_count": 18,
      "metadata": {
        "colab": {
          "base_uri": "https://localhost:8080/"
        },
        "id": "8QR14ipuqDAm",
        "outputId": "0d474d37-c848-475f-cbd1-4de5590854d2"
      },
      "outputs": [
        {
          "data": {
            "text/plain": [
              "True     650\n",
              "False    350\n",
              "Name: on_sale, dtype: int64"
            ]
          },
          "execution_count": 18,
          "metadata": {},
          "output_type": "execute_result"
        }
      ],
      "source": [
        "prod_data.on_sale.value_counts()"
      ]
    },
    {
      "cell_type": "markdown",
      "metadata": {
        "id": "bnQqnetkfgu1"
      },
      "source": [
        "The value counts of the `on_sale` column indicates that 65% of all products are currently on sale."
      ]
    },
    {
      "cell_type": "code",
      "execution_count": 19,
      "metadata": {
        "colab": {
          "base_uri": "https://localhost:8080/"
        },
        "id": "k3IdeMFpqJbI",
        "outputId": "b7dacd3c-6b57-4187-b67e-8f759391aaae"
      },
      "outputs": [
        {
          "data": {
            "text/plain": [
              "makeup           124\n",
              "foot             120\n",
              "hair             109\n",
              "hand             102\n",
              "men_skincare      98\n",
              "body              97\n",
              "skincare          76\n",
              "men_fragrance     75\n",
              "nail              72\n",
              "fragrance         71\n",
              "tools             56\n",
              "Name: category, dtype: int64"
            ]
          },
          "execution_count": 19,
          "metadata": {},
          "output_type": "execute_result"
        }
      ],
      "source": [
        "prod_data.category.value_counts()"
      ]
    },
    {
      "cell_type": "markdown",
      "metadata": {
        "id": "ryc9w8Bvfx8f"
      },
      "source": [
        "The value counts of the `category` column lets us know how many products in each category are present. Most of the products fall under the makeup category, while the least amount of products fall under tools."
      ]
    },
    {
      "cell_type": "code",
      "execution_count": 20,
      "metadata": {
        "colab": {
          "base_uri": "https://localhost:8080/",
          "height": 0
        },
        "id": "U8re2kAXqP8b",
        "outputId": "f5b76fea-2411-495f-c733-7b487c63a1dc"
      },
      "outputs": [
        {
          "data": {
            "text/html": [
              "<div>\n",
              "<style scoped>\n",
              "    .dataframe tbody tr th:only-of-type {\n",
              "        vertical-align: middle;\n",
              "    }\n",
              "\n",
              "    .dataframe tbody tr th {\n",
              "        vertical-align: top;\n",
              "    }\n",
              "\n",
              "    .dataframe thead th {\n",
              "        text-align: right;\n",
              "    }\n",
              "</style>\n",
              "<table border=\"1\" class=\"dataframe\">\n",
              "  <thead>\n",
              "    <tr style=\"text-align: right;\">\n",
              "      <th></th>\n",
              "      <th>number_of_reviews</th>\n",
              "      <th>avg_review_score</th>\n",
              "    </tr>\n",
              "  </thead>\n",
              "  <tbody>\n",
              "    <tr>\n",
              "      <th>count</th>\n",
              "      <td>1.000000e+03</td>\n",
              "      <td>1000.000000</td>\n",
              "    </tr>\n",
              "    <tr>\n",
              "      <th>mean</th>\n",
              "      <td>1.157725e+05</td>\n",
              "      <td>2.660656</td>\n",
              "    </tr>\n",
              "    <tr>\n",
              "      <th>std</th>\n",
              "      <td>5.028997e+05</td>\n",
              "      <td>1.741875</td>\n",
              "    </tr>\n",
              "    <tr>\n",
              "      <th>min</th>\n",
              "      <td>6.600000e+01</td>\n",
              "      <td>-1.000000</td>\n",
              "    </tr>\n",
              "    <tr>\n",
              "      <th>25%</th>\n",
              "      <td>2.570000e+02</td>\n",
              "      <td>1.428969</td>\n",
              "    </tr>\n",
              "    <tr>\n",
              "      <th>50%</th>\n",
              "      <td>4.710000e+02</td>\n",
              "      <td>2.769397</td>\n",
              "    </tr>\n",
              "    <tr>\n",
              "      <th>75%</th>\n",
              "      <td>7.042500e+02</td>\n",
              "      <td>4.180860</td>\n",
              "    </tr>\n",
              "    <tr>\n",
              "      <th>max</th>\n",
              "      <td>2.307390e+06</td>\n",
              "      <td>5.000000</td>\n",
              "    </tr>\n",
              "  </tbody>\n",
              "</table>\n",
              "</div>"
            ],
            "text/plain": [
              "       number_of_reviews  avg_review_score\n",
              "count       1.000000e+03       1000.000000\n",
              "mean        1.157725e+05          2.660656\n",
              "std         5.028997e+05          1.741875\n",
              "min         6.600000e+01         -1.000000\n",
              "25%         2.570000e+02          1.428969\n",
              "50%         4.710000e+02          2.769397\n",
              "75%         7.042500e+02          4.180860\n",
              "max         2.307390e+06          5.000000"
            ]
          },
          "execution_count": 20,
          "metadata": {},
          "output_type": "execute_result"
        }
      ],
      "source": [
        "prod_data[['number_of_reviews', 'avg_review_score']].describe()"
      ]
    },
    {
      "cell_type": "markdown",
      "metadata": {
        "id": "23VYuYblkXhb"
      },
      "source": [
        "Next, lets use `describe()` to explore the numeric columns in our data.  For `number_of_reviews`, there are 1000 observations with a wide range, spanning from a minimum of 66 reviews to a maximum of over 2 million reviews.  The mean number of reviews is about 116,000, with a considerable standard deviation of around 502,899, indicating significant variability.  In contrast, `avg_review_score` exhibits a narrower range, with a mean score of approximately 2.66 and a standard deviation of around 1.74. The minimum value of -1 may require further investigation."
      ]
    },
    {
      "cell_type": "code",
      "execution_count": 21,
      "metadata": {
        "colab": {
          "base_uri": "https://localhost:8080/",
          "height": 0
        },
        "id": "uXe8Yhm6pSjx",
        "outputId": "fb46db2a-c899-43cd-cddd-0b81fd352208"
      },
      "outputs": [
        {
          "data": {
            "text/html": [
              "<div>\n",
              "<style scoped>\n",
              "    .dataframe tbody tr th:only-of-type {\n",
              "        vertical-align: middle;\n",
              "    }\n",
              "\n",
              "    .dataframe tbody tr th {\n",
              "        vertical-align: top;\n",
              "    }\n",
              "\n",
              "    .dataframe thead th {\n",
              "        text-align: right;\n",
              "    }\n",
              "</style>\n",
              "<table border=\"1\" class=\"dataframe\">\n",
              "  <thead>\n",
              "    <tr style=\"text-align: right;\">\n",
              "      <th></th>\n",
              "      <th>product_id</th>\n",
              "      <th>category</th>\n",
              "      <th>on_sale</th>\n",
              "      <th>number_of_reviews</th>\n",
              "      <th>avg_review_score</th>\n",
              "    </tr>\n",
              "  </thead>\n",
              "  <tbody>\n",
              "    <tr>\n",
              "      <th>4</th>\n",
              "      <td>1493</td>\n",
              "      <td>body</td>\n",
              "      <td>True</td>\n",
              "      <td>513</td>\n",
              "      <td>-1.0</td>\n",
              "    </tr>\n",
              "    <tr>\n",
              "      <th>10</th>\n",
              "      <td>1827</td>\n",
              "      <td>makeup</td>\n",
              "      <td>True</td>\n",
              "      <td>528</td>\n",
              "      <td>-1.0</td>\n",
              "    </tr>\n",
              "    <tr>\n",
              "      <th>25</th>\n",
              "      <td>1411</td>\n",
              "      <td>hand</td>\n",
              "      <td>True</td>\n",
              "      <td>847</td>\n",
              "      <td>-1.0</td>\n",
              "    </tr>\n",
              "    <tr>\n",
              "      <th>69</th>\n",
              "      <td>1366</td>\n",
              "      <td>skincare</td>\n",
              "      <td>False</td>\n",
              "      <td>807</td>\n",
              "      <td>-1.0</td>\n",
              "    </tr>\n",
              "    <tr>\n",
              "      <th>95</th>\n",
              "      <td>1670</td>\n",
              "      <td>body</td>\n",
              "      <td>True</td>\n",
              "      <td>736</td>\n",
              "      <td>-1.0</td>\n",
              "    </tr>\n",
              "    <tr>\n",
              "      <th>...</th>\n",
              "      <td>...</td>\n",
              "      <td>...</td>\n",
              "      <td>...</td>\n",
              "      <td>...</td>\n",
              "      <td>...</td>\n",
              "    </tr>\n",
              "    <tr>\n",
              "      <th>893</th>\n",
              "      <td>1826</td>\n",
              "      <td>skincare</td>\n",
              "      <td>False</td>\n",
              "      <td>307</td>\n",
              "      <td>-1.0</td>\n",
              "    </tr>\n",
              "    <tr>\n",
              "      <th>903</th>\n",
              "      <td>1146</td>\n",
              "      <td>men_skincare</td>\n",
              "      <td>True</td>\n",
              "      <td>174</td>\n",
              "      <td>-1.0</td>\n",
              "    </tr>\n",
              "    <tr>\n",
              "      <th>956</th>\n",
              "      <td>1317</td>\n",
              "      <td>men_skincare</td>\n",
              "      <td>True</td>\n",
              "      <td>387</td>\n",
              "      <td>-1.0</td>\n",
              "    </tr>\n",
              "    <tr>\n",
              "      <th>978</th>\n",
              "      <td>1707</td>\n",
              "      <td>men_skincare</td>\n",
              "      <td>True</td>\n",
              "      <td>505</td>\n",
              "      <td>-1.0</td>\n",
              "    </tr>\n",
              "    <tr>\n",
              "      <th>981</th>\n",
              "      <td>1913</td>\n",
              "      <td>skincare</td>\n",
              "      <td>False</td>\n",
              "      <td>328</td>\n",
              "      <td>-1.0</td>\n",
              "    </tr>\n",
              "  </tbody>\n",
              "</table>\n",
              "<p>75 rows × 5 columns</p>\n",
              "</div>"
            ],
            "text/plain": [
              "     product_id      category  on_sale  number_of_reviews  avg_review_score\n",
              "4          1493          body     True                513              -1.0\n",
              "10         1827        makeup     True                528              -1.0\n",
              "25         1411          hand     True                847              -1.0\n",
              "69         1366      skincare    False                807              -1.0\n",
              "95         1670          body     True                736              -1.0\n",
              "..          ...           ...      ...                ...               ...\n",
              "893        1826      skincare    False                307              -1.0\n",
              "903        1146  men_skincare     True                174              -1.0\n",
              "956        1317  men_skincare     True                387              -1.0\n",
              "978        1707  men_skincare     True                505              -1.0\n",
              "981        1913      skincare    False                328              -1.0\n",
              "\n",
              "[75 rows x 5 columns]"
            ]
          },
          "execution_count": 21,
          "metadata": {},
          "output_type": "execute_result"
        }
      ],
      "source": [
        "prod_data[prod_data.avg_review_score == -1]"
      ]
    },
    {
      "cell_type": "markdown",
      "metadata": {
        "id": "KQPMB8VItvlz"
      },
      "source": [
        "In the output above, we can observe all rows that have an `avg_review_score` value of -1. There doesn't appear to be a specific pattern present amongst the other columns for these rows."
      ]
    },
    {
      "cell_type": "code",
      "execution_count": 22,
      "metadata": {
        "colab": {
          "base_uri": "https://localhost:8080/"
        },
        "id": "c-0fJRGEksr_",
        "outputId": "0a071233-dfb2-4b83-e4fb-4b2a914ee151"
      },
      "outputs": [
        {
          "data": {
            "text/plain": [
              "product_id           False\n",
              "category             False\n",
              "on_sale              False\n",
              "number_of_reviews    False\n",
              "avg_review_score     False\n",
              "dtype: bool"
            ]
          },
          "execution_count": 22,
          "metadata": {},
          "output_type": "execute_result"
        }
      ],
      "source": [
        "prod_data[prod_data.duplicated()].any()"
      ]
    },
    {
      "cell_type": "markdown",
      "metadata": {
        "id": "bwdWKWL6uWYa"
      },
      "source": [
        "There are no duplicates present in any of our columns."
      ]
    },
    {
      "cell_type": "code",
      "execution_count": 23,
      "metadata": {
        "colab": {
          "base_uri": "https://localhost:8080/"
        },
        "id": "KFLITDtflDYl",
        "outputId": "df7ff2b4-627d-4010-f680-560f696ad456"
      },
      "outputs": [
        {
          "data": {
            "text/plain": [
              "product_id           0\n",
              "category             0\n",
              "on_sale              0\n",
              "number_of_reviews    0\n",
              "avg_review_score     0\n",
              "dtype: int64"
            ]
          },
          "execution_count": 23,
          "metadata": {},
          "output_type": "execute_result"
        }
      ],
      "source": [
        "prod_data.isna().sum()"
      ]
    },
    {
      "cell_type": "markdown",
      "metadata": {
        "id": "rwk91OtPuaui"
      },
      "source": [
        "There are no null values present in any of our columns."
      ]
    },
    {
      "cell_type": "code",
      "execution_count": 24,
      "metadata": {
        "colab": {
          "base_uri": "https://localhost:8080/",
          "height": 0
        },
        "id": "Dtq0jQesrnoO",
        "outputId": "62a182c9-bc4d-467e-81cf-0fa153ceb9a2"
      },
      "outputs": [
        {
          "data": {
            "image/png": "[encoded data removed]",
            "text/plain": [
              "<Figure size 640x480 with 1 Axes>"
            ]
          },
          "metadata": {},
          "output_type": "display_data"
        }
      ],
      "source": [
        "prod_data[['number_of_reviews', 'avg_review_score']].boxplot()\n",
        "plt.title('Product Feature Boxplot')\n",
        "plt.ylabel('Value')\n",
        "plt.xlabel('Variable')\n",
        "plt.xticks(rotation=80)\n",
        "plt.show()"
      ]
    },
    {
      "cell_type": "markdown",
      "metadata": {
        "id": "DpG-gYOiulWC"
      },
      "source": [
        "According to our boxplot, there is some outliers in the `number_of_reviews` column. We will remove this row later on."
      ]
    },
    {
      "cell_type": "markdown",
      "metadata": {
        "id": "4Zo2HdNsprAL"
      },
      "source": [
        "### Click History Data"
      ]
    },
    {
      "cell_type": "markdown",
      "metadata": {
        "id": "3-S-HAaMu2Af"
      },
      "source": [
        "Finally, we will explore the click history data!"
      ]
    },
    {
      "cell_type": "code",
      "execution_count": 25,
      "metadata": {
        "colab": {
          "base_uri": "https://localhost:8080/",
          "height": 0
        },
        "id": "ZeWg44epjOsT",
        "outputId": "fa30e861-8f90-4bcb-e0c5-4765a9ad67aa"
      },
      "outputs": [
        {
          "data": {
            "text/html": [
              "<div>\n",
              "<style scoped>\n",
              "    .dataframe tbody tr th:only-of-type {\n",
              "        vertical-align: middle;\n",
              "    }\n",
              "\n",
              "    .dataframe tbody tr th {\n",
              "        vertical-align: top;\n",
              "    }\n",
              "\n",
              "    .dataframe thead th {\n",
              "        text-align: right;\n",
              "    }\n",
              "</style>\n",
              "<table border=\"1\" class=\"dataframe\">\n",
              "  <thead>\n",
              "    <tr style=\"text-align: right;\">\n",
              "      <th></th>\n",
              "      <th>user_id</th>\n",
              "      <th>product_id</th>\n",
              "      <th>clicked</th>\n",
              "    </tr>\n",
              "  </thead>\n",
              "  <tbody>\n",
              "    <tr>\n",
              "      <th>0</th>\n",
              "      <td>104863</td>\n",
              "      <td>1350</td>\n",
              "      <td>False</td>\n",
              "    </tr>\n",
              "    <tr>\n",
              "      <th>1</th>\n",
              "      <td>108656</td>\n",
              "      <td>1321</td>\n",
              "      <td>True</td>\n",
              "    </tr>\n",
              "    <tr>\n",
              "      <th>2</th>\n",
              "      <td>100120</td>\n",
              "      <td>1110</td>\n",
              "      <td>False</td>\n",
              "    </tr>\n",
              "    <tr>\n",
              "      <th>3</th>\n",
              "      <td>104838</td>\n",
              "      <td>1443</td>\n",
              "      <td>True</td>\n",
              "    </tr>\n",
              "    <tr>\n",
              "      <th>4</th>\n",
              "      <td>107304</td>\n",
              "      <td>1397</td>\n",
              "      <td>True</td>\n",
              "    </tr>\n",
              "  </tbody>\n",
              "</table>\n",
              "</div>"
            ],
            "text/plain": [
              "   user_id  product_id  clicked\n",
              "0   104863        1350    False\n",
              "1   108656        1321     True\n",
              "2   100120        1110    False\n",
              "3   104838        1443     True\n",
              "4   107304        1397     True"
            ]
          },
          "execution_count": 25,
          "metadata": {},
          "output_type": "execute_result"
        }
      ],
      "source": [
        "click_data.head()"
      ]
    },
    {
      "cell_type": "markdown",
      "metadata": {
        "id": "3UidTElzu8QN"
      },
      "source": [
        "The click history data is very simple. Each row includes a `user_id` from the user data and a `product_id` from the product feature data. The `clicked` column tells us whether a particular user clicked a particular product."
      ]
    },
    {
      "cell_type": "code",
      "execution_count": 26,
      "metadata": {
        "colab": {
          "base_uri": "https://localhost:8080/"
        },
        "id": "ijtEg0hzpSsB",
        "outputId": "1c53e60d-eb05-4c05-e86f-d0918548511a"
      },
      "outputs": [
        {
          "name": "stdout",
          "output_type": "stream",
          "text": [
            "(35990, 3)\n",
            "user_id       int64\n",
            "product_id    int64\n",
            "clicked        bool\n",
            "dtype: object\n"
          ]
        }
      ],
      "source": [
        "print(click_data.shape)\n",
        "print(click_data.dtypes)"
      ]
    },
    {
      "cell_type": "markdown",
      "metadata": {
        "id": "5PaBH_ZCvdfo"
      },
      "source": [
        "This data consists of nearly 36,000 rows. In the next section, we will convert our `clicked` column to dummy variables."
      ]
    },
    {
      "cell_type": "code",
      "execution_count": 27,
      "metadata": {
        "colab": {
          "base_uri": "https://localhost:8080/"
        },
        "id": "htBerkZcrBno",
        "outputId": "cbe6d92a-5656-4811-c994-9dcdcda4c674"
      },
      "outputs": [
        {
          "data": {
            "text/plain": [
              "False    23302\n",
              "True     12688\n",
              "Name: clicked, dtype: int64"
            ]
          },
          "execution_count": 27,
          "metadata": {},
          "output_type": "execute_result"
        }
      ],
      "source": [
        "click_data.clicked.value_counts()"
      ]
    },
    {
      "cell_type": "markdown",
      "metadata": {
        "id": "W1Pr6ec3wC-c"
      },
      "source": [
        "Based on the value counts of the `clicked` column, we see that most of the rows in the data show products that users have not clicked on."
      ]
    },
    {
      "cell_type": "code",
      "execution_count": 28,
      "metadata": {
        "colab": {
          "base_uri": "https://localhost:8080/",
          "height": 0
        },
        "id": "ph5UjpjjkxDm",
        "outputId": "87767a75-a403-487b-ab79-16db49e3a95b"
      },
      "outputs": [
        {
          "data": {
            "text/html": [
              "<div>\n",
              "<style scoped>\n",
              "    .dataframe tbody tr th:only-of-type {\n",
              "        vertical-align: middle;\n",
              "    }\n",
              "\n",
              "    .dataframe tbody tr th {\n",
              "        vertical-align: top;\n",
              "    }\n",
              "\n",
              "    .dataframe thead th {\n",
              "        text-align: right;\n",
              "    }\n",
              "</style>\n",
              "<table border=\"1\" class=\"dataframe\">\n",
              "  <thead>\n",
              "    <tr style=\"text-align: right;\">\n",
              "      <th></th>\n",
              "      <th>user_id</th>\n",
              "      <th>product_id</th>\n",
              "      <th>clicked</th>\n",
              "    </tr>\n",
              "  </thead>\n",
              "  <tbody>\n",
              "  </tbody>\n",
              "</table>\n",
              "</div>"
            ],
            "text/plain": [
              "Empty DataFrame\n",
              "Columns: [user_id, product_id, clicked]\n",
              "Index: []"
            ]
          },
          "execution_count": 28,
          "metadata": {},
          "output_type": "execute_result"
        }
      ],
      "source": [
        "click_data[click_data.duplicated()]"
      ]
    },
    {
      "cell_type": "markdown",
      "metadata": {
        "id": "uwcomydek24x"
      },
      "source": [
        "There appears to be no duplicate rows in any of the data."
      ]
    },
    {
      "cell_type": "code",
      "execution_count": 29,
      "metadata": {
        "colab": {
          "base_uri": "https://localhost:8080/"
        },
        "id": "d8U1H8MrlEz9",
        "outputId": "953a5a35-a8ad-441e-db3e-b48b253d0ac3"
      },
      "outputs": [
        {
          "data": {
            "text/plain": [
              "user_id       0\n",
              "product_id    0\n",
              "clicked       0\n",
              "dtype: int64"
            ]
          },
          "execution_count": 29,
          "metadata": {},
          "output_type": "execute_result"
        }
      ],
      "source": [
        "click_data.isna().sum()"
      ]
    },
    {
      "cell_type": "markdown",
      "metadata": {
        "id": "9SZh04zdxR7q"
      },
      "source": [
        "There are no null values in the data."
      ]
    },
    {
      "cell_type": "markdown",
      "metadata": {
        "id": "btwO0CTcip-F"
      },
      "source": [
        "## Question 2: Data Cleaning and Preprocessing"
      ]
    },
    {
      "cell_type": "markdown",
      "metadata": {
        "id": "zyWj3IYLisie"
      },
      "source": [
        "Clean and preprocess the datasets (such as missing values, outliers, dummy, merging, etc.). (30 points)"
      ]
    },
    {
      "cell_type": "markdown",
      "metadata": {
        "id": "r-KL-Wx4y0q0"
      },
      "source": [
        "The first step in cleaning our data is to remove any outliers. Based on our EDA, we found there is one outlier present in our product feature data."
      ]
    },
    {
      "cell_type": "code",
      "execution_count": 30,
      "metadata": {
        "id": "hDKgdAHp1Sr4"
      },
      "outputs": [],
      "source": [
        "def remove_outliers(data, column):\n",
        "  \"\"\"finds and resets outliers in a column\"\"\"\n",
        "  q1 = np.quantile(data[column], .25)\n",
        "  q3 = np.quantile(data[column], .75)\n",
        "  iqr = q3 - q1\n",
        "  print(data[(data[column] <= q1-(1.5*iqr)) | (data[column] >= q3+(1.5*iqr))])\n",
        "  data = data.drop(data[(data[column] <= q1-(1.5*iqr)) | (data[column] >= q3+(1.5*iqr))].index)\n",
        "  return data"
      ]
    },
    {
      "cell_type": "code",
      "execution_count": 31,
      "metadata": {
        "colab": {
          "base_uri": "https://localhost:8080/",
          "height": 1000
        },
        "id": "iuX7BgRm2c5V",
        "outputId": "41e9decf-a96b-4dd9-ae60-445c498b936a"
      },
      "outputs": [
        {
          "name": "stdout",
          "output_type": "stream",
          "text": [
            "     product_id       category  on_sale  number_of_reviews  avg_review_score\n",
            "8          1093         makeup     True            2307325          0.922366\n",
            "17         1929           foot     True            2306891          0.960206\n",
            "18         1885           hair     True            2306305          2.776561\n",
            "40         1952       skincare    False            2307109          4.892617\n",
            "63         1631   men_skincare     True            2306307          2.192205\n",
            "75         1548           hair     True            2307117          2.416543\n",
            "78         1463  men_fragrance    False            2307041          1.875636\n",
            "91         1005       skincare    False            2306121          1.492753\n",
            "147        1960           foot     True            2306809          3.728535\n",
            "157        1459          tools    False            2306128          2.727487\n",
            "162        1187           hand     True            2306178          3.850508\n",
            "163        1542       skincare    False            2306318          1.572054\n",
            "174        1256           hair     True            2307369          2.971114\n",
            "183        1786          tools    False            2306901          3.612420\n",
            "188        1571       skincare    False            2307243         -0.057772\n",
            "191        1280         makeup     True            2306318          0.697216\n",
            "242        1258           foot     True            2307288          2.563612\n",
            "301        1172           foot     True            2306652          4.575760\n",
            "312        1872   men_skincare     True            2307151          0.594100\n",
            "328        1798  men_fragrance    False            2306370          1.943800\n",
            "335        1051           body     True            2306134          4.502469\n",
            "358        1861       skincare    False            2307390          0.545839\n",
            "385        1376           hair     True            2306244         -1.000000\n",
            "394        1144           hand     True            2307275          3.912371\n",
            "415        1934           hair     True            2306412          0.827913\n",
            "444        1930           hair     True            2306383          1.107800\n",
            "454        1068           nail    False            2306407          4.448505\n",
            "485        1568       skincare    False            2306652          3.887843\n",
            "487        1865         makeup     True            2307064          1.750913\n",
            "499        1155           body     True            2306733          0.871357\n",
            "522        1398           foot     True            2306228          1.408970\n",
            "564        1494           hand     True            2307272          0.954654\n",
            "566        1588          tools    False            2306875          2.158121\n",
            "601        1600           body     True            2306652          2.247310\n",
            "622        1136           hair     True            2307309          3.649821\n",
            "667        1461           nail    False            2306273          0.825002\n",
            "692        1984           body     True            2306544          4.209140\n",
            "707        1849           hand     True            2306878          2.695363\n",
            "729        1998           hair     True            2306552          3.204830\n",
            "806        1478           body     True            2306536          0.994276\n",
            "818        1360           body     True            2307043          0.445208\n",
            "832        1625  men_fragrance    False            2307377          4.355484\n",
            "848        1832         makeup     True            2306878          3.792680\n",
            "852        1370   men_skincare     True            2307064          0.371664\n",
            "856        1570           nail    False            2307167          3.412475\n",
            "871        1331  men_fragrance    False            2306323          0.590789\n",
            "886        1953       skincare    False            2306857          1.541989\n",
            "944        1692          tools    False            2307240          1.492670\n",
            "952        1199           hair     True            2306773          1.508105\n",
            "960        1552         makeup     True            2306762          4.883468\n"
          ]
        },
        {
          "data": {
            "text/html": [
              "<div>\n",
              "<style scoped>\n",
              "    .dataframe tbody tr th:only-of-type {\n",
              "        vertical-align: middle;\n",
              "    }\n",
              "\n",
              "    .dataframe tbody tr th {\n",
              "        vertical-align: top;\n",
              "    }\n",
              "\n",
              "    .dataframe thead th {\n",
              "        text-align: right;\n",
              "    }\n",
              "</style>\n",
              "<table border=\"1\" class=\"dataframe\">\n",
              "  <thead>\n",
              "    <tr style=\"text-align: right;\">\n",
              "      <th></th>\n",
              "      <th>product_id</th>\n",
              "      <th>category</th>\n",
              "      <th>on_sale</th>\n",
              "      <th>number_of_reviews</th>\n",
              "      <th>avg_review_score</th>\n",
              "    </tr>\n",
              "  </thead>\n",
              "  <tbody>\n",
              "    <tr>\n",
              "      <th>0</th>\n",
              "      <td>1134</td>\n",
              "      <td>tools</td>\n",
              "      <td>False</td>\n",
              "      <td>101</td>\n",
              "      <td>3.349452</td>\n",
              "    </tr>\n",
              "    <tr>\n",
              "      <th>1</th>\n",
              "      <td>1846</td>\n",
              "      <td>skincare</td>\n",
              "      <td>False</td>\n",
              "      <td>111</td>\n",
              "      <td>5.000000</td>\n",
              "    </tr>\n",
              "    <tr>\n",
              "      <th>2</th>\n",
              "      <td>1762</td>\n",
              "      <td>fragrance</td>\n",
              "      <td>False</td>\n",
              "      <td>220</td>\n",
              "      <td>4.882706</td>\n",
              "    </tr>\n",
              "    <tr>\n",
              "      <th>3</th>\n",
              "      <td>1254</td>\n",
              "      <td>hair</td>\n",
              "      <td>True</td>\n",
              "      <td>446</td>\n",
              "      <td>5.000000</td>\n",
              "    </tr>\n",
              "    <tr>\n",
              "      <th>4</th>\n",
              "      <td>1493</td>\n",
              "      <td>body</td>\n",
              "      <td>True</td>\n",
              "      <td>513</td>\n",
              "      <td>-1.000000</td>\n",
              "    </tr>\n",
              "    <tr>\n",
              "      <th>...</th>\n",
              "      <td>...</td>\n",
              "      <td>...</td>\n",
              "      <td>...</td>\n",
              "      <td>...</td>\n",
              "      <td>...</td>\n",
              "    </tr>\n",
              "    <tr>\n",
              "      <th>995</th>\n",
              "      <td>1541</td>\n",
              "      <td>fragrance</td>\n",
              "      <td>False</td>\n",
              "      <td>312</td>\n",
              "      <td>1.149903</td>\n",
              "    </tr>\n",
              "    <tr>\n",
              "      <th>996</th>\n",
              "      <td>1326</td>\n",
              "      <td>body</td>\n",
              "      <td>True</td>\n",
              "      <td>603</td>\n",
              "      <td>1.277216</td>\n",
              "    </tr>\n",
              "    <tr>\n",
              "      <th>997</th>\n",
              "      <td>1062</td>\n",
              "      <td>foot</td>\n",
              "      <td>True</td>\n",
              "      <td>705</td>\n",
              "      <td>3.602008</td>\n",
              "    </tr>\n",
              "    <tr>\n",
              "      <th>998</th>\n",
              "      <td>1721</td>\n",
              "      <td>makeup</td>\n",
              "      <td>True</td>\n",
              "      <td>306</td>\n",
              "      <td>1.846254</td>\n",
              "    </tr>\n",
              "    <tr>\n",
              "      <th>999</th>\n",
              "      <td>1995</td>\n",
              "      <td>men_skincare</td>\n",
              "      <td>True</td>\n",
              "      <td>199</td>\n",
              "      <td>3.576706</td>\n",
              "    </tr>\n",
              "  </tbody>\n",
              "</table>\n",
              "<p>950 rows × 5 columns</p>\n",
              "</div>"
            ],
            "text/plain": [
              "     product_id      category  on_sale  number_of_reviews  avg_review_score\n",
              "0          1134         tools    False                101          3.349452\n",
              "1          1846      skincare    False                111          5.000000\n",
              "2          1762     fragrance    False                220          4.882706\n",
              "3          1254          hair     True                446          5.000000\n",
              "4          1493          body     True                513         -1.000000\n",
              "..          ...           ...      ...                ...               ...\n",
              "995        1541     fragrance    False                312          1.149903\n",
              "996        1326          body     True                603          1.277216\n",
              "997        1062          foot     True                705          3.602008\n",
              "998        1721        makeup     True                306          1.846254\n",
              "999        1995  men_skincare     True                199          3.576706\n",
              "\n",
              "[950 rows x 5 columns]"
            ]
          },
          "execution_count": 31,
          "metadata": {},
          "output_type": "execute_result"
        }
      ],
      "source": [
        "remove_outliers(prod_data, 'number_of_reviews')"
      ]
    },
    {
      "cell_type": "markdown",
      "metadata": {
        "id": "DaoIEhQw3xWq"
      },
      "source": [
        "50 rows identified as outliers have been removed."
      ]
    },
    {
      "cell_type": "markdown",
      "metadata": {
        "id": "hjX44Hex4Fd1"
      },
      "source": [
        "Next, let's normalize and preprocess the `personal_interests` column so it can be used to train the model."
      ]
    },
    {
      "cell_type": "code",
      "execution_count": 32,
      "metadata": {
        "id": "KeWjT6M8GUc3"
      },
      "outputs": [],
      "source": [
        "count_vect = CountVectorizer(stop_words='english')"
      ]
    },
    {
      "cell_type": "code",
      "execution_count": 33,
      "metadata": {
        "id": "HnbME8OWJQca"
      },
      "outputs": [],
      "source": [
        "text_data = pd.DataFrame()\n",
        "for i in user_data.personal_interests:\n",
        "  if i:\n",
        "    data = count_vect.fit_transform(i)\n",
        "    unique_words = count_vect.get_feature_names_out()\n",
        "    freq = np.sum(data.toarray(), axis=0)\n",
        "    freq = np.array(freq).reshape(1, (len(freq)))\n",
        "    temp = pd.DataFrame(freq, columns=unique_words)\n",
        "    text_data = pd.concat([text_data, temp], ignore_index=False)"
      ]
    },
    {
      "cell_type": "code",
      "execution_count": 34,
      "metadata": {
        "id": "zN9WmLCXMUS1"
      },
      "outputs": [],
      "source": [
        "text_data = text_data.add_prefix('user_interest_')"
      ]
    },
    {
      "cell_type": "code",
      "execution_count": 35,
      "metadata": {
        "id": "GQMvzNOqNEvu"
      },
      "outputs": [],
      "source": [
        "user_data = pd.merge(user_data, text_data, right_index=True, left_index=True)"
      ]
    },
    {
      "cell_type": "markdown",
      "metadata": {},
      "source": [
        "We used `CountVectorizer` to get the frequency of all words in the personal interests of each user. Since all words in each list are unique, the result is simply a one hot encoding of each user's interests"
      ]
    },
    {
      "cell_type": "code",
      "execution_count": 36,
      "metadata": {
        "id": "T3nM-JPzN1Ea"
      },
      "outputs": [],
      "source": [
        "user_data.drop('personal_interests', axis=1, inplace=True)"
      ]
    },
    {
      "cell_type": "markdown",
      "metadata": {},
      "source": [
        "The `personal_interests` column is no longer needed so we will drop it."
      ]
    },
    {
      "cell_type": "code",
      "execution_count": 37,
      "metadata": {
        "id": "s5XLnS4Q4FNO"
      },
      "outputs": [],
      "source": [
        "user_data.fillna(0, inplace=True)"
      ]
    },
    {
      "cell_type": "code",
      "execution_count": 38,
      "metadata": {
        "colab": {
          "base_uri": "https://localhost:8080/"
        },
        "id": "AFU3ixCb4kRP",
        "outputId": "d78dc514-9335-4fb4-d527-5a91cb623cbf"
      },
      "outputs": [
        {
          "data": {
            "text/plain": [
              "user_id                        0\n",
              "number_of_clicks_before        0\n",
              "ordered_before                 0\n",
              "user_interest_body             0\n",
              "user_interest_foot             0\n",
              "user_interest_fragrance        0\n",
              "user_interest_hair             0\n",
              "user_interest_hand             0\n",
              "user_interest_makeup           0\n",
              "user_interest_men_fragrance    0\n",
              "user_interest_nail             0\n",
              "user_interest_tools            0\n",
              "user_interest_men_skincare     0\n",
              "user_interest_skincare         0\n",
              "dtype: int64"
            ]
          },
          "execution_count": 38,
          "metadata": {},
          "output_type": "execute_result"
        }
      ],
      "source": [
        "user_data.isnull().sum()"
      ]
    },
    {
      "cell_type": "markdown",
      "metadata": {
        "id": "WUAeD7Lw5XLd"
      },
      "source": [
        "Now, there are no more null values present! Next, we will convert all columns with boolean values to dummy variables. Since the dummy variables can only be True or False, we will change the values to 1 or 0 directly in the column."
      ]
    },
    {
      "cell_type": "code",
      "execution_count": 39,
      "metadata": {
        "id": "NxemDn015xld"
      },
      "outputs": [],
      "source": [
        "user_data.loc[user_data['ordered_before'] == True, 'ordered_before'] = 1\n",
        "user_data.loc[user_data['ordered_before'] == False, 'ordered_before'] = 0"
      ]
    },
    {
      "cell_type": "code",
      "execution_count": 40,
      "metadata": {
        "id": "WvYODbYe6iLP"
      },
      "outputs": [],
      "source": [
        "prod_data.loc[prod_data['on_sale'] == True, 'on_sale'] = 1\n",
        "prod_data.loc[prod_data['on_sale'] == False, 'on_sale'] = 0"
      ]
    },
    {
      "cell_type": "code",
      "execution_count": 41,
      "metadata": {
        "id": "twObNhnm6rSw"
      },
      "outputs": [],
      "source": [
        "click_data.loc[click_data['clicked'] == True, 'clicked'] = 1\n",
        "click_data.loc[click_data['clicked'] == False, 'clicked'] = 0"
      ]
    },
    {
      "cell_type": "markdown",
      "metadata": {},
      "source": [
        "As mentioned before, the data type of our `number_of_clicks_before` column will raise so issue for us during our model training. So, we will perform binning on the column."
      ]
    },
    {
      "cell_type": "code",
      "execution_count": 42,
      "metadata": {
        "id": "FS573thMyLIH"
      },
      "outputs": [],
      "source": [
        "user_data.loc[user_data['number_of_clicks_before'] == '6+', 'number_of_clicks_before'] = 7"
      ]
    },
    {
      "cell_type": "markdown",
      "metadata": {},
      "source": [
        "Let's set all '6+' values present in the column to be 7. This is so that all values will be categorized correctly during binning."
      ]
    },
    {
      "cell_type": "code",
      "execution_count": 43,
      "metadata": {
        "id": "0OCrKaynzITv"
      },
      "outputs": [],
      "source": [
        "user_data['number_of_clicks_before'] = user_data.number_of_clicks_before.astype('int')"
      ]
    },
    {
      "cell_type": "markdown",
      "metadata": {},
      "source": [
        "we must also be sure that the data type of the column is `int`."
      ]
    },
    {
      "cell_type": "code",
      "execution_count": 44,
      "metadata": {
        "id": "KXKIT_jryn8l"
      },
      "outputs": [],
      "source": [
        "bins = [-np.inf, 0, 2, 4, 6, np.inf]"
      ]
    },
    {
      "cell_type": "code",
      "execution_count": 45,
      "metadata": {
        "id": "v66mPpAjyyGF"
      },
      "outputs": [],
      "source": [
        "clicks = pd.cut(user_data.number_of_clicks_before, bins)\n",
        "new_user_data = pd.merge(user_data.drop('number_of_clicks_before', axis=1), pd.get_dummies(clicks, dtype=int, prefix='user_prev_clicks'), left_index=True, right_index=True)"
      ]
    },
    {
      "cell_type": "markdown",
      "metadata": {},
      "source": [
        "After preprocessing the user data, the results can be seen in the output below."
      ]
    },
    {
      "cell_type": "code",
      "execution_count": 46,
      "metadata": {
        "id": "Vp1ABGVb5ePd"
      },
      "outputs": [
        {
          "data": {
            "text/html": [
              "<div>\n",
              "<style scoped>\n",
              "    .dataframe tbody tr th:only-of-type {\n",
              "        vertical-align: middle;\n",
              "    }\n",
              "\n",
              "    .dataframe tbody tr th {\n",
              "        vertical-align: top;\n",
              "    }\n",
              "\n",
              "    .dataframe thead th {\n",
              "        text-align: right;\n",
              "    }\n",
              "</style>\n",
              "<table border=\"1\" class=\"dataframe\">\n",
              "  <thead>\n",
              "    <tr style=\"text-align: right;\">\n",
              "      <th></th>\n",
              "      <th>user_id</th>\n",
              "      <th>ordered_before</th>\n",
              "      <th>user_interest_body</th>\n",
              "      <th>user_interest_foot</th>\n",
              "      <th>user_interest_fragrance</th>\n",
              "      <th>user_interest_hair</th>\n",
              "      <th>user_interest_hand</th>\n",
              "      <th>user_interest_makeup</th>\n",
              "      <th>user_interest_men_fragrance</th>\n",
              "      <th>user_interest_nail</th>\n",
              "      <th>user_interest_tools</th>\n",
              "      <th>user_interest_men_skincare</th>\n",
              "      <th>user_interest_skincare</th>\n",
              "      <th>user_prev_clicks_(-inf, 0.0]</th>\n",
              "      <th>user_prev_clicks_(0.0, 2.0]</th>\n",
              "      <th>user_prev_clicks_(2.0, 4.0]</th>\n",
              "      <th>user_prev_clicks_(4.0, 6.0]</th>\n",
              "      <th>user_prev_clicks_(6.0, inf]</th>\n",
              "    </tr>\n",
              "  </thead>\n",
              "  <tbody>\n",
              "    <tr>\n",
              "      <th>0</th>\n",
              "      <td>104939</td>\n",
              "      <td>1</td>\n",
              "      <td>1.0</td>\n",
              "      <td>1.0</td>\n",
              "      <td>1.0</td>\n",
              "      <td>1.0</td>\n",
              "      <td>1.0</td>\n",
              "      <td>1.0</td>\n",
              "      <td>1.0</td>\n",
              "      <td>1.0</td>\n",
              "      <td>1.0</td>\n",
              "      <td>0.0</td>\n",
              "      <td>0.0</td>\n",
              "      <td>0</td>\n",
              "      <td>1</td>\n",
              "      <td>0</td>\n",
              "      <td>0</td>\n",
              "      <td>0</td>\n",
              "    </tr>\n",
              "    <tr>\n",
              "      <th>0</th>\n",
              "      <td>104939</td>\n",
              "      <td>1</td>\n",
              "      <td>1.0</td>\n",
              "      <td>1.0</td>\n",
              "      <td>1.0</td>\n",
              "      <td>1.0</td>\n",
              "      <td>1.0</td>\n",
              "      <td>1.0</td>\n",
              "      <td>1.0</td>\n",
              "      <td>1.0</td>\n",
              "      <td>1.0</td>\n",
              "      <td>0.0</td>\n",
              "      <td>0.0</td>\n",
              "      <td>0</td>\n",
              "      <td>1</td>\n",
              "      <td>0</td>\n",
              "      <td>0</td>\n",
              "      <td>0</td>\n",
              "    </tr>\n",
              "    <tr>\n",
              "      <th>0</th>\n",
              "      <td>104939</td>\n",
              "      <td>1</td>\n",
              "      <td>1.0</td>\n",
              "      <td>1.0</td>\n",
              "      <td>1.0</td>\n",
              "      <td>1.0</td>\n",
              "      <td>1.0</td>\n",
              "      <td>1.0</td>\n",
              "      <td>1.0</td>\n",
              "      <td>1.0</td>\n",
              "      <td>1.0</td>\n",
              "      <td>0.0</td>\n",
              "      <td>0.0</td>\n",
              "      <td>0</td>\n",
              "      <td>1</td>\n",
              "      <td>0</td>\n",
              "      <td>0</td>\n",
              "      <td>0</td>\n",
              "    </tr>\n",
              "    <tr>\n",
              "      <th>0</th>\n",
              "      <td>104939</td>\n",
              "      <td>1</td>\n",
              "      <td>1.0</td>\n",
              "      <td>1.0</td>\n",
              "      <td>1.0</td>\n",
              "      <td>1.0</td>\n",
              "      <td>1.0</td>\n",
              "      <td>1.0</td>\n",
              "      <td>1.0</td>\n",
              "      <td>1.0</td>\n",
              "      <td>1.0</td>\n",
              "      <td>0.0</td>\n",
              "      <td>0.0</td>\n",
              "      <td>0</td>\n",
              "      <td>1</td>\n",
              "      <td>0</td>\n",
              "      <td>0</td>\n",
              "      <td>0</td>\n",
              "    </tr>\n",
              "    <tr>\n",
              "      <th>0</th>\n",
              "      <td>104939</td>\n",
              "      <td>1</td>\n",
              "      <td>1.0</td>\n",
              "      <td>1.0</td>\n",
              "      <td>1.0</td>\n",
              "      <td>1.0</td>\n",
              "      <td>1.0</td>\n",
              "      <td>1.0</td>\n",
              "      <td>1.0</td>\n",
              "      <td>1.0</td>\n",
              "      <td>1.0</td>\n",
              "      <td>0.0</td>\n",
              "      <td>0.0</td>\n",
              "      <td>0</td>\n",
              "      <td>1</td>\n",
              "      <td>0</td>\n",
              "      <td>0</td>\n",
              "      <td>0</td>\n",
              "    </tr>\n",
              "    <tr>\n",
              "      <th>...</th>\n",
              "      <td>...</td>\n",
              "      <td>...</td>\n",
              "      <td>...</td>\n",
              "      <td>...</td>\n",
              "      <td>...</td>\n",
              "      <td>...</td>\n",
              "      <td>...</td>\n",
              "      <td>...</td>\n",
              "      <td>...</td>\n",
              "      <td>...</td>\n",
              "      <td>...</td>\n",
              "      <td>...</td>\n",
              "      <td>...</td>\n",
              "      <td>...</td>\n",
              "      <td>...</td>\n",
              "      <td>...</td>\n",
              "      <td>...</td>\n",
              "      <td>...</td>\n",
              "    </tr>\n",
              "    <tr>\n",
              "      <th>0</th>\n",
              "      <td>104939</td>\n",
              "      <td>1</td>\n",
              "      <td>1.0</td>\n",
              "      <td>1.0</td>\n",
              "      <td>0.0</td>\n",
              "      <td>0.0</td>\n",
              "      <td>1.0</td>\n",
              "      <td>1.0</td>\n",
              "      <td>1.0</td>\n",
              "      <td>1.0</td>\n",
              "      <td>0.0</td>\n",
              "      <td>1.0</td>\n",
              "      <td>1.0</td>\n",
              "      <td>0</td>\n",
              "      <td>1</td>\n",
              "      <td>0</td>\n",
              "      <td>0</td>\n",
              "      <td>0</td>\n",
              "    </tr>\n",
              "    <tr>\n",
              "      <th>0</th>\n",
              "      <td>104939</td>\n",
              "      <td>1</td>\n",
              "      <td>1.0</td>\n",
              "      <td>1.0</td>\n",
              "      <td>0.0</td>\n",
              "      <td>0.0</td>\n",
              "      <td>1.0</td>\n",
              "      <td>1.0</td>\n",
              "      <td>1.0</td>\n",
              "      <td>1.0</td>\n",
              "      <td>0.0</td>\n",
              "      <td>1.0</td>\n",
              "      <td>1.0</td>\n",
              "      <td>0</td>\n",
              "      <td>1</td>\n",
              "      <td>0</td>\n",
              "      <td>0</td>\n",
              "      <td>0</td>\n",
              "    </tr>\n",
              "    <tr>\n",
              "      <th>0</th>\n",
              "      <td>104939</td>\n",
              "      <td>1</td>\n",
              "      <td>1.0</td>\n",
              "      <td>1.0</td>\n",
              "      <td>0.0</td>\n",
              "      <td>0.0</td>\n",
              "      <td>1.0</td>\n",
              "      <td>1.0</td>\n",
              "      <td>1.0</td>\n",
              "      <td>1.0</td>\n",
              "      <td>0.0</td>\n",
              "      <td>1.0</td>\n",
              "      <td>1.0</td>\n",
              "      <td>0</td>\n",
              "      <td>1</td>\n",
              "      <td>0</td>\n",
              "      <td>0</td>\n",
              "      <td>0</td>\n",
              "    </tr>\n",
              "    <tr>\n",
              "      <th>0</th>\n",
              "      <td>104939</td>\n",
              "      <td>1</td>\n",
              "      <td>1.0</td>\n",
              "      <td>1.0</td>\n",
              "      <td>0.0</td>\n",
              "      <td>0.0</td>\n",
              "      <td>1.0</td>\n",
              "      <td>1.0</td>\n",
              "      <td>1.0</td>\n",
              "      <td>1.0</td>\n",
              "      <td>0.0</td>\n",
              "      <td>1.0</td>\n",
              "      <td>1.0</td>\n",
              "      <td>0</td>\n",
              "      <td>1</td>\n",
              "      <td>0</td>\n",
              "      <td>0</td>\n",
              "      <td>0</td>\n",
              "    </tr>\n",
              "    <tr>\n",
              "      <th>0</th>\n",
              "      <td>104939</td>\n",
              "      <td>1</td>\n",
              "      <td>1.0</td>\n",
              "      <td>1.0</td>\n",
              "      <td>0.0</td>\n",
              "      <td>0.0</td>\n",
              "      <td>1.0</td>\n",
              "      <td>1.0</td>\n",
              "      <td>1.0</td>\n",
              "      <td>1.0</td>\n",
              "      <td>0.0</td>\n",
              "      <td>1.0</td>\n",
              "      <td>1.0</td>\n",
              "      <td>0</td>\n",
              "      <td>1</td>\n",
              "      <td>0</td>\n",
              "      <td>0</td>\n",
              "      <td>0</td>\n",
              "    </tr>\n",
              "  </tbody>\n",
              "</table>\n",
              "<p>118897216 rows × 18 columns</p>\n",
              "</div>"
            ],
            "text/plain": [
              "    user_id ordered_before  user_interest_body  user_interest_foot  \\\n",
              "0    104939              1                 1.0                 1.0   \n",
              "0    104939              1                 1.0                 1.0   \n",
              "0    104939              1                 1.0                 1.0   \n",
              "0    104939              1                 1.0                 1.0   \n",
              "0    104939              1                 1.0                 1.0   \n",
              "..      ...            ...                 ...                 ...   \n",
              "0    104939              1                 1.0                 1.0   \n",
              "0    104939              1                 1.0                 1.0   \n",
              "0    104939              1                 1.0                 1.0   \n",
              "0    104939              1                 1.0                 1.0   \n",
              "0    104939              1                 1.0                 1.0   \n",
              "\n",
              "    user_interest_fragrance  user_interest_hair  user_interest_hand  \\\n",
              "0                       1.0                 1.0                 1.0   \n",
              "0                       1.0                 1.0                 1.0   \n",
              "0                       1.0                 1.0                 1.0   \n",
              "0                       1.0                 1.0                 1.0   \n",
              "0                       1.0                 1.0                 1.0   \n",
              "..                      ...                 ...                 ...   \n",
              "0                       0.0                 0.0                 1.0   \n",
              "0                       0.0                 0.0                 1.0   \n",
              "0                       0.0                 0.0                 1.0   \n",
              "0                       0.0                 0.0                 1.0   \n",
              "0                       0.0                 0.0                 1.0   \n",
              "\n",
              "    user_interest_makeup  user_interest_men_fragrance  user_interest_nail  \\\n",
              "0                    1.0                          1.0                 1.0   \n",
              "0                    1.0                          1.0                 1.0   \n",
              "0                    1.0                          1.0                 1.0   \n",
              "0                    1.0                          1.0                 1.0   \n",
              "0                    1.0                          1.0                 1.0   \n",
              "..                   ...                          ...                 ...   \n",
              "0                    1.0                          1.0                 1.0   \n",
              "0                    1.0                          1.0                 1.0   \n",
              "0                    1.0                          1.0                 1.0   \n",
              "0                    1.0                          1.0                 1.0   \n",
              "0                    1.0                          1.0                 1.0   \n",
              "\n",
              "    user_interest_tools  user_interest_men_skincare  user_interest_skincare  \\\n",
              "0                   1.0                         0.0                     0.0   \n",
              "0                   1.0                         0.0                     0.0   \n",
              "0                   1.0                         0.0                     0.0   \n",
              "0                   1.0                         0.0                     0.0   \n",
              "0                   1.0                         0.0                     0.0   \n",
              "..                  ...                         ...                     ...   \n",
              "0                   0.0                         1.0                     1.0   \n",
              "0                   0.0                         1.0                     1.0   \n",
              "0                   0.0                         1.0                     1.0   \n",
              "0                   0.0                         1.0                     1.0   \n",
              "0                   0.0                         1.0                     1.0   \n",
              "\n",
              "    user_prev_clicks_(-inf, 0.0]  user_prev_clicks_(0.0, 2.0]  \\\n",
              "0                              0                            1   \n",
              "0                              0                            1   \n",
              "0                              0                            1   \n",
              "0                              0                            1   \n",
              "0                              0                            1   \n",
              "..                           ...                          ...   \n",
              "0                              0                            1   \n",
              "0                              0                            1   \n",
              "0                              0                            1   \n",
              "0                              0                            1   \n",
              "0                              0                            1   \n",
              "\n",
              "    user_prev_clicks_(2.0, 4.0]  user_prev_clicks_(4.0, 6.0]  \\\n",
              "0                             0                            0   \n",
              "0                             0                            0   \n",
              "0                             0                            0   \n",
              "0                             0                            0   \n",
              "0                             0                            0   \n",
              "..                          ...                          ...   \n",
              "0                             0                            0   \n",
              "0                             0                            0   \n",
              "0                             0                            0   \n",
              "0                             0                            0   \n",
              "0                             0                            0   \n",
              "\n",
              "    user_prev_clicks_(6.0, inf]  \n",
              "0                             0  \n",
              "0                             0  \n",
              "0                             0  \n",
              "0                             0  \n",
              "0                             0  \n",
              "..                          ...  \n",
              "0                             0  \n",
              "0                             0  \n",
              "0                             0  \n",
              "0                             0  \n",
              "0                             0  \n",
              "\n",
              "[118897216 rows x 18 columns]"
            ]
          },
          "execution_count": 46,
          "metadata": {},
          "output_type": "execute_result"
        }
      ],
      "source": [
        "new_user_data"
      ]
    },
    {
      "cell_type": "markdown",
      "metadata": {},
      "source": [
        "Next, we will generate dummies of the `category` column of the product data."
      ]
    },
    {
      "cell_type": "code",
      "execution_count": 47,
      "metadata": {
        "id": "hoCItz5824f5"
      },
      "outputs": [
        {
          "data": {
            "text/html": [
              "<div>\n",
              "<style scoped>\n",
              "    .dataframe tbody tr th:only-of-type {\n",
              "        vertical-align: middle;\n",
              "    }\n",
              "\n",
              "    .dataframe tbody tr th {\n",
              "        vertical-align: top;\n",
              "    }\n",
              "\n",
              "    .dataframe thead th {\n",
              "        text-align: right;\n",
              "    }\n",
              "</style>\n",
              "<table border=\"1\" class=\"dataframe\">\n",
              "  <thead>\n",
              "    <tr style=\"text-align: right;\">\n",
              "      <th></th>\n",
              "      <th>category_body</th>\n",
              "      <th>category_foot</th>\n",
              "      <th>category_fragrance</th>\n",
              "      <th>category_hair</th>\n",
              "      <th>category_hand</th>\n",
              "      <th>category_makeup</th>\n",
              "      <th>category_men_fragrance</th>\n",
              "      <th>category_men_skincare</th>\n",
              "      <th>category_nail</th>\n",
              "      <th>category_skincare</th>\n",
              "      <th>category_tools</th>\n",
              "    </tr>\n",
              "  </thead>\n",
              "  <tbody>\n",
              "    <tr>\n",
              "      <th>0</th>\n",
              "      <td>0</td>\n",
              "      <td>0</td>\n",
              "      <td>0</td>\n",
              "      <td>0</td>\n",
              "      <td>0</td>\n",
              "      <td>0</td>\n",
              "      <td>0</td>\n",
              "      <td>0</td>\n",
              "      <td>0</td>\n",
              "      <td>0</td>\n",
              "      <td>1</td>\n",
              "    </tr>\n",
              "    <tr>\n",
              "      <th>1</th>\n",
              "      <td>0</td>\n",
              "      <td>0</td>\n",
              "      <td>0</td>\n",
              "      <td>0</td>\n",
              "      <td>0</td>\n",
              "      <td>0</td>\n",
              "      <td>0</td>\n",
              "      <td>0</td>\n",
              "      <td>0</td>\n",
              "      <td>1</td>\n",
              "      <td>0</td>\n",
              "    </tr>\n",
              "    <tr>\n",
              "      <th>2</th>\n",
              "      <td>0</td>\n",
              "      <td>0</td>\n",
              "      <td>1</td>\n",
              "      <td>0</td>\n",
              "      <td>0</td>\n",
              "      <td>0</td>\n",
              "      <td>0</td>\n",
              "      <td>0</td>\n",
              "      <td>0</td>\n",
              "      <td>0</td>\n",
              "      <td>0</td>\n",
              "    </tr>\n",
              "    <tr>\n",
              "      <th>3</th>\n",
              "      <td>0</td>\n",
              "      <td>0</td>\n",
              "      <td>0</td>\n",
              "      <td>1</td>\n",
              "      <td>0</td>\n",
              "      <td>0</td>\n",
              "      <td>0</td>\n",
              "      <td>0</td>\n",
              "      <td>0</td>\n",
              "      <td>0</td>\n",
              "      <td>0</td>\n",
              "    </tr>\n",
              "    <tr>\n",
              "      <th>4</th>\n",
              "      <td>1</td>\n",
              "      <td>0</td>\n",
              "      <td>0</td>\n",
              "      <td>0</td>\n",
              "      <td>0</td>\n",
              "      <td>0</td>\n",
              "      <td>0</td>\n",
              "      <td>0</td>\n",
              "      <td>0</td>\n",
              "      <td>0</td>\n",
              "      <td>0</td>\n",
              "    </tr>\n",
              "    <tr>\n",
              "      <th>...</th>\n",
              "      <td>...</td>\n",
              "      <td>...</td>\n",
              "      <td>...</td>\n",
              "      <td>...</td>\n",
              "      <td>...</td>\n",
              "      <td>...</td>\n",
              "      <td>...</td>\n",
              "      <td>...</td>\n",
              "      <td>...</td>\n",
              "      <td>...</td>\n",
              "      <td>...</td>\n",
              "    </tr>\n",
              "    <tr>\n",
              "      <th>995</th>\n",
              "      <td>0</td>\n",
              "      <td>0</td>\n",
              "      <td>1</td>\n",
              "      <td>0</td>\n",
              "      <td>0</td>\n",
              "      <td>0</td>\n",
              "      <td>0</td>\n",
              "      <td>0</td>\n",
              "      <td>0</td>\n",
              "      <td>0</td>\n",
              "      <td>0</td>\n",
              "    </tr>\n",
              "    <tr>\n",
              "      <th>996</th>\n",
              "      <td>1</td>\n",
              "      <td>0</td>\n",
              "      <td>0</td>\n",
              "      <td>0</td>\n",
              "      <td>0</td>\n",
              "      <td>0</td>\n",
              "      <td>0</td>\n",
              "      <td>0</td>\n",
              "      <td>0</td>\n",
              "      <td>0</td>\n",
              "      <td>0</td>\n",
              "    </tr>\n",
              "    <tr>\n",
              "      <th>997</th>\n",
              "      <td>0</td>\n",
              "      <td>1</td>\n",
              "      <td>0</td>\n",
              "      <td>0</td>\n",
              "      <td>0</td>\n",
              "      <td>0</td>\n",
              "      <td>0</td>\n",
              "      <td>0</td>\n",
              "      <td>0</td>\n",
              "      <td>0</td>\n",
              "      <td>0</td>\n",
              "    </tr>\n",
              "    <tr>\n",
              "      <th>998</th>\n",
              "      <td>0</td>\n",
              "      <td>0</td>\n",
              "      <td>0</td>\n",
              "      <td>0</td>\n",
              "      <td>0</td>\n",
              "      <td>1</td>\n",
              "      <td>0</td>\n",
              "      <td>0</td>\n",
              "      <td>0</td>\n",
              "      <td>0</td>\n",
              "      <td>0</td>\n",
              "    </tr>\n",
              "    <tr>\n",
              "      <th>999</th>\n",
              "      <td>0</td>\n",
              "      <td>0</td>\n",
              "      <td>0</td>\n",
              "      <td>0</td>\n",
              "      <td>0</td>\n",
              "      <td>0</td>\n",
              "      <td>0</td>\n",
              "      <td>1</td>\n",
              "      <td>0</td>\n",
              "      <td>0</td>\n",
              "      <td>0</td>\n",
              "    </tr>\n",
              "  </tbody>\n",
              "</table>\n",
              "<p>1000 rows × 11 columns</p>\n",
              "</div>"
            ],
            "text/plain": [
              "     category_body  category_foot  category_fragrance  category_hair  \\\n",
              "0                0              0                   0              0   \n",
              "1                0              0                   0              0   \n",
              "2                0              0                   1              0   \n",
              "3                0              0                   0              1   \n",
              "4                1              0                   0              0   \n",
              "..             ...            ...                 ...            ...   \n",
              "995              0              0                   1              0   \n",
              "996              1              0                   0              0   \n",
              "997              0              1                   0              0   \n",
              "998              0              0                   0              0   \n",
              "999              0              0                   0              0   \n",
              "\n",
              "     category_hand  category_makeup  category_men_fragrance  \\\n",
              "0                0                0                       0   \n",
              "1                0                0                       0   \n",
              "2                0                0                       0   \n",
              "3                0                0                       0   \n",
              "4                0                0                       0   \n",
              "..             ...              ...                     ...   \n",
              "995              0                0                       0   \n",
              "996              0                0                       0   \n",
              "997              0                0                       0   \n",
              "998              0                1                       0   \n",
              "999              0                0                       0   \n",
              "\n",
              "     category_men_skincare  category_nail  category_skincare  category_tools  \n",
              "0                        0              0                  0               1  \n",
              "1                        0              0                  1               0  \n",
              "2                        0              0                  0               0  \n",
              "3                        0              0                  0               0  \n",
              "4                        0              0                  0               0  \n",
              "..                     ...            ...                ...             ...  \n",
              "995                      0              0                  0               0  \n",
              "996                      0              0                  0               0  \n",
              "997                      0              0                  0               0  \n",
              "998                      0              0                  0               0  \n",
              "999                      1              0                  0               0  \n",
              "\n",
              "[1000 rows x 11 columns]"
            ]
          },
          "execution_count": 47,
          "metadata": {},
          "output_type": "execute_result"
        }
      ],
      "source": [
        "cat_dummies = pd.get_dummies(prod_data.category, dtype=int, prefix='category')\n",
        "cat_dummies"
      ]
    },
    {
      "cell_type": "markdown",
      "metadata": {},
      "source": [
        "I will use the indices of both the product data and the category dummies to join them both."
      ]
    },
    {
      "cell_type": "code",
      "execution_count": 48,
      "metadata": {
        "id": "W9hIGCZUqO36"
      },
      "outputs": [],
      "source": [
        "new_prod_data = pd.merge(prod_data, cat_dummies, left_index=True, right_index=True)\n",
        "new_prod_data.drop('category', inplace=True, axis=1)"
      ]
    },
    {
      "cell_type": "markdown",
      "metadata": {
        "id": "Q6xjfVANs7t_"
      },
      "source": [
        "Finally, before we merge our data together, let's convert the `category` column of the prod_data to dummy variables. This final result of our preprocessing can be seen below."
      ]
    },
    {
      "cell_type": "code",
      "execution_count": 49,
      "metadata": {
        "id": "pLcHAuEABO7m"
      },
      "outputs": [
        {
          "data": {
            "text/html": [
              "<div>\n",
              "<style scoped>\n",
              "    .dataframe tbody tr th:only-of-type {\n",
              "        vertical-align: middle;\n",
              "    }\n",
              "\n",
              "    .dataframe tbody tr th {\n",
              "        vertical-align: top;\n",
              "    }\n",
              "\n",
              "    .dataframe thead th {\n",
              "        text-align: right;\n",
              "    }\n",
              "</style>\n",
              "<table border=\"1\" class=\"dataframe\">\n",
              "  <thead>\n",
              "    <tr style=\"text-align: right;\">\n",
              "      <th></th>\n",
              "      <th>user_id</th>\n",
              "      <th>product_id</th>\n",
              "      <th>clicked</th>\n",
              "      <th>number_of_clicks_before</th>\n",
              "      <th>ordered_before</th>\n",
              "      <th>user_interest_body</th>\n",
              "      <th>user_interest_foot</th>\n",
              "      <th>user_interest_fragrance</th>\n",
              "      <th>user_interest_hair</th>\n",
              "      <th>user_interest_hand</th>\n",
              "      <th>...</th>\n",
              "      <th>category_foot</th>\n",
              "      <th>category_fragrance</th>\n",
              "      <th>category_hair</th>\n",
              "      <th>category_hand</th>\n",
              "      <th>category_makeup</th>\n",
              "      <th>category_men_fragrance</th>\n",
              "      <th>category_men_skincare</th>\n",
              "      <th>category_nail</th>\n",
              "      <th>category_skincare</th>\n",
              "      <th>category_tools</th>\n",
              "    </tr>\n",
              "  </thead>\n",
              "  <tbody>\n",
              "    <tr>\n",
              "      <th>0</th>\n",
              "      <td>104939</td>\n",
              "      <td>1212</td>\n",
              "      <td>0</td>\n",
              "      <td>2</td>\n",
              "      <td>1</td>\n",
              "      <td>1.0</td>\n",
              "      <td>1.0</td>\n",
              "      <td>1.0</td>\n",
              "      <td>1.0</td>\n",
              "      <td>1.0</td>\n",
              "      <td>...</td>\n",
              "      <td>0</td>\n",
              "      <td>0</td>\n",
              "      <td>1</td>\n",
              "      <td>0</td>\n",
              "      <td>0</td>\n",
              "      <td>0</td>\n",
              "      <td>0</td>\n",
              "      <td>0</td>\n",
              "      <td>0</td>\n",
              "      <td>0</td>\n",
              "    </tr>\n",
              "    <tr>\n",
              "      <th>1</th>\n",
              "      <td>104939</td>\n",
              "      <td>1212</td>\n",
              "      <td>0</td>\n",
              "      <td>2</td>\n",
              "      <td>1</td>\n",
              "      <td>1.0</td>\n",
              "      <td>0.0</td>\n",
              "      <td>0.0</td>\n",
              "      <td>0.0</td>\n",
              "      <td>0.0</td>\n",
              "      <td>...</td>\n",
              "      <td>0</td>\n",
              "      <td>0</td>\n",
              "      <td>1</td>\n",
              "      <td>0</td>\n",
              "      <td>0</td>\n",
              "      <td>0</td>\n",
              "      <td>0</td>\n",
              "      <td>0</td>\n",
              "      <td>0</td>\n",
              "      <td>0</td>\n",
              "    </tr>\n",
              "    <tr>\n",
              "      <th>2</th>\n",
              "      <td>104939</td>\n",
              "      <td>1212</td>\n",
              "      <td>0</td>\n",
              "      <td>2</td>\n",
              "      <td>1</td>\n",
              "      <td>0.0</td>\n",
              "      <td>1.0</td>\n",
              "      <td>0.0</td>\n",
              "      <td>0.0</td>\n",
              "      <td>0.0</td>\n",
              "      <td>...</td>\n",
              "      <td>0</td>\n",
              "      <td>0</td>\n",
              "      <td>1</td>\n",
              "      <td>0</td>\n",
              "      <td>0</td>\n",
              "      <td>0</td>\n",
              "      <td>0</td>\n",
              "      <td>0</td>\n",
              "      <td>0</td>\n",
              "      <td>0</td>\n",
              "    </tr>\n",
              "    <tr>\n",
              "      <th>3</th>\n",
              "      <td>104939</td>\n",
              "      <td>1212</td>\n",
              "      <td>0</td>\n",
              "      <td>2</td>\n",
              "      <td>1</td>\n",
              "      <td>0.0</td>\n",
              "      <td>0.0</td>\n",
              "      <td>0.0</td>\n",
              "      <td>0.0</td>\n",
              "      <td>1.0</td>\n",
              "      <td>...</td>\n",
              "      <td>0</td>\n",
              "      <td>0</td>\n",
              "      <td>1</td>\n",
              "      <td>0</td>\n",
              "      <td>0</td>\n",
              "      <td>0</td>\n",
              "      <td>0</td>\n",
              "      <td>0</td>\n",
              "      <td>0</td>\n",
              "      <td>0</td>\n",
              "    </tr>\n",
              "    <tr>\n",
              "      <th>4</th>\n",
              "      <td>104939</td>\n",
              "      <td>1212</td>\n",
              "      <td>0</td>\n",
              "      <td>2</td>\n",
              "      <td>1</td>\n",
              "      <td>1.0</td>\n",
              "      <td>1.0</td>\n",
              "      <td>1.0</td>\n",
              "      <td>1.0</td>\n",
              "      <td>0.0</td>\n",
              "      <td>...</td>\n",
              "      <td>0</td>\n",
              "      <td>0</td>\n",
              "      <td>1</td>\n",
              "      <td>0</td>\n",
              "      <td>0</td>\n",
              "      <td>0</td>\n",
              "      <td>0</td>\n",
              "      <td>0</td>\n",
              "      <td>0</td>\n",
              "      <td>0</td>\n",
              "    </tr>\n",
              "    <tr>\n",
              "      <th>...</th>\n",
              "      <td>...</td>\n",
              "      <td>...</td>\n",
              "      <td>...</td>\n",
              "      <td>...</td>\n",
              "      <td>...</td>\n",
              "      <td>...</td>\n",
              "      <td>...</td>\n",
              "      <td>...</td>\n",
              "      <td>...</td>\n",
              "      <td>...</td>\n",
              "      <td>...</td>\n",
              "      <td>...</td>\n",
              "      <td>...</td>\n",
              "      <td>...</td>\n",
              "      <td>...</td>\n",
              "      <td>...</td>\n",
              "      <td>...</td>\n",
              "      <td>...</td>\n",
              "      <td>...</td>\n",
              "      <td>...</td>\n",
              "      <td>...</td>\n",
              "    </tr>\n",
              "    <tr>\n",
              "      <th>54515</th>\n",
              "      <td>104939</td>\n",
              "      <td>1195</td>\n",
              "      <td>1</td>\n",
              "      <td>2</td>\n",
              "      <td>1</td>\n",
              "      <td>0.0</td>\n",
              "      <td>1.0</td>\n",
              "      <td>1.0</td>\n",
              "      <td>1.0</td>\n",
              "      <td>1.0</td>\n",
              "      <td>...</td>\n",
              "      <td>0</td>\n",
              "      <td>0</td>\n",
              "      <td>0</td>\n",
              "      <td>1</td>\n",
              "      <td>0</td>\n",
              "      <td>0</td>\n",
              "      <td>0</td>\n",
              "      <td>0</td>\n",
              "      <td>0</td>\n",
              "      <td>0</td>\n",
              "    </tr>\n",
              "    <tr>\n",
              "      <th>54516</th>\n",
              "      <td>104939</td>\n",
              "      <td>1195</td>\n",
              "      <td>1</td>\n",
              "      <td>2</td>\n",
              "      <td>1</td>\n",
              "      <td>1.0</td>\n",
              "      <td>0.0</td>\n",
              "      <td>1.0</td>\n",
              "      <td>0.0</td>\n",
              "      <td>0.0</td>\n",
              "      <td>...</td>\n",
              "      <td>0</td>\n",
              "      <td>0</td>\n",
              "      <td>0</td>\n",
              "      <td>1</td>\n",
              "      <td>0</td>\n",
              "      <td>0</td>\n",
              "      <td>0</td>\n",
              "      <td>0</td>\n",
              "      <td>0</td>\n",
              "      <td>0</td>\n",
              "    </tr>\n",
              "    <tr>\n",
              "      <th>54517</th>\n",
              "      <td>104939</td>\n",
              "      <td>1195</td>\n",
              "      <td>1</td>\n",
              "      <td>2</td>\n",
              "      <td>1</td>\n",
              "      <td>1.0</td>\n",
              "      <td>0.0</td>\n",
              "      <td>0.0</td>\n",
              "      <td>1.0</td>\n",
              "      <td>1.0</td>\n",
              "      <td>...</td>\n",
              "      <td>0</td>\n",
              "      <td>0</td>\n",
              "      <td>0</td>\n",
              "      <td>1</td>\n",
              "      <td>0</td>\n",
              "      <td>0</td>\n",
              "      <td>0</td>\n",
              "      <td>0</td>\n",
              "      <td>0</td>\n",
              "      <td>0</td>\n",
              "    </tr>\n",
              "    <tr>\n",
              "      <th>54518</th>\n",
              "      <td>104939</td>\n",
              "      <td>1195</td>\n",
              "      <td>1</td>\n",
              "      <td>2</td>\n",
              "      <td>1</td>\n",
              "      <td>0.0</td>\n",
              "      <td>0.0</td>\n",
              "      <td>1.0</td>\n",
              "      <td>1.0</td>\n",
              "      <td>1.0</td>\n",
              "      <td>...</td>\n",
              "      <td>0</td>\n",
              "      <td>0</td>\n",
              "      <td>0</td>\n",
              "      <td>1</td>\n",
              "      <td>0</td>\n",
              "      <td>0</td>\n",
              "      <td>0</td>\n",
              "      <td>0</td>\n",
              "      <td>0</td>\n",
              "      <td>0</td>\n",
              "    </tr>\n",
              "    <tr>\n",
              "      <th>54519</th>\n",
              "      <td>104939</td>\n",
              "      <td>1195</td>\n",
              "      <td>1</td>\n",
              "      <td>2</td>\n",
              "      <td>1</td>\n",
              "      <td>1.0</td>\n",
              "      <td>1.0</td>\n",
              "      <td>0.0</td>\n",
              "      <td>0.0</td>\n",
              "      <td>1.0</td>\n",
              "      <td>...</td>\n",
              "      <td>0</td>\n",
              "      <td>0</td>\n",
              "      <td>0</td>\n",
              "      <td>1</td>\n",
              "      <td>0</td>\n",
              "      <td>0</td>\n",
              "      <td>0</td>\n",
              "      <td>0</td>\n",
              "      <td>0</td>\n",
              "      <td>0</td>\n",
              "    </tr>\n",
              "  </tbody>\n",
              "</table>\n",
              "<p>54520 rows × 30 columns</p>\n",
              "</div>"
            ],
            "text/plain": [
              "       user_id  product_id  clicked  number_of_clicks_before  ordered_before  \\\n",
              "0       104939        1212        0                        2               1   \n",
              "1       104939        1212        0                        2               1   \n",
              "2       104939        1212        0                        2               1   \n",
              "3       104939        1212        0                        2               1   \n",
              "4       104939        1212        0                        2               1   \n",
              "...        ...         ...      ...                      ...             ...   \n",
              "54515   104939        1195        1                        2               1   \n",
              "54516   104939        1195        1                        2               1   \n",
              "54517   104939        1195        1                        2               1   \n",
              "54518   104939        1195        1                        2               1   \n",
              "54519   104939        1195        1                        2               1   \n",
              "\n",
              "       user_interest_body  user_interest_foot  user_interest_fragrance  \\\n",
              "0                     1.0                 1.0                      1.0   \n",
              "1                     1.0                 0.0                      0.0   \n",
              "2                     0.0                 1.0                      0.0   \n",
              "3                     0.0                 0.0                      0.0   \n",
              "4                     1.0                 1.0                      1.0   \n",
              "...                   ...                 ...                      ...   \n",
              "54515                 0.0                 1.0                      1.0   \n",
              "54516                 1.0                 0.0                      1.0   \n",
              "54517                 1.0                 0.0                      0.0   \n",
              "54518                 0.0                 0.0                      1.0   \n",
              "54519                 1.0                 1.0                      0.0   \n",
              "\n",
              "       user_interest_hair  user_interest_hand  ...  category_foot  \\\n",
              "0                     1.0                 1.0  ...              0   \n",
              "1                     0.0                 0.0  ...              0   \n",
              "2                     0.0                 0.0  ...              0   \n",
              "3                     0.0                 1.0  ...              0   \n",
              "4                     1.0                 0.0  ...              0   \n",
              "...                   ...                 ...  ...            ...   \n",
              "54515                 1.0                 1.0  ...              0   \n",
              "54516                 0.0                 0.0  ...              0   \n",
              "54517                 1.0                 1.0  ...              0   \n",
              "54518                 1.0                 1.0  ...              0   \n",
              "54519                 0.0                 1.0  ...              0   \n",
              "\n",
              "       category_fragrance  category_hair  category_hand  category_makeup  \\\n",
              "0                       0              1              0                0   \n",
              "1                       0              1              0                0   \n",
              "2                       0              1              0                0   \n",
              "3                       0              1              0                0   \n",
              "4                       0              1              0                0   \n",
              "...                   ...            ...            ...              ...   \n",
              "54515                   0              0              1                0   \n",
              "54516                   0              0              1                0   \n",
              "54517                   0              0              1                0   \n",
              "54518                   0              0              1                0   \n",
              "54519                   0              0              1                0   \n",
              "\n",
              "       category_men_fragrance  category_men_skincare  category_nail  \\\n",
              "0                           0                      0              0   \n",
              "1                           0                      0              0   \n",
              "2                           0                      0              0   \n",
              "3                           0                      0              0   \n",
              "4                           0                      0              0   \n",
              "...                       ...                    ...            ...   \n",
              "54515                       0                      0              0   \n",
              "54516                       0                      0              0   \n",
              "54517                       0                      0              0   \n",
              "54518                       0                      0              0   \n",
              "54519                       0                      0              0   \n",
              "\n",
              "       category_skincare  category_tools  \n",
              "0                      0               0  \n",
              "1                      0               0  \n",
              "2                      0               0  \n",
              "3                      0               0  \n",
              "4                      0               0  \n",
              "...                  ...             ...  \n",
              "54515                  0               0  \n",
              "54516                  0               0  \n",
              "54517                  0               0  \n",
              "54518                  0               0  \n",
              "54519                  0               0  \n",
              "\n",
              "[54520 rows x 30 columns]"
            ]
          },
          "execution_count": 49,
          "metadata": {},
          "output_type": "execute_result"
        }
      ],
      "source": [
        "master_data = pd.merge(click_data, user_data, on='user_id')\n",
        "master_data = pd.merge(master_data, new_prod_data, on='product_id')\n",
        "master_data = master_data.apply(pd.to_numeric)\n",
        "master_data"
      ]
    },
    {
      "cell_type": "markdown",
      "metadata": {
        "id": "O0UTo0cbiu7n"
      },
      "source": [
        "## Question 3: Model Generation and Evaluation"
      ]
    },
    {
      "cell_type": "markdown",
      "metadata": {
        "id": "v_Uhc90Giwl6"
      },
      "source": [
        "Please split the data into train and test sets with a ratio of 0.7:0.3. Build and optimize the classification models you learned in this course. (50 points)"
      ]
    },
    {
      "cell_type": "markdown",
      "metadata": {},
      "source": [
        "We'll begin by seperating the response variable from the explanatory variables. Then, we will reserve 30% of the data to be used for testing."
      ]
    },
    {
      "cell_type": "code",
      "execution_count": 50,
      "metadata": {
        "id": "5GUJhS4HvOmK"
      },
      "outputs": [],
      "source": [
        "X = master_data.drop('clicked', axis=1)\n",
        "y = master_data.clicked"
      ]
    },
    {
      "cell_type": "code",
      "execution_count": 51,
      "metadata": {
        "id": "WZZqiRPfvlEZ"
      },
      "outputs": [],
      "source": [
        "X_train, X_test, y_train, y_test = train_test_split(X, y, test_size=0.3, random_state=17)"
      ]
    },
    {
      "cell_type": "markdown",
      "metadata": {},
      "source": [
        "Let's train and evaluate 4 classification models. These models include `LogisticRegression`, `DecisionTreeClassifier`, `GaussianNB`, and `MLPClassifier`. We will first initialize the models, fit them using our training data, then predict labels for our testing data and measure the accuracy."
      ]
    },
    {
      "cell_type": "markdown",
      "metadata": {
        "id": "t1HDOgIA_xtv"
      },
      "source": [
        "### Logistic Regression"
      ]
    },
    {
      "cell_type": "code",
      "execution_count": 52,
      "metadata": {
        "id": "aoE2d5U8_S_0"
      },
      "outputs": [],
      "source": [
        "lr = LogisticRegression()"
      ]
    },
    {
      "cell_type": "code",
      "execution_count": 53,
      "metadata": {
        "id": "gtfWSOpt_UPg"
      },
      "outputs": [
        {
          "data": {
            "text/html": [
              "<style>#sk-container-id-1 {color: black;}#sk-container-id-1 pre{padding: 0;}#sk-container-id-1 div.sk-toggleable {background-color: white;}#sk-container-id-1 label.sk-toggleable__label {cursor: pointer;display: block;width: 100%;margin-bottom: 0;padding: 0.3em;box-sizing: border-box;text-align: center;}#sk-container-id-1 label.sk-toggleable__label-arrow:before {content: \"▸\";float: left;margin-right: 0.25em;color: #696969;}#sk-container-id-1 label.sk-toggleable__label-arrow:hover:before {color: black;}#sk-container-id-1 div.sk-estimator:hover label.sk-toggleable__label-arrow:before {color: black;}#sk-container-id-1 div.sk-toggleable__content {max-height: 0;max-width: 0;overflow: hidden;text-align: left;background-color: #f0f8ff;}#sk-container-id-1 div.sk-toggleable__content pre {margin: 0.2em;color: black;border-radius: 0.25em;background-color: #f0f8ff;}#sk-container-id-1 input.sk-toggleable__control:checked~div.sk-toggleable__content {max-height: 200px;max-width: 100%;overflow: auto;}#sk-container-id-1 input.sk-toggleable__control:checked~label.sk-toggleable__label-arrow:before {content: \"▾\";}#sk-container-id-1 div.sk-estimator input.sk-toggleable__control:checked~label.sk-toggleable__label {background-color: #d4ebff;}#sk-container-id-1 div.sk-label input.sk-toggleable__control:checked~label.sk-toggleable__label {background-color: #d4ebff;}#sk-container-id-1 input.sk-hidden--visually {border: 0;clip: rect(1px 1px 1px 1px);clip: rect(1px, 1px, 1px, 1px);height: 1px;margin: -1px;overflow: hidden;padding: 0;position: absolute;width: 1px;}#sk-container-id-1 div.sk-estimator {font-family: monospace;background-color: #f0f8ff;border: 1px dotted black;border-radius: 0.25em;box-sizing: border-box;margin-bottom: 0.5em;}#sk-container-id-1 div.sk-estimator:hover {background-color: #d4ebff;}#sk-container-id-1 div.sk-parallel-item::after {content: \"\";width: 100%;border-bottom: 1px solid gray;flex-grow: 1;}#sk-container-id-1 div.sk-label:hover label.sk-toggleable__label {background-color: #d4ebff;}#sk-container-id-1 div.sk-serial::before {content: \"\";position: absolute;border-left: 1px solid gray;box-sizing: border-box;top: 0;bottom: 0;left: 50%;z-index: 0;}#sk-container-id-1 div.sk-serial {display: flex;flex-direction: column;align-items: center;background-color: white;padding-right: 0.2em;padding-left: 0.2em;position: relative;}#sk-container-id-1 div.sk-item {position: relative;z-index: 1;}#sk-container-id-1 div.sk-parallel {display: flex;align-items: stretch;justify-content: center;background-color: white;position: relative;}#sk-container-id-1 div.sk-item::before, #sk-container-id-1 div.sk-parallel-item::before {content: \"\";position: absolute;border-left: 1px solid gray;box-sizing: border-box;top: 0;bottom: 0;left: 50%;z-index: -1;}#sk-container-id-1 div.sk-parallel-item {display: flex;flex-direction: column;z-index: 1;position: relative;background-color: white;}#sk-container-id-1 div.sk-parallel-item:first-child::after {align-self: flex-end;width: 50%;}#sk-container-id-1 div.sk-parallel-item:last-child::after {align-self: flex-start;width: 50%;}#sk-container-id-1 div.sk-parallel-item:only-child::after {width: 0;}#sk-container-id-1 div.sk-dashed-wrapped {border: 1px dashed gray;margin: 0 0.4em 0.5em 0.4em;box-sizing: border-box;padding-bottom: 0.4em;background-color: white;}#sk-container-id-1 div.sk-label label {font-family: monospace;font-weight: bold;display: inline-block;line-height: 1.2em;}#sk-container-id-1 div.sk-label-container {text-align: center;}#sk-container-id-1 div.sk-container {/* jupyter's `normalize.less` sets `[hidden] { display: none; }` but bootstrap.min.css set `[hidden] { display: none !important; }` so we also need the `!important` here to be able to override the default hidden behavior on the sphinx rendered scikit-learn.org. See: https://github.com/scikit-learn/scikit-learn/issues/21755 */display: inline-block !important;position: relative;}#sk-container-id-1 div.sk-text-repr-fallback {display: none;}</style><div id=\"sk-container-id-1\" class=\"sk-top-container\"><div class=\"sk-text-repr-fallback\"><pre>LogisticRegression()</pre><b>In a Jupyter environment, please rerun this cell to show the HTML representation or trust the notebook. <br />On GitHub, the HTML representation is unable to render, please try loading this page with nbviewer.org.</b></div><div class=\"sk-container\" hidden><div class=\"sk-item\"><div class=\"sk-estimator sk-toggleable\"><input class=\"sk-toggleable__control sk-hidden--visually\" id=\"sk-estimator-id-1\" type=\"checkbox\" checked><label for=\"sk-estimator-id-1\" class=\"sk-toggleable__label sk-toggleable__label-arrow\">LogisticRegression</label><div class=\"sk-toggleable__content\"><pre>LogisticRegression()</pre></div></div></div></div></div>"
            ],
            "text/plain": [
              "LogisticRegression()"
            ]
          },
          "execution_count": 53,
          "metadata": {},
          "output_type": "execute_result"
        }
      ],
      "source": [
        "lr.fit(X_train, y_train)"
      ]
    },
    {
      "cell_type": "code",
      "execution_count": 54,
      "metadata": {
        "id": "TZYS-6DK_XHJ"
      },
      "outputs": [
        {
          "data": {
            "text/plain": [
              "1.0"
            ]
          },
          "execution_count": 54,
          "metadata": {},
          "output_type": "execute_result"
        }
      ],
      "source": [
        "lr_test_pred = lr.predict(X_test)\n",
        "accuracy_score(y_test, lr_test_pred)"
      ]
    },
    {
      "cell_type": "markdown",
      "metadata": {
        "id": "DeVBA_pK_78Y"
      },
      "source": [
        "### Naive Bayes"
      ]
    },
    {
      "cell_type": "code",
      "execution_count": 55,
      "metadata": {
        "id": "QIiulSRz_7WG"
      },
      "outputs": [],
      "source": [
        "nb = GaussianNB()"
      ]
    },
    {
      "cell_type": "code",
      "execution_count": 56,
      "metadata": {
        "id": "UuLqtEncABwi"
      },
      "outputs": [
        {
          "data": {
            "text/html": [
              "<style>#sk-container-id-2 {color: black;}#sk-container-id-2 pre{padding: 0;}#sk-container-id-2 div.sk-toggleable {background-color: white;}#sk-container-id-2 label.sk-toggleable__label {cursor: pointer;display: block;width: 100%;margin-bottom: 0;padding: 0.3em;box-sizing: border-box;text-align: center;}#sk-container-id-2 label.sk-toggleable__label-arrow:before {content: \"▸\";float: left;margin-right: 0.25em;color: #696969;}#sk-container-id-2 label.sk-toggleable__label-arrow:hover:before {color: black;}#sk-container-id-2 div.sk-estimator:hover label.sk-toggleable__label-arrow:before {color: black;}#sk-container-id-2 div.sk-toggleable__content {max-height: 0;max-width: 0;overflow: hidden;text-align: left;background-color: #f0f8ff;}#sk-container-id-2 div.sk-toggleable__content pre {margin: 0.2em;color: black;border-radius: 0.25em;background-color: #f0f8ff;}#sk-container-id-2 input.sk-toggleable__control:checked~div.sk-toggleable__content {max-height: 200px;max-width: 100%;overflow: auto;}#sk-container-id-2 input.sk-toggleable__control:checked~label.sk-toggleable__label-arrow:before {content: \"▾\";}#sk-container-id-2 div.sk-estimator input.sk-toggleable__control:checked~label.sk-toggleable__label {background-color: #d4ebff;}#sk-container-id-2 div.sk-label input.sk-toggleable__control:checked~label.sk-toggleable__label {background-color: #d4ebff;}#sk-container-id-2 input.sk-hidden--visually {border: 0;clip: rect(1px 1px 1px 1px);clip: rect(1px, 1px, 1px, 1px);height: 1px;margin: -1px;overflow: hidden;padding: 0;position: absolute;width: 1px;}#sk-container-id-2 div.sk-estimator {font-family: monospace;background-color: #f0f8ff;border: 1px dotted black;border-radius: 0.25em;box-sizing: border-box;margin-bottom: 0.5em;}#sk-container-id-2 div.sk-estimator:hover {background-color: #d4ebff;}#sk-container-id-2 div.sk-parallel-item::after {content: \"\";width: 100%;border-bottom: 1px solid gray;flex-grow: 1;}#sk-container-id-2 div.sk-label:hover label.sk-toggleable__label {background-color: #d4ebff;}#sk-container-id-2 div.sk-serial::before {content: \"\";position: absolute;border-left: 1px solid gray;box-sizing: border-box;top: 0;bottom: 0;left: 50%;z-index: 0;}#sk-container-id-2 div.sk-serial {display: flex;flex-direction: column;align-items: center;background-color: white;padding-right: 0.2em;padding-left: 0.2em;position: relative;}#sk-container-id-2 div.sk-item {position: relative;z-index: 1;}#sk-container-id-2 div.sk-parallel {display: flex;align-items: stretch;justify-content: center;background-color: white;position: relative;}#sk-container-id-2 div.sk-item::before, #sk-container-id-2 div.sk-parallel-item::before {content: \"\";position: absolute;border-left: 1px solid gray;box-sizing: border-box;top: 0;bottom: 0;left: 50%;z-index: -1;}#sk-container-id-2 div.sk-parallel-item {display: flex;flex-direction: column;z-index: 1;position: relative;background-color: white;}#sk-container-id-2 div.sk-parallel-item:first-child::after {align-self: flex-end;width: 50%;}#sk-container-id-2 div.sk-parallel-item:last-child::after {align-self: flex-start;width: 50%;}#sk-container-id-2 div.sk-parallel-item:only-child::after {width: 0;}#sk-container-id-2 div.sk-dashed-wrapped {border: 1px dashed gray;margin: 0 0.4em 0.5em 0.4em;box-sizing: border-box;padding-bottom: 0.4em;background-color: white;}#sk-container-id-2 div.sk-label label {font-family: monospace;font-weight: bold;display: inline-block;line-height: 1.2em;}#sk-container-id-2 div.sk-label-container {text-align: center;}#sk-container-id-2 div.sk-container {/* jupyter's `normalize.less` sets `[hidden] { display: none; }` but bootstrap.min.css set `[hidden] { display: none !important; }` so we also need the `!important` here to be able to override the default hidden behavior on the sphinx rendered scikit-learn.org. See: https://github.com/scikit-learn/scikit-learn/issues/21755 */display: inline-block !important;position: relative;}#sk-container-id-2 div.sk-text-repr-fallback {display: none;}</style><div id=\"sk-container-id-2\" class=\"sk-top-container\"><div class=\"sk-text-repr-fallback\"><pre>GaussianNB()</pre><b>In a Jupyter environment, please rerun this cell to show the HTML representation or trust the notebook. <br />On GitHub, the HTML representation is unable to render, please try loading this page with nbviewer.org.</b></div><div class=\"sk-container\" hidden><div class=\"sk-item\"><div class=\"sk-estimator sk-toggleable\"><input class=\"sk-toggleable__control sk-hidden--visually\" id=\"sk-estimator-id-2\" type=\"checkbox\" checked><label for=\"sk-estimator-id-2\" class=\"sk-toggleable__label sk-toggleable__label-arrow\">GaussianNB</label><div class=\"sk-toggleable__content\"><pre>GaussianNB()</pre></div></div></div></div></div>"
            ],
            "text/plain": [
              "GaussianNB()"
            ]
          },
          "execution_count": 56,
          "metadata": {},
          "output_type": "execute_result"
        }
      ],
      "source": [
        "nb.fit(X_train, y_train)"
      ]
    },
    {
      "cell_type": "code",
      "execution_count": 57,
      "metadata": {
        "id": "MBWF7MFKADZv"
      },
      "outputs": [
        {
          "data": {
            "text/plain": [
              "1.0"
            ]
          },
          "execution_count": 57,
          "metadata": {},
          "output_type": "execute_result"
        }
      ],
      "source": [
        "nb_test_pred = nb.predict(X_test)\n",
        "accuracy_score(y_test, nb_test_pred)"
      ]
    },
    {
      "cell_type": "markdown",
      "metadata": {
        "id": "D-_yfIEp_1LW"
      },
      "source": [
        "### Decision Tree"
      ]
    },
    {
      "cell_type": "code",
      "execution_count": 58,
      "metadata": {
        "id": "z-u5zvAh_3Nk"
      },
      "outputs": [],
      "source": [
        "dt = DecisionTreeClassifier(max_depth=15, random_state=17)"
      ]
    },
    {
      "cell_type": "code",
      "execution_count": 59,
      "metadata": {
        "id": "e4J4Xj4PAeLo"
      },
      "outputs": [
        {
          "data": {
            "text/html": [
              "<style>#sk-container-id-3 {color: black;}#sk-container-id-3 pre{padding: 0;}#sk-container-id-3 div.sk-toggleable {background-color: white;}#sk-container-id-3 label.sk-toggleable__label {cursor: pointer;display: block;width: 100%;margin-bottom: 0;padding: 0.3em;box-sizing: border-box;text-align: center;}#sk-container-id-3 label.sk-toggleable__label-arrow:before {content: \"▸\";float: left;margin-right: 0.25em;color: #696969;}#sk-container-id-3 label.sk-toggleable__label-arrow:hover:before {color: black;}#sk-container-id-3 div.sk-estimator:hover label.sk-toggleable__label-arrow:before {color: black;}#sk-container-id-3 div.sk-toggleable__content {max-height: 0;max-width: 0;overflow: hidden;text-align: left;background-color: #f0f8ff;}#sk-container-id-3 div.sk-toggleable__content pre {margin: 0.2em;color: black;border-radius: 0.25em;background-color: #f0f8ff;}#sk-container-id-3 input.sk-toggleable__control:checked~div.sk-toggleable__content {max-height: 200px;max-width: 100%;overflow: auto;}#sk-container-id-3 input.sk-toggleable__control:checked~label.sk-toggleable__label-arrow:before {content: \"▾\";}#sk-container-id-3 div.sk-estimator input.sk-toggleable__control:checked~label.sk-toggleable__label {background-color: #d4ebff;}#sk-container-id-3 div.sk-label input.sk-toggleable__control:checked~label.sk-toggleable__label {background-color: #d4ebff;}#sk-container-id-3 input.sk-hidden--visually {border: 0;clip: rect(1px 1px 1px 1px);clip: rect(1px, 1px, 1px, 1px);height: 1px;margin: -1px;overflow: hidden;padding: 0;position: absolute;width: 1px;}#sk-container-id-3 div.sk-estimator {font-family: monospace;background-color: #f0f8ff;border: 1px dotted black;border-radius: 0.25em;box-sizing: border-box;margin-bottom: 0.5em;}#sk-container-id-3 div.sk-estimator:hover {background-color: #d4ebff;}#sk-container-id-3 div.sk-parallel-item::after {content: \"\";width: 100%;border-bottom: 1px solid gray;flex-grow: 1;}#sk-container-id-3 div.sk-label:hover label.sk-toggleable__label {background-color: #d4ebff;}#sk-container-id-3 div.sk-serial::before {content: \"\";position: absolute;border-left: 1px solid gray;box-sizing: border-box;top: 0;bottom: 0;left: 50%;z-index: 0;}#sk-container-id-3 div.sk-serial {display: flex;flex-direction: column;align-items: center;background-color: white;padding-right: 0.2em;padding-left: 0.2em;position: relative;}#sk-container-id-3 div.sk-item {position: relative;z-index: 1;}#sk-container-id-3 div.sk-parallel {display: flex;align-items: stretch;justify-content: center;background-color: white;position: relative;}#sk-container-id-3 div.sk-item::before, #sk-container-id-3 div.sk-parallel-item::before {content: \"\";position: absolute;border-left: 1px solid gray;box-sizing: border-box;top: 0;bottom: 0;left: 50%;z-index: -1;}#sk-container-id-3 div.sk-parallel-item {display: flex;flex-direction: column;z-index: 1;position: relative;background-color: white;}#sk-container-id-3 div.sk-parallel-item:first-child::after {align-self: flex-end;width: 50%;}#sk-container-id-3 div.sk-parallel-item:last-child::after {align-self: flex-start;width: 50%;}#sk-container-id-3 div.sk-parallel-item:only-child::after {width: 0;}#sk-container-id-3 div.sk-dashed-wrapped {border: 1px dashed gray;margin: 0 0.4em 0.5em 0.4em;box-sizing: border-box;padding-bottom: 0.4em;background-color: white;}#sk-container-id-3 div.sk-label label {font-family: monospace;font-weight: bold;display: inline-block;line-height: 1.2em;}#sk-container-id-3 div.sk-label-container {text-align: center;}#sk-container-id-3 div.sk-container {/* jupyter's `normalize.less` sets `[hidden] { display: none; }` but bootstrap.min.css set `[hidden] { display: none !important; }` so we also need the `!important` here to be able to override the default hidden behavior on the sphinx rendered scikit-learn.org. See: https://github.com/scikit-learn/scikit-learn/issues/21755 */display: inline-block !important;position: relative;}#sk-container-id-3 div.sk-text-repr-fallback {display: none;}</style><div id=\"sk-container-id-3\" class=\"sk-top-container\"><div class=\"sk-text-repr-fallback\"><pre>DecisionTreeClassifier(max_depth=15, random_state=17)</pre><b>In a Jupyter environment, please rerun this cell to show the HTML representation or trust the notebook. <br />On GitHub, the HTML representation is unable to render, please try loading this page with nbviewer.org.</b></div><div class=\"sk-container\" hidden><div class=\"sk-item\"><div class=\"sk-estimator sk-toggleable\"><input class=\"sk-toggleable__control sk-hidden--visually\" id=\"sk-estimator-id-3\" type=\"checkbox\" checked><label for=\"sk-estimator-id-3\" class=\"sk-toggleable__label sk-toggleable__label-arrow\">DecisionTreeClassifier</label><div class=\"sk-toggleable__content\"><pre>DecisionTreeClassifier(max_depth=15, random_state=17)</pre></div></div></div></div></div>"
            ],
            "text/plain": [
              "DecisionTreeClassifier(max_depth=15, random_state=17)"
            ]
          },
          "execution_count": 59,
          "metadata": {},
          "output_type": "execute_result"
        }
      ],
      "source": [
        "dt.fit(X_train, y_train)"
      ]
    },
    {
      "cell_type": "code",
      "execution_count": 60,
      "metadata": {
        "id": "Bc83Lt8NAgnp"
      },
      "outputs": [
        {
          "data": {
            "text/plain": [
              "1.0"
            ]
          },
          "execution_count": 60,
          "metadata": {},
          "output_type": "execute_result"
        }
      ],
      "source": [
        "dt_test_pred = dt.predict(X_test)\n",
        "accuracy_score(y_test, dt_test_pred)"
      ]
    },
    {
      "cell_type": "markdown",
      "metadata": {
        "id": "L6x8CvD0B0bK"
      },
      "source": [
        "### Neural Network"
      ]
    },
    {
      "cell_type": "code",
      "execution_count": 61,
      "metadata": {
        "id": "fs4szVqXB26g"
      },
      "outputs": [],
      "source": [
        "scaler = MinMaxScaler()"
      ]
    },
    {
      "cell_type": "code",
      "execution_count": 62,
      "metadata": {
        "id": "lxs0TTIWB6uy"
      },
      "outputs": [],
      "source": [
        "X_train_scaled = scaler.fit_transform(X_train)\n",
        "X_test_scaled = scaler.transform(X_test)"
      ]
    },
    {
      "cell_type": "code",
      "execution_count": 63,
      "metadata": {
        "id": "MuLwQq-TB8xx"
      },
      "outputs": [
        {
          "data": {
            "text/plain": [
              "array([[0.        , 0.        , 0.        , 0.        , 0.        ,\n",
              "        1.        , 1.        , 1.        , 1.        , 1.        ,\n",
              "        1.        , 1.        , 1.        , 1.        , 1.        ,\n",
              "        0.        , 0.07082153, 0.88302632, 0.        , 0.        ,\n",
              "        0.        , 0.        , 0.        , 0.        , 0.        ,\n",
              "        1.        , 0.        , 0.        , 0.        ],\n",
              "       [0.        , 0.09351145, 0.        , 0.        , 0.        ,\n",
              "        1.        , 1.        , 1.        , 1.        , 1.        ,\n",
              "        1.        , 1.        , 1.        , 1.        , 1.        ,\n",
              "        0.        , 0.96600567, 0.41022715, 0.        , 0.        ,\n",
              "        0.        , 1.        , 0.        , 0.        , 0.        ,\n",
              "        0.        , 0.        , 0.        , 0.        ],\n",
              "       [0.        , 1.        , 0.        , 0.        , 0.        ,\n",
              "        1.        , 1.        , 1.        , 1.        , 0.        ,\n",
              "        0.        , 0.        , 1.        , 0.        , 0.        ,\n",
              "        0.        , 1.        , 1.        , 0.        , 1.        ,\n",
              "        0.        , 0.        , 0.        , 0.        , 0.        ,\n",
              "        0.        , 0.        , 0.        , 0.        ]])"
            ]
          },
          "execution_count": 63,
          "metadata": {},
          "output_type": "execute_result"
        }
      ],
      "source": [
        "X_train_scaled[:3]\n",
        "X_test_scaled[:3]"
      ]
    },
    {
      "cell_type": "code",
      "execution_count": 64,
      "metadata": {
        "id": "YR-nK90ACD5O"
      },
      "outputs": [],
      "source": [
        "nn = MLPClassifier(solver='lbfgs', alpha=1e-5, hidden_layer_sizes=(10, 3), random_state=17)"
      ]
    },
    {
      "cell_type": "code",
      "execution_count": 65,
      "metadata": {
        "id": "l8VrFrc2CH60"
      },
      "outputs": [
        {
          "data": {
            "text/html": [
              "<style>#sk-container-id-4 {color: black;}#sk-container-id-4 pre{padding: 0;}#sk-container-id-4 div.sk-toggleable {background-color: white;}#sk-container-id-4 label.sk-toggleable__label {cursor: pointer;display: block;width: 100%;margin-bottom: 0;padding: 0.3em;box-sizing: border-box;text-align: center;}#sk-container-id-4 label.sk-toggleable__label-arrow:before {content: \"▸\";float: left;margin-right: 0.25em;color: #696969;}#sk-container-id-4 label.sk-toggleable__label-arrow:hover:before {color: black;}#sk-container-id-4 div.sk-estimator:hover label.sk-toggleable__label-arrow:before {color: black;}#sk-container-id-4 div.sk-toggleable__content {max-height: 0;max-width: 0;overflow: hidden;text-align: left;background-color: #f0f8ff;}#sk-container-id-4 div.sk-toggleable__content pre {margin: 0.2em;color: black;border-radius: 0.25em;background-color: #f0f8ff;}#sk-container-id-4 input.sk-toggleable__control:checked~div.sk-toggleable__content {max-height: 200px;max-width: 100%;overflow: auto;}#sk-container-id-4 input.sk-toggleable__control:checked~label.sk-toggleable__label-arrow:before {content: \"▾\";}#sk-container-id-4 div.sk-estimator input.sk-toggleable__control:checked~label.sk-toggleable__label {background-color: #d4ebff;}#sk-container-id-4 div.sk-label input.sk-toggleable__control:checked~label.sk-toggleable__label {background-color: #d4ebff;}#sk-container-id-4 input.sk-hidden--visually {border: 0;clip: rect(1px 1px 1px 1px);clip: rect(1px, 1px, 1px, 1px);height: 1px;margin: -1px;overflow: hidden;padding: 0;position: absolute;width: 1px;}#sk-container-id-4 div.sk-estimator {font-family: monospace;background-color: #f0f8ff;border: 1px dotted black;border-radius: 0.25em;box-sizing: border-box;margin-bottom: 0.5em;}#sk-container-id-4 div.sk-estimator:hover {background-color: #d4ebff;}#sk-container-id-4 div.sk-parallel-item::after {content: \"\";width: 100%;border-bottom: 1px solid gray;flex-grow: 1;}#sk-container-id-4 div.sk-label:hover label.sk-toggleable__label {background-color: #d4ebff;}#sk-container-id-4 div.sk-serial::before {content: \"\";position: absolute;border-left: 1px solid gray;box-sizing: border-box;top: 0;bottom: 0;left: 50%;z-index: 0;}#sk-container-id-4 div.sk-serial {display: flex;flex-direction: column;align-items: center;background-color: white;padding-right: 0.2em;padding-left: 0.2em;position: relative;}#sk-container-id-4 div.sk-item {position: relative;z-index: 1;}#sk-container-id-4 div.sk-parallel {display: flex;align-items: stretch;justify-content: center;background-color: white;position: relative;}#sk-container-id-4 div.sk-item::before, #sk-container-id-4 div.sk-parallel-item::before {content: \"\";position: absolute;border-left: 1px solid gray;box-sizing: border-box;top: 0;bottom: 0;left: 50%;z-index: -1;}#sk-container-id-4 div.sk-parallel-item {display: flex;flex-direction: column;z-index: 1;position: relative;background-color: white;}#sk-container-id-4 div.sk-parallel-item:first-child::after {align-self: flex-end;width: 50%;}#sk-container-id-4 div.sk-parallel-item:last-child::after {align-self: flex-start;width: 50%;}#sk-container-id-4 div.sk-parallel-item:only-child::after {width: 0;}#sk-container-id-4 div.sk-dashed-wrapped {border: 1px dashed gray;margin: 0 0.4em 0.5em 0.4em;box-sizing: border-box;padding-bottom: 0.4em;background-color: white;}#sk-container-id-4 div.sk-label label {font-family: monospace;font-weight: bold;display: inline-block;line-height: 1.2em;}#sk-container-id-4 div.sk-label-container {text-align: center;}#sk-container-id-4 div.sk-container {/* jupyter's `normalize.less` sets `[hidden] { display: none; }` but bootstrap.min.css set `[hidden] { display: none !important; }` so we also need the `!important` here to be able to override the default hidden behavior on the sphinx rendered scikit-learn.org. See: https://github.com/scikit-learn/scikit-learn/issues/21755 */display: inline-block !important;position: relative;}#sk-container-id-4 div.sk-text-repr-fallback {display: none;}</style><div id=\"sk-container-id-4\" class=\"sk-top-container\"><div class=\"sk-text-repr-fallback\"><pre>MLPClassifier(alpha=1e-05, hidden_layer_sizes=(10, 3), random_state=17,\n",
              "              solver=&#x27;lbfgs&#x27;)</pre><b>In a Jupyter environment, please rerun this cell to show the HTML representation or trust the notebook. <br />On GitHub, the HTML representation is unable to render, please try loading this page with nbviewer.org.</b></div><div class=\"sk-container\" hidden><div class=\"sk-item\"><div class=\"sk-estimator sk-toggleable\"><input class=\"sk-toggleable__control sk-hidden--visually\" id=\"sk-estimator-id-4\" type=\"checkbox\" checked><label for=\"sk-estimator-id-4\" class=\"sk-toggleable__label sk-toggleable__label-arrow\">MLPClassifier</label><div class=\"sk-toggleable__content\"><pre>MLPClassifier(alpha=1e-05, hidden_layer_sizes=(10, 3), random_state=17,\n",
              "              solver=&#x27;lbfgs&#x27;)</pre></div></div></div></div></div>"
            ],
            "text/plain": [
              "MLPClassifier(alpha=1e-05, hidden_layer_sizes=(10, 3), random_state=17,\n",
              "              solver='lbfgs')"
            ]
          },
          "execution_count": 65,
          "metadata": {},
          "output_type": "execute_result"
        }
      ],
      "source": [
        "nn.fit(X_train_scaled, y_train)"
      ]
    },
    {
      "cell_type": "code",
      "execution_count": 66,
      "metadata": {
        "id": "pqvSrtnNCMA_"
      },
      "outputs": [
        {
          "data": {
            "text/plain": [
              "1.0"
            ]
          },
          "execution_count": 66,
          "metadata": {},
          "output_type": "execute_result"
        }
      ],
      "source": [
        "nn_test_pred = nn.predict(X_test_scaled)\n",
        "accuracy_score(y_test, nn_test_pred)"
      ]
    },
    {
      "cell_type": "markdown",
      "metadata": {},
      "source": [
        "As we can see, all classifiers surprisingly predicted the labels for our testing data perfectly. All models returned a perfect accuracy score of 1.0 without any optimization needed."
      ]
    },
    {
      "cell_type": "markdown",
      "metadata": {
        "id": "Rb9cGNvWiyw0"
      },
      "source": [
        "## Question 4: Assessment and Evaluation"
      ]
    },
    {
      "cell_type": "markdown",
      "metadata": {
        "id": "pP4WZg5Ri2e-"
      },
      "source": [
        "Which model has the best performance? What have you learned from the models you built? (10 points)"
      ]
    },
    {
      "cell_type": "code",
      "execution_count": 67,
      "metadata": {
        "id": "9-plPVz0-KEY"
      },
      "outputs": [],
      "source": [
        "def model_eval(y_test, model_pred):\n",
        "  \"\"\"prints classification report, confusion matrix and Cohen's kappa score for input model\"\"\"\n",
        "  print('Classification Report')\n",
        "  print(classification_report(y_test, model_pred, target_names=['Not Clicked', 'Clicked']))\n",
        "  \n",
        "  print('\\n')\n",
        "  print('Confusion Matrix')\n",
        "  print(pd.DataFrame(confusion_matrix(y_test, model_pred), index=['Not Clicked Act', 'Clicked Act'], columns=['Not Clicked Pred', 'Clicked Pred']))  \n",
        "  print('\\n')\n",
        "  print('Cohen\\'s kappa score:', round(cohen_kappa_score(y_test, model_pred), 4))"
      ]
    },
    {
      "cell_type": "code",
      "execution_count": 68,
      "metadata": {
        "id": "rYKbhs6M83MR"
      },
      "outputs": [
        {
          "name": "stdout",
          "output_type": "stream",
          "text": [
            "Classification Report\n",
            "              precision    recall  f1-score   support\n",
            "\n",
            " Not Clicked       1.00      1.00      1.00     13048\n",
            "     Clicked       1.00      1.00      1.00      3308\n",
            "\n",
            "    accuracy                           1.00     16356\n",
            "   macro avg       1.00      1.00      1.00     16356\n",
            "weighted avg       1.00      1.00      1.00     16356\n",
            "\n",
            "\n",
            "\n",
            "Confusion Matrix\n",
            "                 Not Clicked Pred  Clicked Pred\n",
            "Not Clicked Act             13048             0\n",
            "Clicked Act                     0          3308\n",
            "\n",
            "\n",
            "Cohen's kappa score: 1.0\n"
          ]
        }
      ],
      "source": [
        "model_eval(y_test, lr_test_pred)"
      ]
    },
    {
      "cell_type": "code",
      "execution_count": 69,
      "metadata": {
        "id": "UnJHsqWs9Zdx"
      },
      "outputs": [
        {
          "name": "stdout",
          "output_type": "stream",
          "text": [
            "Classification Report\n",
            "              precision    recall  f1-score   support\n",
            "\n",
            " Not Clicked       1.00      1.00      1.00     13048\n",
            "     Clicked       1.00      1.00      1.00      3308\n",
            "\n",
            "    accuracy                           1.00     16356\n",
            "   macro avg       1.00      1.00      1.00     16356\n",
            "weighted avg       1.00      1.00      1.00     16356\n",
            "\n",
            "\n",
            "\n",
            "Confusion Matrix\n",
            "                 Not Clicked Pred  Clicked Pred\n",
            "Not Clicked Act             13048             0\n",
            "Clicked Act                     0          3308\n",
            "\n",
            "\n",
            "Cohen's kappa score: 1.0\n"
          ]
        }
      ],
      "source": [
        "model_eval(y_test, nb_test_pred)"
      ]
    },
    {
      "cell_type": "code",
      "execution_count": 70,
      "metadata": {
        "id": "DBXc6uCm9inK"
      },
      "outputs": [
        {
          "name": "stdout",
          "output_type": "stream",
          "text": [
            "Classification Report\n",
            "              precision    recall  f1-score   support\n",
            "\n",
            " Not Clicked       1.00      1.00      1.00     13048\n",
            "     Clicked       1.00      1.00      1.00      3308\n",
            "\n",
            "    accuracy                           1.00     16356\n",
            "   macro avg       1.00      1.00      1.00     16356\n",
            "weighted avg       1.00      1.00      1.00     16356\n",
            "\n",
            "\n",
            "\n",
            "Confusion Matrix\n",
            "                 Not Clicked Pred  Clicked Pred\n",
            "Not Clicked Act             13048             0\n",
            "Clicked Act                     0          3308\n",
            "\n",
            "\n",
            "Cohen's kappa score: 1.0\n"
          ]
        }
      ],
      "source": [
        "model_eval(y_test, dt_test_pred)"
      ]
    },
    {
      "cell_type": "code",
      "execution_count": 71,
      "metadata": {
        "id": "jxVtSVr-ipha"
      },
      "outputs": [
        {
          "name": "stdout",
          "output_type": "stream",
          "text": [
            "Classification Report\n",
            "              precision    recall  f1-score   support\n",
            "\n",
            " Not Clicked       1.00      1.00      1.00     13048\n",
            "     Clicked       1.00      1.00      1.00      3308\n",
            "\n",
            "    accuracy                           1.00     16356\n",
            "   macro avg       1.00      1.00      1.00     16356\n",
            "weighted avg       1.00      1.00      1.00     16356\n",
            "\n",
            "\n",
            "\n",
            "Confusion Matrix\n",
            "                 Not Clicked Pred  Clicked Pred\n",
            "Not Clicked Act             13048             0\n",
            "Clicked Act                     0          3308\n",
            "\n",
            "\n",
            "Cohen's kappa score: 1.0\n"
          ]
        }
      ],
      "source": [
        "model_eval(y_test, nn_test_pred)"
      ]
    },
    {
      "cell_type": "markdown",
      "metadata": {},
      "source": [
        "The outputs above display classification reports for each model, as well as confusion matrices and a cohen's kappa score. Just like the accuracy score, all metrics returned a perfect score of exactly 1. We can conclude that all models perform equally well compared to one another. It is worth noting, during our preprocessing of the data, it was unclear the benefit that `personal_interests` could serve for model training considering that it was one of the only text columns. Before converting `personal_interests` to dummies, I performed model training without the column present at all. The result of the models being trained on the data without the personal interests performed very poorly. Each model yielded an accuracy score around 65%. Once further preprocessing was applied to `personal_interests`, 11 features were added to the final data used for training. This step made a significant difference in the performance of the model. This leads us to believe a user's personal interests are amongst the most important features of the data. More generally, we see that increasing the number of relevant features in the data has the potential to increase model performance greatly. Overall, all of our models performed extremely well. Although the model was tested using never-before-seen data, the models would have to predict labels for an entire new dataset to rule out overfitting as a driver for the model's high performance.\n"
      ]
    }
  ],
  "metadata": {
    "colab": {
      "provenance": []
    },
    "kernelspec": {
      "display_name": "Python 3",
      "name": "python3"
    },
    "language_info": {
      "codemirror_mode": {
        "name": "ipython",
        "version": 3
      },
      "file_extension": ".py",
      "mimetype": "text/x-python",
      "name": "python",
      "nbconvert_exporter": "python",
      "pygments_lexer": "ipython3",
      "version": "3.11.4"
    }
  },
  "nbformat": 4,
  "nbformat_minor": 0
}
